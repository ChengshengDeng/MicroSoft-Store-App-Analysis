{
 "cells": [
  {
   "cell_type": "markdown",
   "metadata": {},
   "source": [
    "# MicroSoft Store App Analysis "
   ]
  },
  {
   "cell_type": "markdown",
   "metadata": {},
   "source": [
    "Microsoft Store (Digital) is a digital distribution platform owned by Microsoft serving as the unified distribution point for apps, console games, and digital videos (like App Store in Apple). Exploratory data analysis of user data always have revealed surprisingly useful insights about the products.  This notebook is an analysis for Microsoft Windows App Data. "
   ]
  },
  {
   "cell_type": "markdown",
   "metadata": {},
   "source": [
    "![](452212.jpg)"
   ]
  },
  {
   "cell_type": "markdown",
   "metadata": {},
   "source": [
    "In this notebook , we will see following content: \n",
    "* The distribution of the rating (ie, I want to see the rating score of most Apps) \n",
    "* Which category has the highest average rating ? \n",
    "* Which category is most popular ? \n",
    "* How is the distribution look like for paid APPS ? \n",
    "* Which is the most expensive App ? "
   ]
  },
  {
   "cell_type": "markdown",
   "metadata": {},
   "source": [
    "## Distribution of rating "
   ]
  },
  {
   "cell_type": "code",
   "execution_count": 75,
   "metadata": {},
   "outputs": [],
   "source": [
    "# Import some useful libraries \n",
    "import pandas as pd \n",
    "import numpy as np\n",
    "import matplotlib.pyplot as plt \n",
    "import seaborn as sns  \n",
    "%matplotlib inline \n",
    "import plotly.express as px \n",
    "import plotly.graph_objects as go"
   ]
  },
  {
   "cell_type": "code",
   "execution_count": 22,
   "metadata": {},
   "outputs": [
    {
     "data": {
      "text/html": [
       "        <script type=\"text/javascript\">\n",
       "        window.PlotlyConfig = {MathJaxConfig: 'local'};\n",
       "        if (window.MathJax) {MathJax.Hub.Config({SVG: {font: \"STIX-Web\"}});}\n",
       "        if (typeof require !== 'undefined') {\n",
       "        require.undef(\"plotly\");\n",
       "        requirejs.config({\n",
       "            paths: {\n",
       "                'plotly': ['https://cdn.plot.ly/plotly-latest.min']\n",
       "            }\n",
       "        });\n",
       "        require(['plotly'], function(Plotly) {\n",
       "            window._Plotly = Plotly;\n",
       "        });\n",
       "        }\n",
       "        </script>\n",
       "        "
      ]
     },
     "metadata": {},
     "output_type": "display_data"
    },
    {
     "data": {
      "text/html": [
       "        <script type=\"text/javascript\">\n",
       "        window.PlotlyConfig = {MathJaxConfig: 'local'};\n",
       "        if (window.MathJax) {MathJax.Hub.Config({SVG: {font: \"STIX-Web\"}});}\n",
       "        if (typeof require !== 'undefined') {\n",
       "        require.undef(\"plotly\");\n",
       "        requirejs.config({\n",
       "            paths: {\n",
       "                'plotly': ['https://cdn.plot.ly/plotly-latest.min']\n",
       "            }\n",
       "        });\n",
       "        require(['plotly'], function(Plotly) {\n",
       "            window._Plotly = Plotly;\n",
       "        });\n",
       "        }\n",
       "        </script>\n",
       "        "
      ]
     },
     "metadata": {},
     "output_type": "display_data"
    }
   ],
   "source": [
    "import chart_studio.plotly as py \n",
    "import cufflinks as cf \n",
    "from plotly.offline import download_plotlyjs, init_notebook_mode,iplot \n",
    "init_notebook_mode(connected= True) \n",
    "cf.go_offline() "
   ]
  },
  {
   "cell_type": "code",
   "execution_count": 9,
   "metadata": {},
   "outputs": [],
   "source": [
    "df = pd.read_csv('msft.csv',index_col = False)"
   ]
  },
  {
   "cell_type": "code",
   "execution_count": 10,
   "metadata": {},
   "outputs": [
    {
     "data": {
      "text/html": [
       "<div>\n",
       "<style scoped>\n",
       "    .dataframe tbody tr th:only-of-type {\n",
       "        vertical-align: middle;\n",
       "    }\n",
       "\n",
       "    .dataframe tbody tr th {\n",
       "        vertical-align: top;\n",
       "    }\n",
       "\n",
       "    .dataframe thead th {\n",
       "        text-align: right;\n",
       "    }\n",
       "</style>\n",
       "<table border=\"1\" class=\"dataframe\">\n",
       "  <thead>\n",
       "    <tr style=\"text-align: right;\">\n",
       "      <th></th>\n",
       "      <th>Name</th>\n",
       "      <th>Rating</th>\n",
       "      <th>No of people Rated</th>\n",
       "      <th>Category</th>\n",
       "      <th>Date</th>\n",
       "      <th>Price</th>\n",
       "    </tr>\n",
       "  </thead>\n",
       "  <tbody>\n",
       "    <tr>\n",
       "      <th>0</th>\n",
       "      <td>Dynamic Reader</td>\n",
       "      <td>3.5</td>\n",
       "      <td>268</td>\n",
       "      <td>Books</td>\n",
       "      <td>07-01-2014</td>\n",
       "      <td>Free</td>\n",
       "    </tr>\n",
       "    <tr>\n",
       "      <th>1</th>\n",
       "      <td>Chemistry, Organic Chemistry and Biochemistry-...</td>\n",
       "      <td>3.0</td>\n",
       "      <td>627</td>\n",
       "      <td>Books</td>\n",
       "      <td>08-01-2014</td>\n",
       "      <td>Free</td>\n",
       "    </tr>\n",
       "    <tr>\n",
       "      <th>2</th>\n",
       "      <td>BookViewer</td>\n",
       "      <td>3.5</td>\n",
       "      <td>593</td>\n",
       "      <td>Books</td>\n",
       "      <td>29-02-2016</td>\n",
       "      <td>Free</td>\n",
       "    </tr>\n",
       "    <tr>\n",
       "      <th>3</th>\n",
       "      <td>Brick Instructions</td>\n",
       "      <td>3.5</td>\n",
       "      <td>684</td>\n",
       "      <td>Books</td>\n",
       "      <td>30-01-2018</td>\n",
       "      <td>Free</td>\n",
       "    </tr>\n",
       "    <tr>\n",
       "      <th>4</th>\n",
       "      <td>Introduction to Python Programming by GoLearni...</td>\n",
       "      <td>2.0</td>\n",
       "      <td>634</td>\n",
       "      <td>Books</td>\n",
       "      <td>30-01-2018</td>\n",
       "      <td>Free</td>\n",
       "    </tr>\n",
       "  </tbody>\n",
       "</table>\n",
       "</div>"
      ],
      "text/plain": [
       "                                                Name  Rating  \\\n",
       "0                                     Dynamic Reader     3.5   \n",
       "1  Chemistry, Organic Chemistry and Biochemistry-...     3.0   \n",
       "2                                         BookViewer     3.5   \n",
       "3                                 Brick Instructions     3.5   \n",
       "4  Introduction to Python Programming by GoLearni...     2.0   \n",
       "\n",
       "   No of people Rated Category        Date Price  \n",
       "0                 268    Books  07-01-2014  Free  \n",
       "1                 627    Books  08-01-2014  Free  \n",
       "2                 593    Books  29-02-2016  Free  \n",
       "3                 684    Books  30-01-2018  Free  \n",
       "4                 634    Books  30-01-2018  Free  "
      ]
     },
     "execution_count": 10,
     "metadata": {},
     "output_type": "execute_result"
    }
   ],
   "source": [
    "df.head()"
   ]
  },
  {
   "cell_type": "code",
   "execution_count": 14,
   "metadata": {},
   "outputs": [
    {
     "data": {
      "image/png": "[encoded data removed]",
      "text/plain": [
       "<Figure size 432x288 with 1 Axes>"
      ]
     },
     "metadata": {
      "needs_background": "light"
     },
     "output_type": "display_data"
    }
   ],
   "source": [
    "df['Rating'].plot(kind = 'kde') \n",
    "plt.show() "
   ]
  },
  {
   "cell_type": "markdown",
   "metadata": {},
   "source": [
    "From this kernal density plot, I can see that the rating around 4 has the highest density. However, this plot is not clear if I want to know the rating distribution depends on category. "
   ]
  },
  {
   "cell_type": "code",
   "execution_count": 20,
   "metadata": {},
   "outputs": [
    {
     "data": {
      "application/vnd.plotly.v1+json": {
       "config": {
        "plotlyServerURL": "https://plot.ly"
       },
       "data": [
        {
         "domain": {
          "x": [
           0,
           1
          ],
          "y": [
           0,
           1
          ]
         },
         "hoverlabel": {
          "namelength": 0
         },
         "hovertemplate": "Rating=%{label}",
         "labels": [
          3.5,
          3,
          3.5,
          3.5,
          2,
          4.5,
          4.5,
          3,
          4,
          3.5,
          4,
          4,
          4,
          4,
          4.5,
          3.5,
          1,
          4.5,
          4,
          4,
          4.5,
          4,
          2.5,
          4.5,
          4.5,
          3,
          2.5,
          3.5,
          4.5,
          3,
          3.5,
          3.5,
          4,
          3,
          3.5,
          4.5,
          3,
          4.5,
          4,
          3,
          3,
          4.5,
          2.5,
          3,
          2.5,
          3.5,
          4,
          4,
          3.5,
          4.5,
          4,
          4.5,
          2.5,
          3.5,
          2.5,
          3,
          4,
          5,
          4.5,
          4.5,
          4.5,
          3,
          3.5,
          4,
          3.5,
          3,
          3,
          4.5,
          4.5,
          4,
          4.5,
          3.5,
          3.5,
          5,
          4.5,
          4,
          3.5,
          3.5,
          2.5,
          3,
          4,
          3.5,
          4.5,
          4.5,
          3.5,
          5,
          5,
          3.5,
          3.5,
          3.5,
          4,
          3.5,
          4.5,
          3,
          4,
          2.5,
          4,
          2,
          4,
          4.5,
          4,
          2,
          4,
          4,
          2.5,
          4,
          3.5,
          4.5,
          4,
          5,
          4,
          4,
          4,
          4.5,
          4.5,
          5,
          4.5,
          3.5,
          4,
          3.5,
          4.5,
          3,
          4,
          4,
          4,
          4.5,
          4.5,
          3,
          3.5,
          4.5,
          4,
          4,
          4,
          2.5,
          3.5,
          3.5,
          4,
          5,
          5,
          5,
          5,
          3.5,
          4.5,
          3.5,
          2.5,
          5,
          3,
          5,
          4.5,
          5,
          5,
          4,
          3.5,
          5,
          2,
          3.5,
          4,
          5,
          5,
          2.5,
          4.5,
          4,
          3.5,
          3.5,
          3.5,
          4.5,
          5,
          3.5,
          4.5,
          5,
          4.5,
          5,
          3.5,
          2.5,
          3.5,
          4.5,
          4.5,
          4.5,
          4,
          5,
          4.5,
          5,
          3.5,
          4,
          4.5,
          3,
          4,
          4.5,
          1,
          4,
          4.5,
          4.5,
          5,
          4.5,
          2,
          4.5,
          5,
          1.5,
          3,
          3,
          4,
          4,
          2.5,
          4.5,
          4.5,
          3,
          4.5,
          4,
          4,
          4.5,
          4.5,
          3,
          3.5,
          5,
          2.5,
          3.5,
          4,
          2.5,
          2.5,
          3,
          2.5,
          2,
          3.5,
          3,
          3,
          4.5,
          4.5,
          4,
          4,
          4,
          3.5,
          4.5,
          4.5,
          3,
          3.5,
          5,
          4,
          4,
          5,
          3.5,
          4.5,
          5,
          5,
          3,
          3,
          2.5,
          2.5,
          4,
          4,
          4,
          4.5,
          4,
          5,
          4.5,
          3.5,
          2.5,
          4.5,
          4,
          4.5,
          5,
          1,
          4,
          4,
          3.5,
          4,
          3.5,
          3.5,
          4.5,
          4.5,
          4.5,
          1,
          5,
          4,
          4,
          3,
          5,
          3.5,
          4,
          5,
          5,
          4.5,
          4,
          4,
          4.5,
          3,
          3,
          4.5,
          3.5,
          3.5,
          5,
          3.5,
          4.5,
          2,
          5,
          4.5,
          5,
          5,
          5,
          5,
          5,
          4.5,
          2,
          5,
          5,
          5,
          5,
          1,
          5,
          5,
          5,
          5,
          5,
          5,
          5,
          3,
          3.5,
          1,
          5,
          5,
          5,
          4,
          5,
          4.5,
          3.5,
          4.5,
          4.5,
          4.5,
          4,
          4,
          4,
          4,
          5,
          3,
          2.5,
          1.5,
          4,
          2.5,
          4.5,
          4,
          5,
          4,
          2,
          4,
          3,
          2.5,
          4,
          4.5,
          2,
          4.5,
          5,
          2,
          2,
          5,
          3,
          4,
          3,
          3,
          4,
          3,
          3,
          3,
          5,
          3.5,
          2.5,
          3.5,
          4,
          4,
          3,
          3.5,
          3.5,
          4,
          3,
          3,
          4,
          4.5,
          3.5,
          3.5,
          5,
          4.5,
          4,
          4.5,
          4.5,
          4.5,
          3.5,
          4.5,
          4.5,
          5,
          3.5,
          4.5,
          4,
          2,
          3.5,
          5,
          5,
          4,
          4,
          4.5,
          4,
          3,
          4,
          5,
          4.5,
          3.5,
          3,
          2.5,
          4.5,
          4,
          4.5,
          4.5,
          5,
          3,
          5,
          3,
          4.5,
          5,
          3.5,
          5,
          3.5,
          3.5,
          4,
          4.5,
          5,
          3.5,
          4.5,
          3,
          4.5,
          5,
          2.5,
          4,
          2.5,
          4,
          5,
          3,
          5,
          5,
          4.5,
          4,
          3.5,
          5,
          5,
          5,
          3.5,
          4,
          4,
          4,
          3.5,
          4.5,
          4,
          5,
          4.5,
          3.5,
          3,
          4,
          4.5,
          3,
          4.5,
          4,
          4.5,
          4,
          5,
          4.5,
          3.5,
          5,
          3.5,
          3,
          3.5,
          3.5,
          4,
          3,
          1,
          1,
          4,
          4.5,
          4.5,
          3.5,
          3,
          5,
          3.5,
          5,
          2.5,
          1,
          3.5,
          4,
          2,
          4,
          5,
          3.5,
          4.5,
          5,
          3.5,
          5,
          3,
          3,
          4.5,
          4,
          1,
          4.5,
          3.5,
          5,
          5,
          5,
          5,
          4,
          5,
          3,
          4.5,
          4.5,
          3.5,
          5,
          3.5,
          5,
          4.5,
          4.5,
          5,
          4,
          1,
          3,
          3,
          3.5,
          3,
          3,
          5,
          1,
          4,
          3.5,
          4,
          3,
          5,
          3,
          1,
          1,
          4,
          3.5,
          5,
          1,
          5,
          2,
          5,
          5,
          5,
          3.5,
          3.5,
          4.5,
          4.5,
          4.5,
          5,
          2,
          4.5,
          3,
          4.5,
          1,
          3,
          2.5,
          3,
          3,
          4,
          4.5,
          5,
          4.5,
          5,
          3,
          2,
          3,
          5,
          5,
          4,
          3,
          4,
          5,
          4.5,
          3,
          2,
          3.5,
          1,
          2.5,
          4,
          2.5,
          3,
          5,
          3.5,
          5,
          3.5,
          5,
          5,
          4,
          4,
          5,
          2,
          5,
          2.5,
          4.5,
          5,
          5,
          4.5,
          5,
          4,
          5,
          4,
          4.5,
          5,
          5,
          5,
          4.5,
          5,
          5,
          5,
          5,
          5,
          3.5,
          4,
          4.5,
          4,
          2.5,
          5,
          4,
          4,
          3.5,
          4,
          3.5,
          2,
          1,
          5,
          5,
          3.5,
          4,
          4,
          5,
          5,
          5,
          4.5,
          2,
          5,
          5,
          3.5,
          3.5,
          4.5,
          1,
          5,
          5,
          3.5,
          4.5,
          5,
          4.5,
          3,
          4.5,
          3,
          5,
          5,
          4.5,
          5,
          5,
          3,
          4.5,
          4,
          5,
          3.5,
          3.5,
          2.5,
          4,
          4.5,
          3.5,
          3,
          3,
          3.5,
          4.5,
          3.5,
          2.5,
          5,
          4,
          3,
          3.5,
          4,
          4.5,
          4,
          2,
          4.5,
          3,
          3.5,
          4.5,
          3.5,
          3.5,
          4,
          3,
          3.5,
          3,
          3,
          4,
          4,
          4,
          3,
          4,
          3.5,
          4,
          3,
          3.5,
          3,
          4,
          3.5,
          5,
          3.5,
          3.5,
          3.5,
          5,
          4,
          4,
          4.5,
          2.5,
          3.5,
          5,
          4.5,
          3,
          2.5,
          4.5,
          4.5,
          3.5,
          2.5,
          3,
          2.5,
          4,
          3.5,
          4,
          4.5,
          3,
          3.5,
          3,
          3.5,
          4.5,
          3,
          5,
          4,
          3,
          3.5,
          3,
          3,
          4,
          3.5,
          2.5,
          3.5,
          4,
          3,
          4.5,
          4,
          4.5,
          3.5,
          3.5,
          3.5,
          3,
          3.5,
          4.5,
          2,
          4.5,
          3.5,
          4.5,
          5,
          5,
          3.5,
          3.5,
          5,
          4,
          4.5,
          2.5,
          3.5,
          4.5,
          5,
          5,
          4.5,
          4.5,
          4,
          2.5,
          4,
          2.5,
          1,
          5,
          1,
          4,
          2,
          5,
          2.5,
          3,
          3,
          5,
          5,
          4.5,
          1,
          5,
          4,
          5,
          4,
          4,
          3,
          4,
          5,
          4.5,
          5,
          1,
          3,
          3.5,
          3.5,
          1.5,
          4.5,
          3.5,
          3,
          4.5,
          4,
          3,
          3.5,
          4.5,
          4,
          3.5,
          5,
          3.5,
          3.5,
          2.5,
          3,
          4,
          3,
          2.5,
          4.5,
          4,
          4,
          3.5,
          2.5,
          3.5,
          3.5,
          4,
          4,
          3.5,
          2.5,
          2.5,
          4,
          5,
          3,
          1,
          3,
          3,
          4.5,
          4,
          3,
          4.5,
          3,
          4.5,
          4,
          5,
          1,
          4.5,
          4,
          4,
          5,
          3.5,
          2.5,
          3,
          3,
          2.5,
          3,
          4,
          3.5,
          5,
          4,
          1,
          5,
          4,
          3,
          4,
          4,
          1.5,
          3.5,
          4.5,
          4,
          4,
          5,
          3.5,
          3.5,
          5,
          1,
          5,
          2,
          3.5,
          5,
          4,
          4.5,
          4,
          4,
          4,
          3.5,
          3.5,
          4,
          1,
          5,
          3.5,
          5,
          4,
          1.5,
          5,
          5,
          3.5,
          4.5,
          3,
          3.5,
          2.5,
          3,
          3.5,
          4,
          4,
          4,
          3.5,
          5,
          2.5,
          3,
          4,
          5,
          5,
          4,
          5,
          5,
          5,
          5,
          5,
          5,
          1,
          5,
          2,
          5,
          2.5,
          1,
          5,
          5,
          2.5,
          4.5,
          4.5,
          4,
          3.5,
          4,
          3.5,
          4,
          4,
          3.5,
          3,
          4,
          5,
          2.5,
          3,
          3.5,
          3.5,
          3.5,
          5,
          1,
          5,
          3,
          5,
          3,
          5,
          5,
          3.5,
          4,
          5,
          2,
          3.5,
          5,
          5,
          5,
          5,
          4,
          4.5,
          5,
          1,
          5,
          2.5,
          3,
          3.5,
          2.5,
          2.5,
          5,
          5,
          5,
          5,
          3,
          3.5,
          5,
          4.5,
          5,
          1,
          4,
          4.5,
          4,
          4,
          3,
          5,
          2.5,
          5,
          4,
          1,
          5,
          5,
          3,
          5,
          4.5,
          4,
          2.5,
          2.5,
          5,
          2,
          5,
          5,
          1,
          2,
          5,
          3.5,
          4.5,
          4.5,
          5,
          4,
          1,
          1,
          5,
          4,
          4,
          5,
          5,
          3.5,
          5,
          5,
          3.5,
          3.5,
          4,
          5,
          4,
          4,
          3.5,
          3,
          3.5,
          4.5,
          4,
          3,
          4,
          3,
          3.5,
          4,
          4.5,
          4,
          4.5,
          4.5,
          3.5,
          5,
          3.5,
          4,
          1.5,
          3,
          5,
          4,
          4,
          3.5,
          4.5,
          4.5,
          4,
          3.5,
          4.5,
          3,
          3.5,
          4.5,
          3,
          4,
          4.5,
          5,
          3.5,
          5,
          3.5,
          2,
          5,
          3.5,
          4,
          3.5,
          3,
          4.5,
          1,
          4,
          3,
          3.5,
          3,
          4.5,
          4.5,
          3,
          5,
          4,
          4,
          3.5,
          5,
          5,
          3,
          4.5,
          4.5,
          2.5,
          4.5,
          3.5,
          3,
          4,
          4,
          4.5,
          4,
          2,
          5,
          4,
          3.5,
          3.5,
          5,
          3.5,
          4,
          3.5,
          3,
          5,
          3.5,
          4.5,
          4,
          3.5,
          4,
          1,
          4,
          5,
          5,
          3,
          4,
          3.5,
          4,
          4,
          4.5,
          3.5,
          4,
          3,
          2.5,
          4,
          4,
          3.5,
          4,
          5,
          5,
          5,
          3,
          1.5,
          5,
          3,
          3,
          4.5,
          5,
          4.5,
          3,
          1.5,
          5,
          3.5,
          4,
          5,
          2.5,
          2.5,
          4,
          3.5,
          5,
          5,
          4.5,
          4,
          3.5,
          3.5,
          5,
          4,
          4.5,
          5,
          4,
          3,
          3.5,
          1,
          4,
          3,
          5,
          5,
          4.5,
          2,
          5,
          5,
          5,
          3.5,
          4,
          5,
          5,
          5,
          4.5,
          3.5,
          3.5,
          5,
          4,
          5,
          4,
          4.5,
          5,
          5,
          3.5,
          5,
          5,
          5,
          4.5,
          2.5,
          3.5,
          4,
          4.5,
          5,
          2.5,
          4,
          4,
          2.5,
          5,
          1,
          3.5,
          4.5,
          5,
          4.5,
          5,
          5,
          4,
          3.5,
          4,
          3.5,
          3,
          5,
          3.5,
          4,
          3,
          2.5,
          3.5,
          5,
          4,
          2.5,
          5,
          2.5,
          4,
          2.5,
          4.5,
          4,
          4.5,
          2.5,
          1,
          5,
          2.5,
          3.5,
          5,
          4,
          4,
          5,
          5,
          4,
          3.5,
          4,
          4,
          4,
          4.5,
          4,
          3,
          3.5,
          4.5,
          1,
          5,
          2.5,
          1,
          1,
          5,
          4,
          5,
          1,
          5,
          5,
          3.5,
          4.5,
          5,
          5,
          3.5,
          4.5,
          3.5,
          2,
          4.5,
          4.5,
          3.5,
          3.5,
          4,
          3.5,
          4.5,
          4,
          4.5,
          4,
          3.5,
          4.5,
          4.5,
          4,
          4.5,
          3.5,
          5,
          4.5,
          4.5,
          2.5,
          4,
          4,
          5,
          3.5,
          4,
          4,
          4,
          4,
          4,
          4.5,
          3,
          4,
          4.5,
          4,
          3.5,
          1.5,
          4.5,
          4.5,
          2.5,
          4,
          3,
          4,
          4.5,
          4,
          1.5,
          2,
          4,
          4.5,
          2,
          3,
          4.5,
          3.5,
          2.5,
          4,
          5,
          5,
          2.5,
          4.5,
          4.5,
          4.5,
          2.5,
          4.5,
          2,
          3.5,
          3,
          4.5,
          4.5,
          2,
          4.5,
          3,
          4,
          4.5,
          5,
          4,
          4,
          4,
          1.5,
          5,
          2.5,
          3.5,
          2.5,
          4.5,
          4.5,
          2.5,
          4,
          4,
          4.5,
          3.5,
          1.5,
          3.5,
          2,
          3.5,
          2.5,
          3,
          3,
          4.5,
          5,
          4,
          4.5,
          2.5,
          3.5,
          3,
          4,
          3,
          5,
          4.5,
          5,
          4,
          4.5,
          4,
          4,
          4.5,
          5,
          5,
          5,
          3,
          4,
          2,
          2,
          3.5,
          2.5,
          4,
          4.5,
          3.5,
          2.5,
          3,
          3.5,
          2.5,
          4,
          4,
          5,
          5,
          4,
          4.5,
          5,
          5,
          3.5,
          3,
          5,
          5,
          2.5,
          4,
          4,
          5,
          5,
          4.5,
          4,
          2.5,
          3.5,
          4,
          4.5,
          2.5,
          3.5,
          4,
          3.5,
          4,
          4,
          5,
          5,
          3.5,
          4,
          1,
          5,
          4,
          2,
          4,
          4,
          1,
          4,
          4,
          2.5,
          3,
          4.5,
          5,
          5,
          5,
          3.5,
          5,
          5,
          5,
          4,
          4.5,
          5,
          4.5,
          5,
          4.5,
          5,
          3.5,
          4,
          3.5,
          5,
          3,
          3,
          4,
          3.5,
          2,
          5,
          4,
          5,
          5,
          3.5,
          2,
          5,
          5,
          3.5,
          4,
          2.5,
          5,
          2.5,
          4,
          4.5,
          4.5,
          2.5,
          2,
          4.5,
          1.5,
          1,
          5,
          5,
          4,
          2.5,
          3,
          4.5,
          5,
          4.5,
          2.5,
          4,
          4.5,
          4.5,
          4.5,
          4,
          5,
          4.5,
          5,
          3,
          5,
          5,
          4,
          4,
          3.5,
          3.5,
          1,
          1,
          1,
          4.5,
          4.5,
          3,
          5,
          5,
          5,
          4.5,
          4,
          5,
          5,
          4.5,
          5,
          5,
          5,
          4.5,
          5,
          1,
          5,
          3,
          1,
          1,
          3.5,
          4.5,
          5,
          1,
          5,
          3,
          3.5,
          4,
          1,
          4,
          1,
          5,
          3.5,
          5,
          4.5,
          5,
          4.5,
          2,
          3,
          3.5,
          5,
          5,
          3,
          5,
          3,
          5,
          5,
          5,
          4,
          4.5,
          5,
          4.5,
          5,
          5,
          4,
          5,
          3,
          2.5,
          5,
          5,
          4,
          5,
          2.5,
          5,
          3.5,
          5,
          1,
          2.5,
          3,
          3.5,
          4.5,
          4.5,
          4.5,
          4,
          3,
          2.5,
          4.5,
          5,
          4.5,
          2,
          2.5,
          5,
          5,
          3,
          5,
          5,
          4,
          4.5,
          4.5,
          4.5,
          4.5,
          5,
          5,
          5,
          5,
          5,
          4.5,
          5,
          4.5,
          1.5,
          4.5,
          3.5,
          2,
          4.5,
          5,
          5,
          5,
          5,
          4,
          5,
          3.5,
          5,
          5,
          4.5,
          5,
          5,
          2,
          3.5,
          4.5,
          5,
          4,
          4.5,
          2.5,
          3,
          5,
          5,
          5,
          5,
          5,
          3,
          5,
          3.5,
          5,
          2,
          4.5,
          3,
          5,
          5,
          5,
          4,
          5,
          3,
          5,
          3,
          4.5,
          4,
          5,
          4,
          5,
          5,
          1,
          5,
          5,
          5,
          4,
          5,
          4,
          5,
          4.5,
          3.5,
          5,
          5,
          4,
          5,
          3.5,
          5,
          1,
          4.5,
          4,
          5,
          5,
          5,
          4.5,
          4,
          3,
          4.5,
          4.5,
          5,
          5,
          5,
          3.5,
          3.5,
          5,
          5,
          5,
          3.5,
          3,
          3,
          3.5,
          4,
          1.5,
          4,
          3.5,
          4.5,
          4.5,
          3,
          3.5,
          4.5,
          5,
          1,
          3.5,
          5,
          5,
          5,
          5,
          5,
          5,
          3.5,
          4,
          3.5,
          3.5,
          3,
          4.5,
          5,
          3.5,
          4,
          4,
          4,
          3,
          4,
          4.5,
          3.5,
          4,
          4,
          3.5,
          3.5,
          3.5,
          3.5,
          4,
          1.5,
          4.5,
          3.5,
          4,
          4.5,
          4,
          4,
          3.5,
          4,
          3,
          4,
          4,
          5,
          4.5,
          3.5,
          4.5,
          3.5,
          3,
          3.5,
          4.5,
          4,
          3.5,
          3,
          4,
          4,
          3,
          4,
          3.5,
          4,
          4.5,
          4.5,
          3,
          4.5,
          3.5,
          3,
          3.5,
          4,
          4,
          2.5,
          4.5,
          3.5,
          4,
          3,
          3.5,
          5,
          4.5,
          4,
          4,
          4.5,
          3.5,
          3,
          3,
          3.5,
          4,
          4,
          3.5,
          4.5,
          4.5,
          5,
          3.5,
          2.5,
          4,
          2.5,
          1,
          4,
          4,
          4,
          4,
          4.5,
          4,
          3.5,
          3.5,
          4.5,
          4.5,
          4,
          4,
          4,
          4,
          4.5,
          2.5,
          3.5,
          2.5,
          4,
          5,
          3,
          4,
          4.5,
          2,
          3.5,
          5,
          5,
          4,
          4.5,
          4,
          2,
          3.5,
          4,
          4,
          4,
          3.5,
          3.5,
          2,
          3.5,
          5,
          2.5,
          4.5,
          4,
          4,
          3,
          5,
          3,
          4,
          4.5,
          4.5,
          2.5,
          1,
          5,
          2.5,
          4,
          4,
          3,
          4,
          4.5,
          4.5,
          4,
          4,
          4.5,
          4,
          3.5,
          4,
          3.5,
          5,
          1,
          4,
          3,
          3.5,
          5,
          3.5,
          4,
          4.5,
          3,
          4,
          4.5,
          3.5,
          4,
          3.5,
          3.5,
          4,
          4.5,
          4,
          2.5,
          3.5,
          3.5,
          3.5,
          3,
          4.5,
          3.5,
          4,
          3,
          4,
          4,
          4,
          4,
          3,
          4.5,
          4,
          3.5,
          4.5,
          5,
          4,
          5,
          4.5,
          4,
          4,
          5,
          4,
          4,
          1,
          5,
          3,
          4.5,
          2,
          3.5,
          5,
          3.5,
          4,
          4,
          1,
          5,
          5,
          4,
          4.5,
          5,
          3.5,
          4,
          3.5,
          4.5,
          4.5,
          5,
          4.5,
          3,
          4.5,
          3,
          3.5,
          4,
          4,
          4,
          2.5,
          4.5,
          4,
          3.5,
          2,
          4.5,
          4.5,
          4.5,
          4,
          1,
          4.5,
          5,
          3,
          4,
          4,
          2.5,
          4.5,
          4.5,
          5,
          3,
          3.5,
          3.5,
          3,
          5,
          4,
          2.5,
          2.5,
          5,
          5,
          5,
          3,
          5,
          4.5,
          2.5,
          5,
          5,
          3,
          4.5,
          4,
          3.5,
          2.5,
          4.5,
          2,
          5,
          3.5,
          5,
          5,
          1,
          2,
          3,
          5,
          5,
          4,
          5,
          4.5,
          3.5,
          5,
          5,
          5,
          3,
          3.5,
          4.5,
          4,
          4.5,
          5,
          5,
          1,
          3.5,
          4.5,
          3.5,
          5,
          5,
          4.5,
          4.5,
          1.5,
          2.5,
          4.5,
          4,
          4,
          4,
          4.5,
          4.5,
          3.5,
          3.5,
          5,
          2,
          4.5,
          4.5,
          3.5,
          5,
          5,
          4.5,
          5,
          5,
          3,
          5,
          5,
          5,
          3,
          3,
          4.5,
          3,
          3,
          4,
          4.5,
          4.5,
          3.5,
          4,
          2.5,
          4,
          3,
          4.5,
          3.5,
          3.5,
          4,
          4.5,
          4,
          3.5,
          4,
          3.5,
          3,
          4.5,
          4.5,
          4,
          4,
          3.5,
          4,
          3.5,
          5,
          3,
          4.5,
          1.5,
          5,
          5,
          4.5,
          5,
          4.5,
          3.5,
          5,
          4,
          5,
          5,
          4.5,
          4,
          4,
          4,
          3,
          3,
          4.5,
          4,
          4,
          4,
          4,
          5,
          3.5,
          2.5,
          3.5,
          4,
          3.5,
          5,
          3,
          1.5,
          4,
          4,
          3.5,
          4,
          3.5,
          2,
          3.5,
          5,
          2.5,
          3,
          1,
          4.5,
          3.5,
          4,
          2.5,
          4,
          5,
          3,
          4,
          4,
          2.5,
          3,
          5,
          3.5,
          2.5,
          5,
          3,
          4.5,
          4,
          3,
          4.5,
          3,
          4.5,
          3.5,
          3,
          5,
          3,
          4,
          5,
          4.5,
          4,
          4.5,
          5,
          5,
          4,
          3.5,
          3.5,
          1,
          5,
          5,
          4,
          2.5,
          4,
          4,
          3.5,
          2,
          5,
          2.5,
          1,
          1,
          1,
          3,
          5,
          5,
          5,
          3,
          3,
          3.5,
          4,
          5,
          2.5,
          5,
          4.5,
          4,
          5,
          4,
          5,
          4.5,
          3.5,
          4,
          4.5,
          3.5,
          4,
          2.5,
          1,
          3,
          3.5,
          5,
          5,
          4.5,
          5,
          3,
          5,
          3,
          4,
          5,
          3,
          5,
          3,
          4,
          3,
          4,
          5,
          3.5,
          4,
          3,
          4,
          4.5,
          3.5,
          5,
          4.5,
          3.5,
          3.5,
          4,
          4,
          3.5,
          4,
          4.5,
          4,
          4.5,
          4.5,
          3.5,
          4,
          3.5,
          4,
          3.5,
          3,
          4.5,
          4,
          3,
          3,
          3,
          3,
          4,
          4,
          4,
          3,
          5,
          5,
          4,
          4,
          3.5,
          5,
          5,
          4,
          5,
          4,
          4.5,
          4.5,
          2,
          5,
          4,
          4,
          5,
          4.5,
          5,
          5,
          1,
          5,
          5,
          4,
          5,
          4,
          3,
          5,
          1.5,
          5,
          3.5,
          3.5,
          5,
          5,
          3,
          5,
          4,
          4.5,
          5,
          3.5,
          4.5,
          3,
          4,
          4,
          4.5,
          4,
          4.5,
          3,
          3.5,
          4,
          3.5,
          2.5,
          4.5,
          4.5,
          4.5,
          3.5,
          3.5,
          4,
          1.5,
          4,
          3.5,
          3.5,
          1.5,
          3,
          4,
          4.5,
          3.5,
          3.5,
          4.5,
          4,
          4.5,
          4,
          3.5,
          2.5,
          4.5,
          4.5,
          2.5,
          4,
          5,
          3.5,
          3.5,
          4,
          3.5,
          3.5,
          4,
          2.5,
          4,
          3,
          3.5,
          4,
          3.5,
          3.5,
          4,
          4,
          4.5,
          2,
          4,
          5,
          4,
          5,
          3.5,
          4,
          4,
          4.5,
          4,
          4,
          4,
          3,
          5,
          4,
          4,
          4,
          4,
          3,
          4.5,
          4,
          4,
          4,
          4.5,
          3.5,
          3.5,
          3,
          4,
          3.5,
          3.5,
          3.5,
          2.5,
          3.5,
          4,
          3,
          3.5,
          2,
          3.5,
          4,
          4,
          3,
          4.5,
          5,
          3,
          4,
          2.5,
          2,
          3,
          4,
          4.5,
          2.5,
          5,
          4,
          4,
          4,
          4,
          3.5,
          4.5,
          4,
          2,
          4.5,
          4.5,
          4,
          1,
          2,
          4.5,
          4.5,
          5,
          4,
          3,
          4,
          3.5,
          3.5,
          3,
          3,
          3.5,
          4.5,
          4.5,
          5,
          3.5,
          2.5,
          5,
          4,
          4.5,
          4.5,
          4,
          4,
          3.5,
          4,
          4,
          3.5,
          5,
          3.5,
          5,
          4,
          4,
          4,
          4.5,
          3,
          3,
          2,
          5,
          3,
          5,
          5,
          5,
          4.5,
          2.5,
          3,
          4,
          5,
          3,
          4,
          4,
          3.5,
          2,
          4,
          4,
          3.5,
          3,
          3.5,
          4,
          2,
          3,
          2,
          2,
          3.5,
          2,
          5,
          5,
          2,
          4,
          4,
          3,
          4,
          4,
          4,
          4.5,
          1,
          4,
          5,
          1,
          5,
          5,
          5,
          5,
          4.5,
          4.5,
          3,
          5,
          4.5,
          5,
          5,
          5,
          3,
          5,
          4.5,
          3.5,
          4.5,
          3,
          3,
          4.5,
          4.5,
          4,
          4.5,
          3.5,
          4,
          4,
          4,
          3,
          3.5,
          2.5,
          3,
          5,
          4,
          4,
          5,
          2,
          4,
          4.5,
          4,
          3,
          4.5,
          4,
          4,
          4,
          4.5,
          3.5,
          4,
          4,
          3.5,
          5,
          3.5,
          3.5,
          4,
          3.5,
          4.5,
          5,
          4,
          3,
          3,
          4.5,
          4,
          4.5,
          2,
          2.5,
          3,
          2,
          3,
          3.5,
          4.5,
          4,
          3,
          5,
          3,
          2,
          1,
          4.5,
          3,
          5,
          1,
          3,
          2.5,
          4,
          2.5,
          4.5,
          3.5,
          4,
          3,
          4.5,
          3.5,
          4,
          2.5,
          2.5,
          5,
          3.5,
          4,
          3,
          5,
          4.5,
          4,
          3.5,
          1,
          5,
          5,
          4,
          2,
          4,
          3,
          2.5,
          2,
          3.5,
          5,
          3,
          4,
          2.5,
          4.5,
          4,
          3.5,
          3,
          5,
          5,
          3,
          4,
          4.5,
          4,
          4.5,
          2,
          3.5,
          5,
          4,
          3,
          1,
          4,
          3,
          5,
          3,
          3.5,
          5,
          3,
          3,
          3,
          3,
          5,
          4.5,
          4.5,
          1,
          4,
          2.5,
          2.5,
          4,
          5,
          2,
          5,
          3.5,
          3.5,
          3,
          4.5,
          3.5,
          4,
          3.5,
          4,
          4,
          5,
          4,
          4.5,
          4,
          5,
          5,
          3.5,
          1,
          3,
          5,
          4.5,
          5,
          1,
          2.5,
          3,
          5,
          5,
          4,
          4,
          3.5,
          4.5,
          4,
          4,
          2.5,
          4,
          5,
          5,
          4.5,
          5,
          4,
          4,
          5,
          5,
          1,
          5,
          4.5,
          5,
          5,
          5,
          3,
          4.5,
          5,
          3,
          3,
          3,
          3,
          4.5,
          1,
          3,
          1,
          1,
          4,
          5,
          5,
          4.5,
          2.5,
          5,
          4.5,
          4,
          3,
          4.5,
          1,
          2.5,
          2.5,
          5,
          3.5,
          5,
          4,
          4.5,
          5,
          1.5,
          5,
          5,
          3.5,
          1.5,
          5,
          5,
          4,
          5,
          4,
          4,
          1.5,
          3.5,
          5,
          5,
          5,
          1,
          5,
          5,
          5,
          4,
          3.5,
          3.5,
          3,
          3.5,
          4.5,
          5,
          5,
          3,
          3,
          4,
          5,
          3,
          3.5,
          4,
          2.5,
          4,
          4.5,
          4.5,
          4,
          3,
          4,
          5,
          5,
          3.5,
          5,
          4.5,
          4,
          5,
          3,
          2,
          3,
          3,
          4.5,
          4.5,
          5,
          2.5,
          4.5,
          5,
          1,
          5,
          5,
          5,
          5,
          5,
          4,
          5,
          5,
          1.5,
          5,
          5,
          5,
          5,
          5,
          4.5,
          5,
          4,
          3.5,
          4.5,
          4,
          3,
          4.5,
          5,
          4.5,
          5,
          5,
          4,
          4,
          2,
          3.5,
          5,
          4,
          3.5,
          4,
          1.5,
          3.5,
          2,
          5,
          4,
          4,
          4,
          4.5,
          4,
          4.5,
          3.5,
          3.5,
          4,
          3.5,
          2.5,
          3.5,
          4,
          4,
          3.5,
          4.5,
          4,
          4.5,
          4,
          3.5,
          4,
          4.5,
          3.5,
          4,
          4,
          4,
          1,
          4,
          4,
          4.5,
          4,
          3.5,
          4,
          4.5,
          3.5,
          3.5,
          5,
          3.5,
          4,
          3.5,
          4,
          4.5,
          2,
          3.5,
          3.5,
          4,
          4,
          4.5,
          3,
          4,
          2,
          4.5,
          4.5,
          3.5,
          4.5,
          4,
          4.5,
          4.5,
          4,
          4,
          4,
          4,
          3.5,
          4.5,
          3.5,
          4.5,
          4,
          3,
          4,
          3,
          4,
          3.5,
          2,
          2.5,
          4,
          3,
          4,
          4,
          4,
          4,
          4,
          4.5,
          3.5,
          4.5,
          4,
          4.5,
          4.5,
          4,
          3.5,
          3.5,
          4.5,
          4.5,
          5,
          3.5,
          4,
          3,
          4,
          4.5,
          4.5,
          3.5,
          4.5,
          4.5,
          4,
          4,
          4,
          3.5,
          3,
          4,
          4.5,
          3.5,
          4,
          5,
          4,
          4.5,
          4.5,
          5,
          3,
          4.5,
          4,
          3,
          4,
          4.5,
          4,
          4,
          1,
          3,
          3,
          5,
          2.5,
          4.5,
          4.5,
          4,
          4,
          3.5,
          1,
          2.5,
          4.5,
          4,
          3.5,
          4,
          4,
          4.5,
          4,
          4.5,
          4,
          4,
          4.5,
          4.5,
          4,
          5,
          4.5,
          4,
          4.5,
          4,
          4,
          4,
          4,
          4,
          4.5,
          4,
          4,
          5,
          4.5,
          3.5,
          3.5,
          4.5,
          4.5,
          4,
          5,
          3,
          4,
          4.5,
          3.5,
          3.5,
          3.5,
          3,
          4,
          2.5,
          3,
          4.5,
          3,
          4,
          5,
          4.5,
          5,
          4,
          5,
          3.5,
          4.5,
          4.5,
          5,
          4,
          4.5,
          4.5,
          4,
          4,
          4,
          5,
          3,
          2,
          4.5,
          4.5,
          4.5,
          4.5,
          4,
          4,
          4.5,
          4.5,
          4.5,
          4,
          4,
          5,
          4,
          4.5,
          3.5,
          4.5,
          2,
          3,
          4,
          4,
          5,
          4.5,
          5,
          5,
          5,
          5,
          5,
          4,
          4.5,
          4.5,
          5,
          3.5,
          3,
          3,
          4.5,
          3,
          4.5,
          4,
          3.5,
          3.5,
          4,
          3.5,
          4,
          4.5,
          4,
          4,
          4,
          2.5,
          3.5,
          4.5,
          4,
          4,
          1,
          5,
          4,
          4,
          2,
          5,
          5,
          3,
          4,
          4,
          2.5,
          4,
          4,
          3.5,
          4.5,
          4.5,
          3,
          5,
          4,
          5,
          4.5,
          4,
          3,
          2,
          3.5,
          4.5,
          4.5,
          4,
          3.5,
          4.5,
          3.5,
          5,
          4,
          5,
          2.5,
          4,
          2.5,
          4.5,
          4,
          4,
          3,
          2.5,
          4,
          5,
          5,
          2,
          5,
          5,
          3.5,
          3,
          4,
          2.5,
          4,
          3.5,
          4,
          3.5,
          5,
          3.5,
          3.5,
          5,
          2.5,
          4.5,
          4.5,
          4.5,
          5,
          5,
          4,
          1.5,
          5,
          3.5,
          3.5,
          1,
          4,
          3,
          5,
          5,
          5,
          4,
          5,
          5,
          4.5,
          4,
          5,
          5,
          4.5,
          4,
          3,
          5,
          4,
          5,
          4,
          4,
          3,
          3.5,
          4,
          5,
          2,
          2.5,
          2.5,
          3,
          4,
          4.5,
          5,
          3.5,
          4,
          4.5,
          3,
          4,
          4.5,
          4,
          2.5,
          3,
          4.5,
          4.5,
          3,
          5,
          4,
          4.5,
          3.5,
          4.5,
          3,
          4,
          2.5,
          3.5,
          3.5,
          3.5,
          4.5,
          3,
          4,
          4,
          3.5,
          4,
          3.5,
          4,
          3.5,
          4.5,
          4.5,
          4.5,
          3,
          5,
          3.5,
          4.5,
          3,
          4,
          3,
          3.5,
          4,
          2.5,
          3.5,
          3.5,
          5,
          4.5,
          4,
          3.5,
          1.5,
          3,
          3,
          2.5,
          4,
          4,
          4,
          4.5,
          4.5,
          3.5,
          3.5,
          4.5,
          4,
          4,
          2.5,
          3,
          5,
          4,
          3.5,
          4.5,
          3,
          4.5,
          4.5,
          4,
          3,
          4.5,
          3.5,
          2,
          2,
          5,
          4,
          3.5,
          4.5,
          1.5,
          4,
          3.5,
          4,
          2.5,
          5,
          5,
          5,
          2,
          5,
          4.5,
          5,
          4,
          4,
          4,
          4.5,
          3,
          3.5,
          4.5,
          4,
          3.5,
          4.5,
          4.5,
          3,
          4.5,
          4.5,
          2.5,
          4.5,
          5,
          3,
          4.5,
          3,
          4,
          3.5,
          5,
          4.5,
          4,
          1,
          5,
          4,
          2.5,
          4,
          3,
          4.5,
          5,
          3,
          4,
          3.5,
          3.5,
          3,
          4.5,
          5,
          5,
          5,
          4.5,
          3.5,
          3.5,
          5,
          4,
          4,
          5,
          4.5,
          2.5,
          5,
          4.5,
          2,
          5,
          4,
          2,
          4.5,
          3.5,
          4,
          4,
          4,
          4.5,
          4.5,
          3,
          4,
          3.5,
          3,
          4,
          4,
          4,
          3.5,
          4,
          4,
          4.5,
          4.5,
          5,
          4,
          4.5,
          4,
          5,
          4.5,
          4.5,
          4.5,
          3.5,
          3,
          4.5,
          4,
          4.5,
          4,
          3.5,
          4,
          4.5,
          4.5,
          3.5,
          4.5,
          4.5,
          4,
          3.5,
          3,
          3.5,
          4,
          4,
          4,
          4,
          2.5,
          4.5,
          3.5,
          4.5,
          4.5,
          4,
          4,
          4.5,
          3.5,
          3.5,
          4,
          5,
          5,
          4,
          4.5,
          5,
          3.5,
          3,
          4,
          4.5,
          4,
          3.5,
          4.5,
          4.5,
          4,
          3.5,
          2,
          4.5,
          3,
          3.5,
          3,
          5,
          4,
          4,
          1,
          3.5,
          3,
          4,
          4,
          2.5,
          3.5,
          3,
          3,
          5,
          4,
          5,
          4.5,
          4,
          4,
          3,
          4,
          3.5,
          4,
          3.5,
          5,
          5,
          5,
          3.5,
          3.5,
          4,
          4,
          3,
          3,
          3,
          4,
          5,
          3,
          4,
          4.5,
          2,
          5,
          4,
          2.5,
          4.5,
          4,
          4,
          4,
          1,
          3,
          5,
          5,
          2.5,
          3.5,
          4,
          3.5,
          2.5,
          4,
          3,
          3,
          4.5,
          3.5,
          3.5,
          5,
          4.5,
          2,
          5,
          2.5,
          2.5,
          3.5,
          4.5,
          5,
          1,
          3,
          5,
          4,
          5,
          3,
          4.5,
          2.5,
          2,
          4,
          3.5,
          3.5,
          1,
          3,
          5,
          3.5,
          2,
          5,
          4.5,
          5,
          3,
          4,
          5,
          4.5,
          5,
          2,
          3,
          2.5,
          3.5,
          4.5,
          3.5,
          4.5,
          4.5,
          4.5,
          4.5,
          3.5,
          3.5,
          4.5,
          3,
          4,
          5,
          4.5,
          5,
          5,
          3,
          4.5,
          4,
          3.5,
          3.5,
          4.5,
          3,
          5,
          3.5,
          5,
          4,
          2.5,
          4,
          3,
          4.5,
          1,
          5,
          5,
          3,
          5,
          5,
          4.5,
          4.5,
          3.5,
          4,
          3.5,
          3.5,
          2.5,
          4.5,
          4,
          5,
          3.5,
          5,
          2.5,
          5,
          5,
          4,
          3.5,
          2.5,
          2,
          3.5,
          2,
          4,
          4.5,
          3.5,
          5,
          5,
          2.5,
          3.5,
          4.5,
          4,
          4,
          5,
          4,
          4,
          3.5,
          5,
          5,
          3,
          4,
          4.5,
          5,
          5,
          4.5,
          3.5,
          4,
          4.5,
          5,
          4.5,
          4,
          5,
          3.5,
          3.5,
          3.5,
          3,
          3,
          4,
          3,
          4,
          4,
          4.5,
          3,
          4,
          1,
          4,
          4,
          5,
          3.5,
          3,
          2.5,
          3.5,
          4,
          4.5,
          4.5,
          4,
          3,
          5,
          5,
          5,
          4,
          5,
          3,
          5,
          5,
          4.5,
          5,
          3,
          5,
          3.5,
          3.5,
          4.5,
          2.5,
          5,
          4,
          2,
          3,
          4,
          5,
          2.5,
          5,
          4,
          3.5,
          5,
          4,
          3.5,
          4,
          1.5,
          4,
          4,
          4,
          4,
          4,
          3.5,
          2.5,
          5,
          2.5,
          4.5,
          4.5,
          4,
          4,
          4.5,
          3,
          3.5,
          5,
          3,
          4.5,
          3,
          3.5,
          3.5,
          4.5,
          3.5,
          3,
          3,
          3,
          4,
          4,
          3.5,
          2.5,
          4.5,
          4,
          3,
          3.5,
          2.5,
          2.5,
          3,
          3,
          3,
          3.5,
          5,
          3,
          3.5,
          4.5,
          3,
          3,
          4.5,
          4,
          4,
          4,
          3.5,
          2,
          4,
          4.5,
          4,
          3.5,
          2,
          2,
          3.5,
          5,
          4,
          3.5,
          2,
          3.5,
          3,
          4,
          4,
          5,
          3.5,
          4,
          2,
          4,
          2,
          2.5,
          3.5,
          3,
          3,
          4.5,
          5,
          4.5,
          3,
          4,
          2.5,
          4,
          1,
          3,
          4.5,
          5,
          4,
          4,
          4,
          1.5,
          3,
          1.5,
          1.5,
          2.5,
          3,
          3,
          3.5,
          3.5,
          4,
          1,
          3.5,
          5,
          4,
          4,
          2.5,
          3,
          4,
          2,
          3,
          4,
          5,
          5,
          1,
          4,
          5,
          4.5,
          5,
          5,
          5,
          4.5,
          5,
          3,
          4.5,
          4,
          3,
          3.5,
          3.5,
          4,
          4,
          4,
          4,
          4,
          3.5,
          4.5,
          3.5,
          4,
          4.5,
          2.5,
          4.5,
          2.5,
          4.5,
          3.5,
          3,
          3,
          2.5,
          3,
          4,
          4.5,
          4,
          4.5,
          4,
          3.5,
          3,
          4.5,
          4,
          3.5,
          3.5,
          3.5,
          4,
          2.5,
          3,
          3.5,
          3.5,
          4.5,
          4,
          3.5,
          4,
          3,
          3.5,
          4.5,
          3,
          4,
          4,
          3.5,
          4.5,
          4,
          4,
          4,
          3,
          3.5,
          4.5,
          4.5,
          4,
          4.5,
          2.5,
          4,
          4,
          3,
          4.5,
          3,
          1.5,
          4.5,
          4,
          3.5,
          3,
          4.5,
          2.5,
          3.5,
          4.5,
          4,
          4,
          5,
          4.5,
          2.5,
          4.5,
          3.5,
          4,
          3.5,
          3,
          3,
          5,
          2.5,
          4.5,
          3.5,
          3,
          4.5,
          5,
          4.5,
          2,
          4,
          5,
          4.5,
          3.5,
          3.5,
          3,
          3.5,
          3,
          2,
          3,
          3.5,
          4.5,
          4,
          3.5,
          3.5,
          4.5,
          3.5,
          4.5,
          3,
          4.5,
          4,
          4,
          2.5,
          4.5,
          3.5,
          4,
          4.5,
          4,
          3.5,
          4,
          4,
          4,
          4,
          3.5,
          4,
          1,
          4.5,
          3,
          4,
          3.5,
          3.5,
          4.5,
          3.5,
          3,
          3.5,
          5,
          3.5,
          3.5,
          3,
          4,
          3.5,
          4,
          4,
          4.5,
          3.5,
          4.5,
          4,
          3,
          3.5,
          3.5,
          3.5,
          4,
          4,
          3.5,
          4,
          5,
          5,
          2.5,
          4.5,
          3.5,
          4,
          3.5,
          4.5,
          3,
          5,
          3.5,
          4.5,
          3.5,
          2.5,
          4,
          4,
          4.5,
          4,
          3,
          3.5,
          4,
          4,
          4.5,
          4,
          5,
          3.5,
          4,
          4.5,
          4,
          4,
          3,
          4,
          3.5,
          4,
          3,
          3,
          2.5,
          3,
          3.5,
          4,
          4,
          2.5,
          4,
          5,
          3.5,
          4,
          3,
          4,
          3.5,
          3,
          3.5,
          4,
          2.5,
          5,
          4,
          3,
          3,
          3.5,
          4.5,
          4.5,
          4,
          4,
          3,
          4,
          3.5,
          4,
          4,
          3.5,
          4,
          1.5,
          2.5,
          4.5,
          3.5,
          2.5,
          3.5,
          4,
          2,
          4,
          2,
          2.5,
          4,
          4.5,
          4.5,
          4,
          4.5,
          3,
          3.5,
          2.5,
          4,
          3.5,
          4.5,
          3.5,
          4,
          4,
          3.5,
          3.5,
          3.5,
          4,
          4,
          4,
          4,
          4,
          4.5,
          4,
          3,
          4,
          4,
          4.5,
          3.5,
          5,
          4.5,
          4,
          4,
          4,
          4.5,
          4.5,
          4,
          3.5,
          3.5,
          4,
          5,
          4.5,
          3,
          2,
          3.5,
          4,
          4,
          4,
          4,
          3.5,
          4,
          4,
          3.5,
          3,
          4,
          5,
          4,
          1.5,
          3.5,
          4.5,
          1,
          3.5,
          5,
          3,
          4.5,
          4,
          3,
          3.5,
          3,
          4.5,
          4,
          4,
          4.5,
          3,
          3,
          3.5,
          4.5,
          4.5,
          2,
          2.5,
          3,
          1,
          5,
          4,
          4,
          4,
          4,
          5,
          1,
          4,
          5,
          4,
          4.5,
          3,
          4.5,
          4,
          5,
          3.5,
          4,
          4,
          4,
          4,
          4.5,
          4.5,
          4,
          4,
          4.5,
          3,
          3.5,
          3.5,
          3,
          4,
          2,
          5,
          5,
          5,
          5,
          4,
          4.5,
          3,
          5,
          4.5,
          5,
          2.5,
          4,
          3.5,
          4,
          5,
          3.5,
          3.5,
          3.5,
          4,
          3.5,
          3.5,
          4,
          4,
          3.5,
          4.5,
          3,
          4,
          5,
          2.5,
          4,
          4.5,
          1,
          3,
          4.5,
          3.5,
          1,
          4,
          3,
          4.5,
          4.5,
          2,
          5,
          4,
          4,
          4.5,
          5,
          3,
          2.5,
          1,
          5,
          4,
          3.5,
          3.5,
          4,
          4.5,
          2,
          3,
          3.5,
          4.5,
          2.5,
          4.5,
          4,
          3.5,
          5,
          3,
          3,
          4.5,
          1.5,
          4,
          3,
          5,
          4,
          2.5,
          2,
          4.5,
          4.5,
          4,
          4.5,
          5,
          5,
          3,
          5,
          3,
          5,
          4.5,
          3.5,
          3,
          4.5,
          4,
          4,
          4,
          4.5,
          4,
          4,
          3,
          2,
          2.5,
          3.5,
          3.5,
          4,
          4,
          4,
          4,
          3.5,
          4,
          4,
          4.5,
          1.5,
          4,
          3,
          2.5,
          3.5,
          3.5,
          4,
          3,
          3.5,
          4.5,
          4,
          4,
          4,
          3.5,
          3.5,
          3.5,
          4,
          4,
          4.5,
          4,
          4,
          3,
          4.5,
          4.5,
          4.5,
          4,
          4,
          4.5,
          3,
          4.5,
          4.5,
          4.5,
          4,
          4.5,
          4.5,
          3.5,
          4.5,
          4.5,
          3.5,
          4.5,
          4.5,
          3.5,
          4.5,
          4.5,
          4,
          4,
          4,
          3.5,
          3,
          3,
          5,
          4,
          5,
          4,
          4,
          4.5,
          4,
          3.5,
          2,
          4,
          4.5,
          4,
          3,
          5,
          4,
          4,
          4,
          3.5,
          4,
          4,
          4,
          3,
          4,
          4,
          3,
          4.5,
          5,
          5,
          4,
          2.5,
          4.5,
          4,
          4,
          4.5,
          5,
          5,
          4.5,
          3,
          1.5,
          4,
          1,
          3.5,
          4.5,
          4.5,
          1,
          4.5,
          2,
          4,
          4,
          3,
          2,
          2,
          4.5,
          5,
          5,
          4.5,
          3.5,
          2.5,
          4,
          5,
          3,
          3.5,
          4,
          5,
          3.5,
          3.5,
          3.5,
          4,
          4,
          3,
          3.5,
          3.5,
          4,
          4.5,
          4,
          4,
          4,
          2,
          4,
          2.5,
          5,
          5,
          4.5,
          2.5,
          4,
          4,
          5,
          3,
          3,
          4.5,
          1,
          4.5,
          3,
          5,
          5,
          4,
          5,
          4.5,
          4,
          3,
          3,
          4.5,
          5,
          1,
          4.5,
          3,
          4.5,
          3,
          5,
          4.5,
          3.5,
          1.5,
          3.5,
          3,
          4,
          5,
          4.5,
          3,
          5,
          4.5,
          3.5,
          2.5,
          5,
          5,
          3,
          3.5,
          5,
          5,
          4,
          2.5,
          4.5,
          1.5,
          4.5,
          5,
          5,
          4,
          5,
          4,
          4.5,
          4.5,
          3.5,
          3.5,
          5,
          4.5,
          4,
          4,
          3,
          4,
          3,
          4.5,
          5,
          3.5,
          4,
          2.5,
          5,
          2.5,
          4.5,
          3,
          5,
          5,
          1,
          5,
          3,
          5,
          2.5,
          4,
          4.5,
          4,
          3.5,
          3.5,
          4.5,
          3,
          3.5,
          5,
          5,
          1,
          4,
          4,
          4,
          1,
          2,
          4,
          4,
          3,
          4,
          2,
          3.5,
          2.5,
          5,
          3,
          3,
          3,
          3.5,
          5,
          4,
          5,
          3.5,
          4,
          1,
          2.5,
          3.5,
          4.5,
          3,
          5,
          1,
          5,
          4,
          4,
          2,
          5,
          4,
          3,
          4,
          4,
          3.5,
          5,
          4,
          4,
          1,
          4,
          1.5,
          3,
          5,
          4.5,
          5,
          5,
          3.5,
          5,
          3.5,
          4.5,
          3.5,
          4,
          2.5,
          4.5,
          3.5,
          3,
          5,
          5,
          2,
          4.5,
          2,
          4,
          3.5,
          3.5,
          4.5,
          4,
          3,
          4,
          3,
          3.5,
          4.5,
          4,
          4,
          4,
          3.5,
          5,
          3.5,
          4.5,
          4.5,
          4,
          2.5,
          3,
          1.5,
          4,
          4.5,
          3.5,
          3,
          3,
          3,
          3,
          4.5,
          3.5,
          2.5,
          4.5,
          3.5,
          3.5,
          2.5,
          3.5,
          4,
          4.5,
          3.5,
          4,
          3,
          4.5,
          4,
          4.5,
          3.5,
          4,
          4,
          4,
          5,
          4,
          3.5,
          3,
          2.5,
          3.5,
          3,
          3,
          4,
          4.5,
          3,
          3.5,
          1,
          4,
          2.5,
          2,
          4.5,
          5,
          3,
          3.5,
          3,
          4.5,
          3.5,
          4,
          3.5,
          4,
          4,
          4,
          5,
          4,
          2.5,
          3.5,
          4.5,
          4,
          3.5,
          4.5,
          4.5,
          4,
          5,
          4,
          4.5,
          4,
          3.5,
          2.5,
          3,
          2.5,
          5,
          4.5,
          1,
          4,
          3.5,
          5,
          5,
          5,
          3,
          5,
          5,
          5,
          1,
          4,
          5,
          5,
          4,
          4.5,
          4.5,
          4.5,
          4,
          5,
          3,
          3,
          3.5,
          5,
          4,
          3,
          5,
          2.5,
          3,
          5,
          5,
          5,
          5,
          5,
          5,
          5,
          1,
          4.5,
          3.5,
          4,
          3,
          5,
          3.5,
          4,
          5,
          5,
          5,
          4,
          2,
          2,
          4,
          3.5,
          3.5,
          4.5,
          1,
          5,
          5,
          3.5,
          3.5,
          4,
          4,
          4,
          3.5,
          4,
          4,
          4,
          4,
          3.5,
          3.5,
          4,
          4.5,
          3.5,
          4.5,
          4,
          3.5,
          4,
          4.5,
          3.5,
          4,
          3.5,
          4,
          4.5,
          4.5,
          3,
          4.5,
          3.5,
          5,
          3.5,
          4,
          3.5,
          4.5,
          3.5,
          4,
          4.5,
          4.5,
          4.5,
          3,
          4.5,
          3.5,
          4,
          3.5,
          4,
          4,
          3,
          4,
          4,
          3,
          3,
          3.5,
          4,
          2,
          4.5,
          4,
          2.5,
          4,
          4.5,
          2.5,
          3.5,
          2,
          3,
          2,
          4,
          3.5,
          3,
          3.5,
          3.5,
          5,
          4.5,
          4,
          3.5,
          3,
          4.5,
          3.5,
          3.5,
          1,
          4.5,
          4.5,
          4,
          5,
          4,
          4,
          4,
          3.5,
          3,
          4,
          4,
          4.5,
          5,
          3,
          5,
          4.5,
          4,
          3.5,
          3.5,
          4,
          3.5,
          3.5,
          3.5,
          5,
          3.5,
          4.5,
          3,
          4,
          4,
          4,
          5,
          3.5,
          4,
          4,
          3.5,
          4,
          4,
          5,
          4,
          5,
          4.5,
          3,
          5,
          3,
          4,
          3.5,
          3.5,
          3.5,
          4,
          3.5,
          3,
          5,
          4,
          2.5,
          4.5,
          4,
          5,
          3.5,
          3.5,
          4,
          4,
          2.5,
          4.5,
          4,
          3.5,
          4,
          3.5,
          4,
          5,
          4.5,
          4,
          4,
          4,
          4.5,
          3,
          4.5,
          3.5,
          4,
          1,
          3,
          5,
          3,
          5,
          3.5,
          4,
          4.5,
          2,
          3,
          3.5,
          1,
          3.5,
          3.5,
          4.5,
          3,
          4,
          4,
          3,
          1.5,
          5,
          4,
          5,
          3,
          4,
          5,
          4.5,
          3,
          4,
          4,
          4,
          4,
          3.5,
          3.5,
          3.5,
          3.5,
          3.5,
          5,
          2.5,
          3.5,
          3.5,
          3.5,
          5,
          4,
          4,
          4,
          4,
          4.5,
          4.5,
          4,
          4.5,
          4,
          4.5,
          4.5,
          4,
          4.5,
          4,
          4.5,
          4.5,
          4,
          3,
          4,
          3,
          4,
          1.5,
          3,
          2,
          3,
          3,
          4,
          2.5,
          3.5,
          4,
          4.5,
          4,
          2,
          4,
          4.5,
          4,
          2.5,
          4,
          4,
          4,
          4,
          4,
          3.5,
          4.5,
          4,
          4,
          3.5,
          2,
          4.5,
          3.5,
          4,
          3,
          4.5,
          3.5,
          3,
          4,
          4.5,
          5,
          5,
          3.5,
          4,
          5,
          4,
          4.5,
          5,
          5,
          4.5,
          2,
          3,
          4,
          3,
          2.5,
          1,
          4,
          4.5,
          4.5,
          4.5,
          4.5,
          3.5,
          4,
          4.5,
          4,
          4,
          4.5,
          4.5,
          3.5,
          4,
          3.5,
          4,
          4.5,
          4,
          4,
          3.5,
          5,
          3,
          5,
          4.5,
          3,
          4,
          3.5,
          4,
          4,
          4,
          5,
          4.5,
          4,
          4,
          5,
          5,
          2.5,
          3.5,
          2.5,
          4,
          3,
          5,
          5,
          3.5,
          1,
          5,
          4,
          4,
          2.5,
          3,
          1,
          3,
          4.5,
          3.5,
          3,
          4.5,
          4.5,
          4,
          4,
          3,
          3.5,
          4.5,
          2,
          4.5,
          4.5,
          4,
          4,
          4,
          3,
          3.5,
          5,
          5,
          5,
          5,
          3,
          4,
          2.5,
          5,
          3,
          5,
          4,
          4,
          1.5,
          3.5,
          5,
          1,
          4.5,
          5,
          5,
          4,
          3.5,
          4.5,
          4,
          2.5,
          4,
          3.5,
          3,
          3,
          3.5,
          4,
          5,
          5,
          4,
          4,
          3,
          4,
          5,
          5,
          5,
          4,
          4,
          3.5,
          4,
          3,
          3.5,
          4,
          5,
          3,
          5,
          4,
          5,
          3.5,
          4.5,
          4,
          4,
          5,
          5,
          5,
          4.5,
          4,
          1,
          4.5,
          4.5,
          3.5,
          4,
          4,
          2.5,
          4,
          4,
          4.5,
          4.5,
          3.5,
          4,
          4,
          3,
          4.5,
          4,
          4.5,
          5,
          3,
          3,
          5,
          4.5,
          4,
          4.5,
          4,
          5,
          4.5,
          4,
          4.5,
          4.5,
          4,
          3.5,
          4.5,
          5,
          5,
          4.5,
          4,
          3.5,
          3.5,
          4.5,
          5,
          3,
          3,
          4,
          4,
          5,
          5,
          3.5,
          3,
          4.5,
          1,
          3,
          5,
          1.5,
          4.5,
          3.5,
          4,
          1,
          5,
          4.5,
          1,
          5,
          5,
          4,
          3,
          3,
          2.5,
          4,
          4,
          1,
          3.5,
          3.5,
          4,
          4,
          3,
          3,
          5,
          4.5,
          3.5,
          3,
          5,
          1.5,
          2,
          2.5,
          1,
          1,
          4.5,
          1,
          1,
          1,
          4.5,
          1.5,
          5,
          3,
          2,
          1,
          1,
          4.5,
          3.5,
          4,
          1.5,
          4,
          4.5,
          1.5,
          4,
          1.5,
          1,
          1,
          2,
          4,
          1,
          2.5,
          3.5,
          4,
          4,
          4.5,
          5,
          4,
          2,
          3,
          4,
          1,
          4.5,
          5,
          2,
          1,
          3.5,
          1.5,
          4,
          1.5,
          2,
          5,
          1.5,
          3,
          2.5,
          1.5,
          4,
          1.5,
          1,
          1,
          1,
          1,
          1,
          1,
          1,
          1,
          4.5,
          1,
          1,
          1,
          1,
          3,
          1,
          1,
          2,
          1,
          3,
          1,
          1,
          1,
          2.5,
          1,
          1,
          1,
          3.5,
          1,
          1,
          1,
          1,
          1,
          1,
          1,
          1,
          4,
          1,
          1.5,
          1,
          4,
          4,
          1,
          1.5,
          1,
          1.5,
          1,
          1,
          1,
          1,
          1,
          1,
          4,
          2.5,
          3.5,
          3.5,
          4,
          3.5,
          5,
          2,
          5,
          5,
          3,
          1,
          4,
          3,
          4,
          3,
          2.5,
          4.5,
          1,
          3,
          2,
          4,
          3.5,
          5,
          4,
          2,
          5,
          1,
          1,
          4.5,
          3.5,
          2.5,
          5,
          1,
          5,
          4.5,
          1.5,
          3.5,
          5,
          4,
          4,
          3.5,
          3.5,
          3.5,
          1,
          3,
          1,
          2.5,
          4,
          4,
          null
         ],
         "legendgroup": "",
         "name": "",
         "showlegend": true,
         "textinfo": "percent+label",
         "textposition": "inside",
         "type": "pie"
        }
       ],
       "layout": {
        "font": {
         "size": 15
        },
        "legend": {
         "tracegroupgap": 0
        },
        "margin": {
         "t": 60
        },
        "piecolorway": [
         "rgb(103,0,31)",
         "rgb(178,24,43)",
         "rgb(214,96,77)",
         "rgb(244,165,130)",
         "rgb(253,219,199)",
         "rgb(247,247,247)",
         "rgb(209,229,240)",
         "rgb(146,197,222)",
         "rgb(67,147,195)",
         "rgb(33,102,172)",
         "rgb(5,48,97)"
        ],
        "template": {
         "data": {
          "bar": [
           {
            "error_x": {
             "color": "#2a3f5f"
            },
            "error_y": {
             "color": "#2a3f5f"
            },
            "marker": {
             "line": {
              "color": "#E5ECF6",
              "width": 0.5
             }
            },
            "type": "bar"
           }
          ],
          "barpolar": [
           {
            "marker": {
             "line": {
              "color": "#E5ECF6",
              "width": 0.5
             }
            },
            "type": "barpolar"
           }
          ],
          "carpet": [
           {
            "aaxis": {
             "endlinecolor": "#2a3f5f",
             "gridcolor": "white",
             "linecolor": "white",
             "minorgridcolor": "white",
             "startlinecolor": "#2a3f5f"
            },
            "baxis": {
             "endlinecolor": "#2a3f5f",
             "gridcolor": "white",
             "linecolor": "white",
             "minorgridcolor": "white",
             "startlinecolor": "#2a3f5f"
            },
            "type": "carpet"
           }
          ],
          "choropleth": [
           {
            "colorbar": {
             "outlinewidth": 0,
             "ticks": ""
            },
            "type": "choropleth"
           }
          ],
          "contour": [
           {
            "colorbar": {
             "outlinewidth": 0,
             "ticks": ""
            },
            "colorscale": [
             [
              0,
              "#0d0887"
             ],
             [
              0.1111111111111111,
              "#46039f"
             ],
             [
              0.2222222222222222,
              "#7201a8"
             ],
             [
              0.3333333333333333,
              "#9c179e"
             ],
             [
              0.4444444444444444,
              "#bd3786"
             ],
             [
              0.5555555555555556,
              "#d8576b"
             ],
             [
              0.6666666666666666,
              "#ed7953"
             ],
             [
              0.7777777777777778,
              "#fb9f3a"
             ],
             [
              0.8888888888888888,
              "#fdca26"
             ],
             [
              1,
              "#f0f921"
             ]
            ],
            "type": "contour"
           }
          ],
          "contourcarpet": [
           {
            "colorbar": {
             "outlinewidth": 0,
             "ticks": ""
            },
            "type": "contourcarpet"
           }
          ],
          "heatmap": [
           {
            "colorbar": {
             "outlinewidth": 0,
             "ticks": ""
            },
            "colorscale": [
             [
              0,
              "#0d0887"
             ],
             [
              0.1111111111111111,
              "#46039f"
             ],
             [
              0.2222222222222222,
              "#7201a8"
             ],
             [
              0.3333333333333333,
              "#9c179e"
             ],
             [
              0.4444444444444444,
              "#bd3786"
             ],
             [
              0.5555555555555556,
              "#d8576b"
             ],
             [
              0.6666666666666666,
              "#ed7953"
             ],
             [
              0.7777777777777778,
              "#fb9f3a"
             ],
             [
              0.8888888888888888,
              "#fdca26"
             ],
             [
              1,
              "#f0f921"
             ]
            ],
            "type": "heatmap"
           }
          ],
          "heatmapgl": [
           {
            "colorbar": {
             "outlinewidth": 0,
             "ticks": ""
            },
            "colorscale": [
             [
              0,
              "#0d0887"
             ],
             [
              0.1111111111111111,
              "#46039f"
             ],
             [
              0.2222222222222222,
              "#7201a8"
             ],
             [
              0.3333333333333333,
              "#9c179e"
             ],
             [
              0.4444444444444444,
              "#bd3786"
             ],
             [
              0.5555555555555556,
              "#d8576b"
             ],
             [
              0.6666666666666666,
              "#ed7953"
             ],
             [
              0.7777777777777778,
              "#fb9f3a"
             ],
             [
              0.8888888888888888,
              "#fdca26"
             ],
             [
              1,
              "#f0f921"
             ]
            ],
            "type": "heatmapgl"
           }
          ],
          "histogram": [
           {
            "marker": {
             "colorbar": {
              "outlinewidth": 0,
              "ticks": ""
             }
            },
            "type": "histogram"
           }
          ],
          "histogram2d": [
           {
            "colorbar": {
             "outlinewidth": 0,
             "ticks": ""
            },
            "colorscale": [
             [
              0,
              "#0d0887"
             ],
             [
              0.1111111111111111,
              "#46039f"
             ],
             [
              0.2222222222222222,
              "#7201a8"
             ],
             [
              0.3333333333333333,
              "#9c179e"
             ],
             [
              0.4444444444444444,
              "#bd3786"
             ],
             [
              0.5555555555555556,
              "#d8576b"
             ],
             [
              0.6666666666666666,
              "#ed7953"
             ],
             [
              0.7777777777777778,
              "#fb9f3a"
             ],
             [
              0.8888888888888888,
              "#fdca26"
             ],
             [
              1,
              "#f0f921"
             ]
            ],
            "type": "histogram2d"
           }
          ],
          "histogram2dcontour": [
           {
            "colorbar": {
             "outlinewidth": 0,
             "ticks": ""
            },
            "colorscale": [
             [
              0,
              "#0d0887"
             ],
             [
              0.1111111111111111,
              "#46039f"
             ],
             [
              0.2222222222222222,
              "#7201a8"
             ],
             [
              0.3333333333333333,
              "#9c179e"
             ],
             [
              0.4444444444444444,
              "#bd3786"
             ],
             [
              0.5555555555555556,
              "#d8576b"
             ],
             [
              0.6666666666666666,
              "#ed7953"
             ],
             [
              0.7777777777777778,
              "#fb9f3a"
             ],
             [
              0.8888888888888888,
              "#fdca26"
             ],
             [
              1,
              "#f0f921"
             ]
            ],
            "type": "histogram2dcontour"
           }
          ],
          "mesh3d": [
           {
            "colorbar": {
             "outlinewidth": 0,
             "ticks": ""
            },
            "type": "mesh3d"
           }
          ],
          "parcoords": [
           {
            "line": {
             "colorbar": {
              "outlinewidth": 0,
              "ticks": ""
             }
            },
            "type": "parcoords"
           }
          ],
          "pie": [
           {
            "automargin": true,
            "type": "pie"
           }
          ],
          "scatter": [
           {
            "marker": {
             "colorbar": {
              "outlinewidth": 0,
              "ticks": ""
             }
            },
            "type": "scatter"
           }
          ],
          "scatter3d": [
           {
            "line": {
             "colorbar": {
              "outlinewidth": 0,
              "ticks": ""
             }
            },
            "marker": {
             "colorbar": {
              "outlinewidth": 0,
              "ticks": ""
             }
            },
            "type": "scatter3d"
           }
          ],
          "scattercarpet": [
           {
            "marker": {
             "colorbar": {
              "outlinewidth": 0,
              "ticks": ""
             }
            },
            "type": "scattercarpet"
           }
          ],
          "scattergeo": [
           {
            "marker": {
             "colorbar": {
              "outlinewidth": 0,
              "ticks": ""
             }
            },
            "type": "scattergeo"
           }
          ],
          "scattergl": [
           {
            "marker": {
             "colorbar": {
              "outlinewidth": 0,
              "ticks": ""
             }
            },
            "type": "scattergl"
           }
          ],
          "scattermapbox": [
           {
            "marker": {
             "colorbar": {
              "outlinewidth": 0,
              "ticks": ""
             }
            },
            "type": "scattermapbox"
           }
          ],
          "scatterpolar": [
           {
            "marker": {
             "colorbar": {
              "outlinewidth": 0,
              "ticks": ""
             }
            },
            "type": "scatterpolar"
           }
          ],
          "scatterpolargl": [
           {
            "marker": {
             "colorbar": {
              "outlinewidth": 0,
              "ticks": ""
             }
            },
            "type": "scatterpolargl"
           }
          ],
          "scatterternary": [
           {
            "marker": {
             "colorbar": {
              "outlinewidth": 0,
              "ticks": ""
             }
            },
            "type": "scatterternary"
           }
          ],
          "surface": [
           {
            "colorbar": {
             "outlinewidth": 0,
             "ticks": ""
            },
            "colorscale": [
             [
              0,
              "#0d0887"
             ],
             [
              0.1111111111111111,
              "#46039f"
             ],
             [
              0.2222222222222222,
              "#7201a8"
             ],
             [
              0.3333333333333333,
              "#9c179e"
             ],
             [
              0.4444444444444444,
              "#bd3786"
             ],
             [
              0.5555555555555556,
              "#d8576b"
             ],
             [
              0.6666666666666666,
              "#ed7953"
             ],
             [
              0.7777777777777778,
              "#fb9f3a"
             ],
             [
              0.8888888888888888,
              "#fdca26"
             ],
             [
              1,
              "#f0f921"
             ]
            ],
            "type": "surface"
           }
          ],
          "table": [
           {
            "cells": {
             "fill": {
              "color": "#EBF0F8"
             },
             "line": {
              "color": "white"
             }
            },
            "header": {
             "fill": {
              "color": "#C8D4E3"
             },
             "line": {
              "color": "white"
             }
            },
            "type": "table"
           }
          ]
         },
         "layout": {
          "annotationdefaults": {
           "arrowcolor": "#2a3f5f",
           "arrowhead": 0,
           "arrowwidth": 1
          },
          "coloraxis": {
           "colorbar": {
            "outlinewidth": 0,
            "ticks": ""
           }
          },
          "colorscale": {
           "diverging": [
            [
             0,
             "#8e0152"
            ],
            [
             0.1,
             "#c51b7d"
            ],
            [
             0.2,
             "#de77ae"
            ],
            [
             0.3,
             "#f1b6da"
            ],
            [
             0.4,
             "#fde0ef"
            ],
            [
             0.5,
             "#f7f7f7"
            ],
            [
             0.6,
             "#e6f5d0"
            ],
            [
             0.7,
             "#b8e186"
            ],
            [
             0.8,
             "#7fbc41"
            ],
            [
             0.9,
             "#4d9221"
            ],
            [
             1,
             "#276419"
            ]
           ],
           "sequential": [
            [
             0,
             "#0d0887"
            ],
            [
             0.1111111111111111,
             "#46039f"
            ],
            [
             0.2222222222222222,
             "#7201a8"
            ],
            [
             0.3333333333333333,
             "#9c179e"
            ],
            [
             0.4444444444444444,
             "#bd3786"
            ],
            [
             0.5555555555555556,
             "#d8576b"
            ],
            [
             0.6666666666666666,
             "#ed7953"
            ],
            [
             0.7777777777777778,
             "#fb9f3a"
            ],
            [
             0.8888888888888888,
             "#fdca26"
            ],
            [
             1,
             "#f0f921"
            ]
           ],
           "sequentialminus": [
            [
             0,
             "#0d0887"
            ],
            [
             0.1111111111111111,
             "#46039f"
            ],
            [
             0.2222222222222222,
             "#7201a8"
            ],
            [
             0.3333333333333333,
             "#9c179e"
            ],
            [
             0.4444444444444444,
             "#bd3786"
            ],
            [
             0.5555555555555556,
             "#d8576b"
            ],
            [
             0.6666666666666666,
             "#ed7953"
            ],
            [
             0.7777777777777778,
             "#fb9f3a"
            ],
            [
             0.8888888888888888,
             "#fdca26"
            ],
            [
             1,
             "#f0f921"
            ]
           ]
          },
          "colorway": [
           "#636efa",
           "#EF553B",
           "#00cc96",
           "#ab63fa",
           "#FFA15A",
           "#19d3f3",
           "#FF6692",
           "#B6E880",
           "#FF97FF",
           "#FECB52"
          ],
          "font": {
           "color": "#2a3f5f"
          },
          "geo": {
           "bgcolor": "white",
           "lakecolor": "white",
           "landcolor": "#E5ECF6",
           "showlakes": true,
           "showland": true,
           "subunitcolor": "white"
          },
          "hoverlabel": {
           "align": "left"
          },
          "hovermode": "closest",
          "mapbox": {
           "style": "light"
          },
          "paper_bgcolor": "white",
          "plot_bgcolor": "#E5ECF6",
          "polar": {
           "angularaxis": {
            "gridcolor": "white",
            "linecolor": "white",
            "ticks": ""
           },
           "bgcolor": "#E5ECF6",
           "radialaxis": {
            "gridcolor": "white",
            "linecolor": "white",
            "ticks": ""
           }
          },
          "scene": {
           "xaxis": {
            "backgroundcolor": "#E5ECF6",
            "gridcolor": "white",
            "gridwidth": 2,
            "linecolor": "white",
            "showbackground": true,
            "ticks": "",
            "zerolinecolor": "white"
           },
           "yaxis": {
            "backgroundcolor": "#E5ECF6",
            "gridcolor": "white",
            "gridwidth": 2,
            "linecolor": "white",
            "showbackground": true,
            "ticks": "",
            "zerolinecolor": "white"
           },
           "zaxis": {
            "backgroundcolor": "#E5ECF6",
            "gridcolor": "white",
            "gridwidth": 2,
            "linecolor": "white",
            "showbackground": true,
            "ticks": "",
            "zerolinecolor": "white"
           }
          },
          "shapedefaults": {
           "line": {
            "color": "#2a3f5f"
           }
          },
          "ternary": {
           "aaxis": {
            "gridcolor": "white",
            "linecolor": "white",
            "ticks": ""
           },
           "baxis": {
            "gridcolor": "white",
            "linecolor": "white",
            "ticks": ""
           },
           "bgcolor": "#E5ECF6",
           "caxis": {
            "gridcolor": "white",
            "linecolor": "white",
            "ticks": ""
           }
          },
          "title": {
           "x": 0.05
          },
          "xaxis": {
           "automargin": true,
           "gridcolor": "white",
           "linecolor": "white",
           "ticks": "",
           "title": {
            "standoff": 15
           },
           "zerolinecolor": "white",
           "zerolinewidth": 2
          },
          "yaxis": {
           "automargin": true,
           "gridcolor": "white",
           "linecolor": "white",
           "ticks": "",
           "title": {
            "standoff": 15
           },
           "zerolinecolor": "white",
           "zerolinewidth": 2
          }
         }
        },
        "title": {
         "text": "Distribution of Ratings"
        }
       }
      },
      "text/html": [
       "<div>\n",
       "        \n",
       "        \n",
       "            <div id=\"bbeb792a-a69d-47ca-b0e5-e86cf3b82822\" class=\"plotly-graph-div\" style=\"height:525px; width:100%;\"></div>\n",
       "            <script type=\"text/javascript\">\n",
       "                require([\"plotly\"], function(Plotly) {\n",
       "                    window.PLOTLYENV=window.PLOTLYENV || {};\n",
       "                    \n",
       "                if (document.getElementById(\"bbeb792a-a69d-47ca-b0e5-e86cf3b82822\")) {\n",
       "                    Plotly.newPlot(\n",
       "                        'bbeb792a-a69d-47ca-b0e5-e86cf3b82822',\n",
       "                        [{\"domain\": {\"x\": [0.0, 1.0], \"y\": [0.0, 1.0]}, \"hoverlabel\": {\"namelength\": 0}, \"hovertemplate\": \"Rating=%{label}\", \"labels\": [3.5, 3.0, 3.5, 3.5, 2.0, 4.5, 4.5, 3.0, 4.0, 3.5, 4.0, 4.0, 4.0, 4.0, 4.5, 3.5, 1.0, 4.5, 4.0, 4.0, 4.5, 4.0, 2.5, 4.5, 4.5, 3.0, 2.5, 3.5, 4.5, 3.0, 3.5, 3.5, 4.0, 3.0, 3.5, 4.5, 3.0, 4.5, 4.0, 3.0, 3.0, 4.5, 2.5, 3.0, 2.5, 3.5, 4.0, 4.0, 3.5, 4.5, 4.0, 4.5, 2.5, 3.5, 2.5, 3.0, 4.0, 5.0, 4.5, 4.5, 4.5, 3.0, 3.5, 4.0, 3.5, 3.0, 3.0, 4.5, 4.5, 4.0, 4.5, 3.5, 3.5, 5.0, 4.5, 4.0, 3.5, 3.5, 2.5, 3.0, 4.0, 3.5, 4.5, 4.5, 3.5, 5.0, 5.0, 3.5, 3.5, 3.5, 4.0, 3.5, 4.5, 3.0, 4.0, 2.5, 4.0, 2.0, 4.0, 4.5, 4.0, 2.0, 4.0, 4.0, 2.5, 4.0, 3.5, 4.5, 4.0, 5.0, 4.0, 4.0, 4.0, 4.5, 4.5, 5.0, 4.5, 3.5, 4.0, 3.5, 4.5, 3.0, 4.0, 4.0, 4.0, 4.5, 4.5, 3.0, 3.5, 4.5, 4.0, 4.0, 4.0, 2.5, 3.5, 3.5, 4.0, 5.0, 5.0, 5.0, 5.0, 3.5, 4.5, 3.5, 2.5, 5.0, 3.0, 5.0, 4.5, 5.0, 5.0, 4.0, 3.5, 5.0, 2.0, 3.5, 4.0, 5.0, 5.0, 2.5, 4.5, 4.0, 3.5, 3.5, 3.5, 4.5, 5.0, 3.5, 4.5, 5.0, 4.5, 5.0, 3.5, 2.5, 3.5, 4.5, 4.5, 4.5, 4.0, 5.0, 4.5, 5.0, 3.5, 4.0, 4.5, 3.0, 4.0, 4.5, 1.0, 4.0, 4.5, 4.5, 5.0, 4.5, 2.0, 4.5, 5.0, 1.5, 3.0, 3.0, 4.0, 4.0, 2.5, 4.5, 4.5, 3.0, 4.5, 4.0, 4.0, 4.5, 4.5, 3.0, 3.5, 5.0, 2.5, 3.5, 4.0, 2.5, 2.5, 3.0, 2.5, 2.0, 3.5, 3.0, 3.0, 4.5, 4.5, 4.0, 4.0, 4.0, 3.5, 4.5, 4.5, 3.0, 3.5, 5.0, 4.0, 4.0, 5.0, 3.5, 4.5, 5.0, 5.0, 3.0, 3.0, 2.5, 2.5, 4.0, 4.0, 4.0, 4.5, 4.0, 5.0, 4.5, 3.5, 2.5, 4.5, 4.0, 4.5, 5.0, 1.0, 4.0, 4.0, 3.5, 4.0, 3.5, 3.5, 4.5, 4.5, 4.5, 1.0, 5.0, 4.0, 4.0, 3.0, 5.0, 3.5, 4.0, 5.0, 5.0, 4.5, 4.0, 4.0, 4.5, 3.0, 3.0, 4.5, 3.5, 3.5, 5.0, 3.5, 4.5, 2.0, 5.0, 4.5, 5.0, 5.0, 5.0, 5.0, 5.0, 4.5, 2.0, 5.0, 5.0, 5.0, 5.0, 1.0, 5.0, 5.0, 5.0, 5.0, 5.0, 5.0, 5.0, 3.0, 3.5, 1.0, 5.0, 5.0, 5.0, 4.0, 5.0, 4.5, 3.5, 4.5, 4.5, 4.5, 4.0, 4.0, 4.0, 4.0, 5.0, 3.0, 2.5, 1.5, 4.0, 2.5, 4.5, 4.0, 5.0, 4.0, 2.0, 4.0, 3.0, 2.5, 4.0, 4.5, 2.0, 4.5, 5.0, 2.0, 2.0, 5.0, 3.0, 4.0, 3.0, 3.0, 4.0, 3.0, 3.0, 3.0, 5.0, 3.5, 2.5, 3.5, 4.0, 4.0, 3.0, 3.5, 3.5, 4.0, 3.0, 3.0, 4.0, 4.5, 3.5, 3.5, 5.0, 4.5, 4.0, 4.5, 4.5, 4.5, 3.5, 4.5, 4.5, 5.0, 3.5, 4.5, 4.0, 2.0, 3.5, 5.0, 5.0, 4.0, 4.0, 4.5, 4.0, 3.0, 4.0, 5.0, 4.5, 3.5, 3.0, 2.5, 4.5, 4.0, 4.5, 4.5, 5.0, 3.0, 5.0, 3.0, 4.5, 5.0, 3.5, 5.0, 3.5, 3.5, 4.0, 4.5, 5.0, 3.5, 4.5, 3.0, 4.5, 5.0, 2.5, 4.0, 2.5, 4.0, 5.0, 3.0, 5.0, 5.0, 4.5, 4.0, 3.5, 5.0, 5.0, 5.0, 3.5, 4.0, 4.0, 4.0, 3.5, 4.5, 4.0, 5.0, 4.5, 3.5, 3.0, 4.0, 4.5, 3.0, 4.5, 4.0, 4.5, 4.0, 5.0, 4.5, 3.5, 5.0, 3.5, 3.0, 3.5, 3.5, 4.0, 3.0, 1.0, 1.0, 4.0, 4.5, 4.5, 3.5, 3.0, 5.0, 3.5, 5.0, 2.5, 1.0, 3.5, 4.0, 2.0, 4.0, 5.0, 3.5, 4.5, 5.0, 3.5, 5.0, 3.0, 3.0, 4.5, 4.0, 1.0, 4.5, 3.5, 5.0, 5.0, 5.0, 5.0, 4.0, 5.0, 3.0, 4.5, 4.5, 3.5, 5.0, 3.5, 5.0, 4.5, 4.5, 5.0, 4.0, 1.0, 3.0, 3.0, 3.5, 3.0, 3.0, 5.0, 1.0, 4.0, 3.5, 4.0, 3.0, 5.0, 3.0, 1.0, 1.0, 4.0, 3.5, 5.0, 1.0, 5.0, 2.0, 5.0, 5.0, 5.0, 3.5, 3.5, 4.5, 4.5, 4.5, 5.0, 2.0, 4.5, 3.0, 4.5, 1.0, 3.0, 2.5, 3.0, 3.0, 4.0, 4.5, 5.0, 4.5, 5.0, 3.0, 2.0, 3.0, 5.0, 5.0, 4.0, 3.0, 4.0, 5.0, 4.5, 3.0, 2.0, 3.5, 1.0, 2.5, 4.0, 2.5, 3.0, 5.0, 3.5, 5.0, 3.5, 5.0, 5.0, 4.0, 4.0, 5.0, 2.0, 5.0, 2.5, 4.5, 5.0, 5.0, 4.5, 5.0, 4.0, 5.0, 4.0, 4.5, 5.0, 5.0, 5.0, 4.5, 5.0, 5.0, 5.0, 5.0, 5.0, 3.5, 4.0, 4.5, 4.0, 2.5, 5.0, 4.0, 4.0, 3.5, 4.0, 3.5, 2.0, 1.0, 5.0, 5.0, 3.5, 4.0, 4.0, 5.0, 5.0, 5.0, 4.5, 2.0, 5.0, 5.0, 3.5, 3.5, 4.5, 1.0, 5.0, 5.0, 3.5, 4.5, 5.0, 4.5, 3.0, 4.5, 3.0, 5.0, 5.0, 4.5, 5.0, 5.0, 3.0, 4.5, 4.0, 5.0, 3.5, 3.5, 2.5, 4.0, 4.5, 3.5, 3.0, 3.0, 3.5, 4.5, 3.5, 2.5, 5.0, 4.0, 3.0, 3.5, 4.0, 4.5, 4.0, 2.0, 4.5, 3.0, 3.5, 4.5, 3.5, 3.5, 4.0, 3.0, 3.5, 3.0, 3.0, 4.0, 4.0, 4.0, 3.0, 4.0, 3.5, 4.0, 3.0, 3.5, 3.0, 4.0, 3.5, 5.0, 3.5, 3.5, 3.5, 5.0, 4.0, 4.0, 4.5, 2.5, 3.5, 5.0, 4.5, 3.0, 2.5, 4.5, 4.5, 3.5, 2.5, 3.0, 2.5, 4.0, 3.5, 4.0, 4.5, 3.0, 3.5, 3.0, 3.5, 4.5, 3.0, 5.0, 4.0, 3.0, 3.5, 3.0, 3.0, 4.0, 3.5, 2.5, 3.5, 4.0, 3.0, 4.5, 4.0, 4.5, 3.5, 3.5, 3.5, 3.0, 3.5, 4.5, 2.0, 4.5, 3.5, 4.5, 5.0, 5.0, 3.5, 3.5, 5.0, 4.0, 4.5, 2.5, 3.5, 4.5, 5.0, 5.0, 4.5, 4.5, 4.0, 2.5, 4.0, 2.5, 1.0, 5.0, 1.0, 4.0, 2.0, 5.0, 2.5, 3.0, 3.0, 5.0, 5.0, 4.5, 1.0, 5.0, 4.0, 5.0, 4.0, 4.0, 3.0, 4.0, 5.0, 4.5, 5.0, 1.0, 3.0, 3.5, 3.5, 1.5, 4.5, 3.5, 3.0, 4.5, 4.0, 3.0, 3.5, 4.5, 4.0, 3.5, 5.0, 3.5, 3.5, 2.5, 3.0, 4.0, 3.0, 2.5, 4.5, 4.0, 4.0, 3.5, 2.5, 3.5, 3.5, 4.0, 4.0, 3.5, 2.5, 2.5, 4.0, 5.0, 3.0, 1.0, 3.0, 3.0, 4.5, 4.0, 3.0, 4.5, 3.0, 4.5, 4.0, 5.0, 1.0, 4.5, 4.0, 4.0, 5.0, 3.5, 2.5, 3.0, 3.0, 2.5, 3.0, 4.0, 3.5, 5.0, 4.0, 1.0, 5.0, 4.0, 3.0, 4.0, 4.0, 1.5, 3.5, 4.5, 4.0, 4.0, 5.0, 3.5, 3.5, 5.0, 1.0, 5.0, 2.0, 3.5, 5.0, 4.0, 4.5, 4.0, 4.0, 4.0, 3.5, 3.5, 4.0, 1.0, 5.0, 3.5, 5.0, 4.0, 1.5, 5.0, 5.0, 3.5, 4.5, 3.0, 3.5, 2.5, 3.0, 3.5, 4.0, 4.0, 4.0, 3.5, 5.0, 2.5, 3.0, 4.0, 5.0, 5.0, 4.0, 5.0, 5.0, 5.0, 5.0, 5.0, 5.0, 1.0, 5.0, 2.0, 5.0, 2.5, 1.0, 5.0, 5.0, 2.5, 4.5, 4.5, 4.0, 3.5, 4.0, 3.5, 4.0, 4.0, 3.5, 3.0, 4.0, 5.0, 2.5, 3.0, 3.5, 3.5, 3.5, 5.0, 1.0, 5.0, 3.0, 5.0, 3.0, 5.0, 5.0, 3.5, 4.0, 5.0, 2.0, 3.5, 5.0, 5.0, 5.0, 5.0, 4.0, 4.5, 5.0, 1.0, 5.0, 2.5, 3.0, 3.5, 2.5, 2.5, 5.0, 5.0, 5.0, 5.0, 3.0, 3.5, 5.0, 4.5, 5.0, 1.0, 4.0, 4.5, 4.0, 4.0, 3.0, 5.0, 2.5, 5.0, 4.0, 1.0, 5.0, 5.0, 3.0, 5.0, 4.5, 4.0, 2.5, 2.5, 5.0, 2.0, 5.0, 5.0, 1.0, 2.0, 5.0, 3.5, 4.5, 4.5, 5.0, 4.0, 1.0, 1.0, 5.0, 4.0, 4.0, 5.0, 5.0, 3.5, 5.0, 5.0, 3.5, 3.5, 4.0, 5.0, 4.0, 4.0, 3.5, 3.0, 3.5, 4.5, 4.0, 3.0, 4.0, 3.0, 3.5, 4.0, 4.5, 4.0, 4.5, 4.5, 3.5, 5.0, 3.5, 4.0, 1.5, 3.0, 5.0, 4.0, 4.0, 3.5, 4.5, 4.5, 4.0, 3.5, 4.5, 3.0, 3.5, 4.5, 3.0, 4.0, 4.5, 5.0, 3.5, 5.0, 3.5, 2.0, 5.0, 3.5, 4.0, 3.5, 3.0, 4.5, 1.0, 4.0, 3.0, 3.5, 3.0, 4.5, 4.5, 3.0, 5.0, 4.0, 4.0, 3.5, 5.0, 5.0, 3.0, 4.5, 4.5, 2.5, 4.5, 3.5, 3.0, 4.0, 4.0, 4.5, 4.0, 2.0, 5.0, 4.0, 3.5, 3.5, 5.0, 3.5, 4.0, 3.5, 3.0, 5.0, 3.5, 4.5, 4.0, 3.5, 4.0, 1.0, 4.0, 5.0, 5.0, 3.0, 4.0, 3.5, 4.0, 4.0, 4.5, 3.5, 4.0, 3.0, 2.5, 4.0, 4.0, 3.5, 4.0, 5.0, 5.0, 5.0, 3.0, 1.5, 5.0, 3.0, 3.0, 4.5, 5.0, 4.5, 3.0, 1.5, 5.0, 3.5, 4.0, 5.0, 2.5, 2.5, 4.0, 3.5, 5.0, 5.0, 4.5, 4.0, 3.5, 3.5, 5.0, 4.0, 4.5, 5.0, 4.0, 3.0, 3.5, 1.0, 4.0, 3.0, 5.0, 5.0, 4.5, 2.0, 5.0, 5.0, 5.0, 3.5, 4.0, 5.0, 5.0, 5.0, 4.5, 3.5, 3.5, 5.0, 4.0, 5.0, 4.0, 4.5, 5.0, 5.0, 3.5, 5.0, 5.0, 5.0, 4.5, 2.5, 3.5, 4.0, 4.5, 5.0, 2.5, 4.0, 4.0, 2.5, 5.0, 1.0, 3.5, 4.5, 5.0, 4.5, 5.0, 5.0, 4.0, 3.5, 4.0, 3.5, 3.0, 5.0, 3.5, 4.0, 3.0, 2.5, 3.5, 5.0, 4.0, 2.5, 5.0, 2.5, 4.0, 2.5, 4.5, 4.0, 4.5, 2.5, 1.0, 5.0, 2.5, 3.5, 5.0, 4.0, 4.0, 5.0, 5.0, 4.0, 3.5, 4.0, 4.0, 4.0, 4.5, 4.0, 3.0, 3.5, 4.5, 1.0, 5.0, 2.5, 1.0, 1.0, 5.0, 4.0, 5.0, 1.0, 5.0, 5.0, 3.5, 4.5, 5.0, 5.0, 3.5, 4.5, 3.5, 2.0, 4.5, 4.5, 3.5, 3.5, 4.0, 3.5, 4.5, 4.0, 4.5, 4.0, 3.5, 4.5, 4.5, 4.0, 4.5, 3.5, 5.0, 4.5, 4.5, 2.5, 4.0, 4.0, 5.0, 3.5, 4.0, 4.0, 4.0, 4.0, 4.0, 4.5, 3.0, 4.0, 4.5, 4.0, 3.5, 1.5, 4.5, 4.5, 2.5, 4.0, 3.0, 4.0, 4.5, 4.0, 1.5, 2.0, 4.0, 4.5, 2.0, 3.0, 4.5, 3.5, 2.5, 4.0, 5.0, 5.0, 2.5, 4.5, 4.5, 4.5, 2.5, 4.5, 2.0, 3.5, 3.0, 4.5, 4.5, 2.0, 4.5, 3.0, 4.0, 4.5, 5.0, 4.0, 4.0, 4.0, 1.5, 5.0, 2.5, 3.5, 2.5, 4.5, 4.5, 2.5, 4.0, 4.0, 4.5, 3.5, 1.5, 3.5, 2.0, 3.5, 2.5, 3.0, 3.0, 4.5, 5.0, 4.0, 4.5, 2.5, 3.5, 3.0, 4.0, 3.0, 5.0, 4.5, 5.0, 4.0, 4.5, 4.0, 4.0, 4.5, 5.0, 5.0, 5.0, 3.0, 4.0, 2.0, 2.0, 3.5, 2.5, 4.0, 4.5, 3.5, 2.5, 3.0, 3.5, 2.5, 4.0, 4.0, 5.0, 5.0, 4.0, 4.5, 5.0, 5.0, 3.5, 3.0, 5.0, 5.0, 2.5, 4.0, 4.0, 5.0, 5.0, 4.5, 4.0, 2.5, 3.5, 4.0, 4.5, 2.5, 3.5, 4.0, 3.5, 4.0, 4.0, 5.0, 5.0, 3.5, 4.0, 1.0, 5.0, 4.0, 2.0, 4.0, 4.0, 1.0, 4.0, 4.0, 2.5, 3.0, 4.5, 5.0, 5.0, 5.0, 3.5, 5.0, 5.0, 5.0, 4.0, 4.5, 5.0, 4.5, 5.0, 4.5, 5.0, 3.5, 4.0, 3.5, 5.0, 3.0, 3.0, 4.0, 3.5, 2.0, 5.0, 4.0, 5.0, 5.0, 3.5, 2.0, 5.0, 5.0, 3.5, 4.0, 2.5, 5.0, 2.5, 4.0, 4.5, 4.5, 2.5, 2.0, 4.5, 1.5, 1.0, 5.0, 5.0, 4.0, 2.5, 3.0, 4.5, 5.0, 4.5, 2.5, 4.0, 4.5, 4.5, 4.5, 4.0, 5.0, 4.5, 5.0, 3.0, 5.0, 5.0, 4.0, 4.0, 3.5, 3.5, 1.0, 1.0, 1.0, 4.5, 4.5, 3.0, 5.0, 5.0, 5.0, 4.5, 4.0, 5.0, 5.0, 4.5, 5.0, 5.0, 5.0, 4.5, 5.0, 1.0, 5.0, 3.0, 1.0, 1.0, 3.5, 4.5, 5.0, 1.0, 5.0, 3.0, 3.5, 4.0, 1.0, 4.0, 1.0, 5.0, 3.5, 5.0, 4.5, 5.0, 4.5, 2.0, 3.0, 3.5, 5.0, 5.0, 3.0, 5.0, 3.0, 5.0, 5.0, 5.0, 4.0, 4.5, 5.0, 4.5, 5.0, 5.0, 4.0, 5.0, 3.0, 2.5, 5.0, 5.0, 4.0, 5.0, 2.5, 5.0, 3.5, 5.0, 1.0, 2.5, 3.0, 3.5, 4.5, 4.5, 4.5, 4.0, 3.0, 2.5, 4.5, 5.0, 4.5, 2.0, 2.5, 5.0, 5.0, 3.0, 5.0, 5.0, 4.0, 4.5, 4.5, 4.5, 4.5, 5.0, 5.0, 5.0, 5.0, 5.0, 4.5, 5.0, 4.5, 1.5, 4.5, 3.5, 2.0, 4.5, 5.0, 5.0, 5.0, 5.0, 4.0, 5.0, 3.5, 5.0, 5.0, 4.5, 5.0, 5.0, 2.0, 3.5, 4.5, 5.0, 4.0, 4.5, 2.5, 3.0, 5.0, 5.0, 5.0, 5.0, 5.0, 3.0, 5.0, 3.5, 5.0, 2.0, 4.5, 3.0, 5.0, 5.0, 5.0, 4.0, 5.0, 3.0, 5.0, 3.0, 4.5, 4.0, 5.0, 4.0, 5.0, 5.0, 1.0, 5.0, 5.0, 5.0, 4.0, 5.0, 4.0, 5.0, 4.5, 3.5, 5.0, 5.0, 4.0, 5.0, 3.5, 5.0, 1.0, 4.5, 4.0, 5.0, 5.0, 5.0, 4.5, 4.0, 3.0, 4.5, 4.5, 5.0, 5.0, 5.0, 3.5, 3.5, 5.0, 5.0, 5.0, 3.5, 3.0, 3.0, 3.5, 4.0, 1.5, 4.0, 3.5, 4.5, 4.5, 3.0, 3.5, 4.5, 5.0, 1.0, 3.5, 5.0, 5.0, 5.0, 5.0, 5.0, 5.0, 3.5, 4.0, 3.5, 3.5, 3.0, 4.5, 5.0, 3.5, 4.0, 4.0, 4.0, 3.0, 4.0, 4.5, 3.5, 4.0, 4.0, 3.5, 3.5, 3.5, 3.5, 4.0, 1.5, 4.5, 3.5, 4.0, 4.5, 4.0, 4.0, 3.5, 4.0, 3.0, 4.0, 4.0, 5.0, 4.5, 3.5, 4.5, 3.5, 3.0, 3.5, 4.5, 4.0, 3.5, 3.0, 4.0, 4.0, 3.0, 4.0, 3.5, 4.0, 4.5, 4.5, 3.0, 4.5, 3.5, 3.0, 3.5, 4.0, 4.0, 2.5, 4.5, 3.5, 4.0, 3.0, 3.5, 5.0, 4.5, 4.0, 4.0, 4.5, 3.5, 3.0, 3.0, 3.5, 4.0, 4.0, 3.5, 4.5, 4.5, 5.0, 3.5, 2.5, 4.0, 2.5, 1.0, 4.0, 4.0, 4.0, 4.0, 4.5, 4.0, 3.5, 3.5, 4.5, 4.5, 4.0, 4.0, 4.0, 4.0, 4.5, 2.5, 3.5, 2.5, 4.0, 5.0, 3.0, 4.0, 4.5, 2.0, 3.5, 5.0, 5.0, 4.0, 4.5, 4.0, 2.0, 3.5, 4.0, 4.0, 4.0, 3.5, 3.5, 2.0, 3.5, 5.0, 2.5, 4.5, 4.0, 4.0, 3.0, 5.0, 3.0, 4.0, 4.5, 4.5, 2.5, 1.0, 5.0, 2.5, 4.0, 4.0, 3.0, 4.0, 4.5, 4.5, 4.0, 4.0, 4.5, 4.0, 3.5, 4.0, 3.5, 5.0, 1.0, 4.0, 3.0, 3.5, 5.0, 3.5, 4.0, 4.5, 3.0, 4.0, 4.5, 3.5, 4.0, 3.5, 3.5, 4.0, 4.5, 4.0, 2.5, 3.5, 3.5, 3.5, 3.0, 4.5, 3.5, 4.0, 3.0, 4.0, 4.0, 4.0, 4.0, 3.0, 4.5, 4.0, 3.5, 4.5, 5.0, 4.0, 5.0, 4.5, 4.0, 4.0, 5.0, 4.0, 4.0, 1.0, 5.0, 3.0, 4.5, 2.0, 3.5, 5.0, 3.5, 4.0, 4.0, 1.0, 5.0, 5.0, 4.0, 4.5, 5.0, 3.5, 4.0, 3.5, 4.5, 4.5, 5.0, 4.5, 3.0, 4.5, 3.0, 3.5, 4.0, 4.0, 4.0, 2.5, 4.5, 4.0, 3.5, 2.0, 4.5, 4.5, 4.5, 4.0, 1.0, 4.5, 5.0, 3.0, 4.0, 4.0, 2.5, 4.5, 4.5, 5.0, 3.0, 3.5, 3.5, 3.0, 5.0, 4.0, 2.5, 2.5, 5.0, 5.0, 5.0, 3.0, 5.0, 4.5, 2.5, 5.0, 5.0, 3.0, 4.5, 4.0, 3.5, 2.5, 4.5, 2.0, 5.0, 3.5, 5.0, 5.0, 1.0, 2.0, 3.0, 5.0, 5.0, 4.0, 5.0, 4.5, 3.5, 5.0, 5.0, 5.0, 3.0, 3.5, 4.5, 4.0, 4.5, 5.0, 5.0, 1.0, 3.5, 4.5, 3.5, 5.0, 5.0, 4.5, 4.5, 1.5, 2.5, 4.5, 4.0, 4.0, 4.0, 4.5, 4.5, 3.5, 3.5, 5.0, 2.0, 4.5, 4.5, 3.5, 5.0, 5.0, 4.5, 5.0, 5.0, 3.0, 5.0, 5.0, 5.0, 3.0, 3.0, 4.5, 3.0, 3.0, 4.0, 4.5, 4.5, 3.5, 4.0, 2.5, 4.0, 3.0, 4.5, 3.5, 3.5, 4.0, 4.5, 4.0, 3.5, 4.0, 3.5, 3.0, 4.5, 4.5, 4.0, 4.0, 3.5, 4.0, 3.5, 5.0, 3.0, 4.5, 1.5, 5.0, 5.0, 4.5, 5.0, 4.5, 3.5, 5.0, 4.0, 5.0, 5.0, 4.5, 4.0, 4.0, 4.0, 3.0, 3.0, 4.5, 4.0, 4.0, 4.0, 4.0, 5.0, 3.5, 2.5, 3.5, 4.0, 3.5, 5.0, 3.0, 1.5, 4.0, 4.0, 3.5, 4.0, 3.5, 2.0, 3.5, 5.0, 2.5, 3.0, 1.0, 4.5, 3.5, 4.0, 2.5, 4.0, 5.0, 3.0, 4.0, 4.0, 2.5, 3.0, 5.0, 3.5, 2.5, 5.0, 3.0, 4.5, 4.0, 3.0, 4.5, 3.0, 4.5, 3.5, 3.0, 5.0, 3.0, 4.0, 5.0, 4.5, 4.0, 4.5, 5.0, 5.0, 4.0, 3.5, 3.5, 1.0, 5.0, 5.0, 4.0, 2.5, 4.0, 4.0, 3.5, 2.0, 5.0, 2.5, 1.0, 1.0, 1.0, 3.0, 5.0, 5.0, 5.0, 3.0, 3.0, 3.5, 4.0, 5.0, 2.5, 5.0, 4.5, 4.0, 5.0, 4.0, 5.0, 4.5, 3.5, 4.0, 4.5, 3.5, 4.0, 2.5, 1.0, 3.0, 3.5, 5.0, 5.0, 4.5, 5.0, 3.0, 5.0, 3.0, 4.0, 5.0, 3.0, 5.0, 3.0, 4.0, 3.0, 4.0, 5.0, 3.5, 4.0, 3.0, 4.0, 4.5, 3.5, 5.0, 4.5, 3.5, 3.5, 4.0, 4.0, 3.5, 4.0, 4.5, 4.0, 4.5, 4.5, 3.5, 4.0, 3.5, 4.0, 3.5, 3.0, 4.5, 4.0, 3.0, 3.0, 3.0, 3.0, 4.0, 4.0, 4.0, 3.0, 5.0, 5.0, 4.0, 4.0, 3.5, 5.0, 5.0, 4.0, 5.0, 4.0, 4.5, 4.5, 2.0, 5.0, 4.0, 4.0, 5.0, 4.5, 5.0, 5.0, 1.0, 5.0, 5.0, 4.0, 5.0, 4.0, 3.0, 5.0, 1.5, 5.0, 3.5, 3.5, 5.0, 5.0, 3.0, 5.0, 4.0, 4.5, 5.0, 3.5, 4.5, 3.0, 4.0, 4.0, 4.5, 4.0, 4.5, 3.0, 3.5, 4.0, 3.5, 2.5, 4.5, 4.5, 4.5, 3.5, 3.5, 4.0, 1.5, 4.0, 3.5, 3.5, 1.5, 3.0, 4.0, 4.5, 3.5, 3.5, 4.5, 4.0, 4.5, 4.0, 3.5, 2.5, 4.5, 4.5, 2.5, 4.0, 5.0, 3.5, 3.5, 4.0, 3.5, 3.5, 4.0, 2.5, 4.0, 3.0, 3.5, 4.0, 3.5, 3.5, 4.0, 4.0, 4.5, 2.0, 4.0, 5.0, 4.0, 5.0, 3.5, 4.0, 4.0, 4.5, 4.0, 4.0, 4.0, 3.0, 5.0, 4.0, 4.0, 4.0, 4.0, 3.0, 4.5, 4.0, 4.0, 4.0, 4.5, 3.5, 3.5, 3.0, 4.0, 3.5, 3.5, 3.5, 2.5, 3.5, 4.0, 3.0, 3.5, 2.0, 3.5, 4.0, 4.0, 3.0, 4.5, 5.0, 3.0, 4.0, 2.5, 2.0, 3.0, 4.0, 4.5, 2.5, 5.0, 4.0, 4.0, 4.0, 4.0, 3.5, 4.5, 4.0, 2.0, 4.5, 4.5, 4.0, 1.0, 2.0, 4.5, 4.5, 5.0, 4.0, 3.0, 4.0, 3.5, 3.5, 3.0, 3.0, 3.5, 4.5, 4.5, 5.0, 3.5, 2.5, 5.0, 4.0, 4.5, 4.5, 4.0, 4.0, 3.5, 4.0, 4.0, 3.5, 5.0, 3.5, 5.0, 4.0, 4.0, 4.0, 4.5, 3.0, 3.0, 2.0, 5.0, 3.0, 5.0, 5.0, 5.0, 4.5, 2.5, 3.0, 4.0, 5.0, 3.0, 4.0, 4.0, 3.5, 2.0, 4.0, 4.0, 3.5, 3.0, 3.5, 4.0, 2.0, 3.0, 2.0, 2.0, 3.5, 2.0, 5.0, 5.0, 2.0, 4.0, 4.0, 3.0, 4.0, 4.0, 4.0, 4.5, 1.0, 4.0, 5.0, 1.0, 5.0, 5.0, 5.0, 5.0, 4.5, 4.5, 3.0, 5.0, 4.5, 5.0, 5.0, 5.0, 3.0, 5.0, 4.5, 3.5, 4.5, 3.0, 3.0, 4.5, 4.5, 4.0, 4.5, 3.5, 4.0, 4.0, 4.0, 3.0, 3.5, 2.5, 3.0, 5.0, 4.0, 4.0, 5.0, 2.0, 4.0, 4.5, 4.0, 3.0, 4.5, 4.0, 4.0, 4.0, 4.5, 3.5, 4.0, 4.0, 3.5, 5.0, 3.5, 3.5, 4.0, 3.5, 4.5, 5.0, 4.0, 3.0, 3.0, 4.5, 4.0, 4.5, 2.0, 2.5, 3.0, 2.0, 3.0, 3.5, 4.5, 4.0, 3.0, 5.0, 3.0, 2.0, 1.0, 4.5, 3.0, 5.0, 1.0, 3.0, 2.5, 4.0, 2.5, 4.5, 3.5, 4.0, 3.0, 4.5, 3.5, 4.0, 2.5, 2.5, 5.0, 3.5, 4.0, 3.0, 5.0, 4.5, 4.0, 3.5, 1.0, 5.0, 5.0, 4.0, 2.0, 4.0, 3.0, 2.5, 2.0, 3.5, 5.0, 3.0, 4.0, 2.5, 4.5, 4.0, 3.5, 3.0, 5.0, 5.0, 3.0, 4.0, 4.5, 4.0, 4.5, 2.0, 3.5, 5.0, 4.0, 3.0, 1.0, 4.0, 3.0, 5.0, 3.0, 3.5, 5.0, 3.0, 3.0, 3.0, 3.0, 5.0, 4.5, 4.5, 1.0, 4.0, 2.5, 2.5, 4.0, 5.0, 2.0, 5.0, 3.5, 3.5, 3.0, 4.5, 3.5, 4.0, 3.5, 4.0, 4.0, 5.0, 4.0, 4.5, 4.0, 5.0, 5.0, 3.5, 1.0, 3.0, 5.0, 4.5, 5.0, 1.0, 2.5, 3.0, 5.0, 5.0, 4.0, 4.0, 3.5, 4.5, 4.0, 4.0, 2.5, 4.0, 5.0, 5.0, 4.5, 5.0, 4.0, 4.0, 5.0, 5.0, 1.0, 5.0, 4.5, 5.0, 5.0, 5.0, 3.0, 4.5, 5.0, 3.0, 3.0, 3.0, 3.0, 4.5, 1.0, 3.0, 1.0, 1.0, 4.0, 5.0, 5.0, 4.5, 2.5, 5.0, 4.5, 4.0, 3.0, 4.5, 1.0, 2.5, 2.5, 5.0, 3.5, 5.0, 4.0, 4.5, 5.0, 1.5, 5.0, 5.0, 3.5, 1.5, 5.0, 5.0, 4.0, 5.0, 4.0, 4.0, 1.5, 3.5, 5.0, 5.0, 5.0, 1.0, 5.0, 5.0, 5.0, 4.0, 3.5, 3.5, 3.0, 3.5, 4.5, 5.0, 5.0, 3.0, 3.0, 4.0, 5.0, 3.0, 3.5, 4.0, 2.5, 4.0, 4.5, 4.5, 4.0, 3.0, 4.0, 5.0, 5.0, 3.5, 5.0, 4.5, 4.0, 5.0, 3.0, 2.0, 3.0, 3.0, 4.5, 4.5, 5.0, 2.5, 4.5, 5.0, 1.0, 5.0, 5.0, 5.0, 5.0, 5.0, 4.0, 5.0, 5.0, 1.5, 5.0, 5.0, 5.0, 5.0, 5.0, 4.5, 5.0, 4.0, 3.5, 4.5, 4.0, 3.0, 4.5, 5.0, 4.5, 5.0, 5.0, 4.0, 4.0, 2.0, 3.5, 5.0, 4.0, 3.5, 4.0, 1.5, 3.5, 2.0, 5.0, 4.0, 4.0, 4.0, 4.5, 4.0, 4.5, 3.5, 3.5, 4.0, 3.5, 2.5, 3.5, 4.0, 4.0, 3.5, 4.5, 4.0, 4.5, 4.0, 3.5, 4.0, 4.5, 3.5, 4.0, 4.0, 4.0, 1.0, 4.0, 4.0, 4.5, 4.0, 3.5, 4.0, 4.5, 3.5, 3.5, 5.0, 3.5, 4.0, 3.5, 4.0, 4.5, 2.0, 3.5, 3.5, 4.0, 4.0, 4.5, 3.0, 4.0, 2.0, 4.5, 4.5, 3.5, 4.5, 4.0, 4.5, 4.5, 4.0, 4.0, 4.0, 4.0, 3.5, 4.5, 3.5, 4.5, 4.0, 3.0, 4.0, 3.0, 4.0, 3.5, 2.0, 2.5, 4.0, 3.0, 4.0, 4.0, 4.0, 4.0, 4.0, 4.5, 3.5, 4.5, 4.0, 4.5, 4.5, 4.0, 3.5, 3.5, 4.5, 4.5, 5.0, 3.5, 4.0, 3.0, 4.0, 4.5, 4.5, 3.5, 4.5, 4.5, 4.0, 4.0, 4.0, 3.5, 3.0, 4.0, 4.5, 3.5, 4.0, 5.0, 4.0, 4.5, 4.5, 5.0, 3.0, 4.5, 4.0, 3.0, 4.0, 4.5, 4.0, 4.0, 1.0, 3.0, 3.0, 5.0, 2.5, 4.5, 4.5, 4.0, 4.0, 3.5, 1.0, 2.5, 4.5, 4.0, 3.5, 4.0, 4.0, 4.5, 4.0, 4.5, 4.0, 4.0, 4.5, 4.5, 4.0, 5.0, 4.5, 4.0, 4.5, 4.0, 4.0, 4.0, 4.0, 4.0, 4.5, 4.0, 4.0, 5.0, 4.5, 3.5, 3.5, 4.5, 4.5, 4.0, 5.0, 3.0, 4.0, 4.5, 3.5, 3.5, 3.5, 3.0, 4.0, 2.5, 3.0, 4.5, 3.0, 4.0, 5.0, 4.5, 5.0, 4.0, 5.0, 3.5, 4.5, 4.5, 5.0, 4.0, 4.5, 4.5, 4.0, 4.0, 4.0, 5.0, 3.0, 2.0, 4.5, 4.5, 4.5, 4.5, 4.0, 4.0, 4.5, 4.5, 4.5, 4.0, 4.0, 5.0, 4.0, 4.5, 3.5, 4.5, 2.0, 3.0, 4.0, 4.0, 5.0, 4.5, 5.0, 5.0, 5.0, 5.0, 5.0, 4.0, 4.5, 4.5, 5.0, 3.5, 3.0, 3.0, 4.5, 3.0, 4.5, 4.0, 3.5, 3.5, 4.0, 3.5, 4.0, 4.5, 4.0, 4.0, 4.0, 2.5, 3.5, 4.5, 4.0, 4.0, 1.0, 5.0, 4.0, 4.0, 2.0, 5.0, 5.0, 3.0, 4.0, 4.0, 2.5, 4.0, 4.0, 3.5, 4.5, 4.5, 3.0, 5.0, 4.0, 5.0, 4.5, 4.0, 3.0, 2.0, 3.5, 4.5, 4.5, 4.0, 3.5, 4.5, 3.5, 5.0, 4.0, 5.0, 2.5, 4.0, 2.5, 4.5, 4.0, 4.0, 3.0, 2.5, 4.0, 5.0, 5.0, 2.0, 5.0, 5.0, 3.5, 3.0, 4.0, 2.5, 4.0, 3.5, 4.0, 3.5, 5.0, 3.5, 3.5, 5.0, 2.5, 4.5, 4.5, 4.5, 5.0, 5.0, 4.0, 1.5, 5.0, 3.5, 3.5, 1.0, 4.0, 3.0, 5.0, 5.0, 5.0, 4.0, 5.0, 5.0, 4.5, 4.0, 5.0, 5.0, 4.5, 4.0, 3.0, 5.0, 4.0, 5.0, 4.0, 4.0, 3.0, 3.5, 4.0, 5.0, 2.0, 2.5, 2.5, 3.0, 4.0, 4.5, 5.0, 3.5, 4.0, 4.5, 3.0, 4.0, 4.5, 4.0, 2.5, 3.0, 4.5, 4.5, 3.0, 5.0, 4.0, 4.5, 3.5, 4.5, 3.0, 4.0, 2.5, 3.5, 3.5, 3.5, 4.5, 3.0, 4.0, 4.0, 3.5, 4.0, 3.5, 4.0, 3.5, 4.5, 4.5, 4.5, 3.0, 5.0, 3.5, 4.5, 3.0, 4.0, 3.0, 3.5, 4.0, 2.5, 3.5, 3.5, 5.0, 4.5, 4.0, 3.5, 1.5, 3.0, 3.0, 2.5, 4.0, 4.0, 4.0, 4.5, 4.5, 3.5, 3.5, 4.5, 4.0, 4.0, 2.5, 3.0, 5.0, 4.0, 3.5, 4.5, 3.0, 4.5, 4.5, 4.0, 3.0, 4.5, 3.5, 2.0, 2.0, 5.0, 4.0, 3.5, 4.5, 1.5, 4.0, 3.5, 4.0, 2.5, 5.0, 5.0, 5.0, 2.0, 5.0, 4.5, 5.0, 4.0, 4.0, 4.0, 4.5, 3.0, 3.5, 4.5, 4.0, 3.5, 4.5, 4.5, 3.0, 4.5, 4.5, 2.5, 4.5, 5.0, 3.0, 4.5, 3.0, 4.0, 3.5, 5.0, 4.5, 4.0, 1.0, 5.0, 4.0, 2.5, 4.0, 3.0, 4.5, 5.0, 3.0, 4.0, 3.5, 3.5, 3.0, 4.5, 5.0, 5.0, 5.0, 4.5, 3.5, 3.5, 5.0, 4.0, 4.0, 5.0, 4.5, 2.5, 5.0, 4.5, 2.0, 5.0, 4.0, 2.0, 4.5, 3.5, 4.0, 4.0, 4.0, 4.5, 4.5, 3.0, 4.0, 3.5, 3.0, 4.0, 4.0, 4.0, 3.5, 4.0, 4.0, 4.5, 4.5, 5.0, 4.0, 4.5, 4.0, 5.0, 4.5, 4.5, 4.5, 3.5, 3.0, 4.5, 4.0, 4.5, 4.0, 3.5, 4.0, 4.5, 4.5, 3.5, 4.5, 4.5, 4.0, 3.5, 3.0, 3.5, 4.0, 4.0, 4.0, 4.0, 2.5, 4.5, 3.5, 4.5, 4.5, 4.0, 4.0, 4.5, 3.5, 3.5, 4.0, 5.0, 5.0, 4.0, 4.5, 5.0, 3.5, 3.0, 4.0, 4.5, 4.0, 3.5, 4.5, 4.5, 4.0, 3.5, 2.0, 4.5, 3.0, 3.5, 3.0, 5.0, 4.0, 4.0, 1.0, 3.5, 3.0, 4.0, 4.0, 2.5, 3.5, 3.0, 3.0, 5.0, 4.0, 5.0, 4.5, 4.0, 4.0, 3.0, 4.0, 3.5, 4.0, 3.5, 5.0, 5.0, 5.0, 3.5, 3.5, 4.0, 4.0, 3.0, 3.0, 3.0, 4.0, 5.0, 3.0, 4.0, 4.5, 2.0, 5.0, 4.0, 2.5, 4.5, 4.0, 4.0, 4.0, 1.0, 3.0, 5.0, 5.0, 2.5, 3.5, 4.0, 3.5, 2.5, 4.0, 3.0, 3.0, 4.5, 3.5, 3.5, 5.0, 4.5, 2.0, 5.0, 2.5, 2.5, 3.5, 4.5, 5.0, 1.0, 3.0, 5.0, 4.0, 5.0, 3.0, 4.5, 2.5, 2.0, 4.0, 3.5, 3.5, 1.0, 3.0, 5.0, 3.5, 2.0, 5.0, 4.5, 5.0, 3.0, 4.0, 5.0, 4.5, 5.0, 2.0, 3.0, 2.5, 3.5, 4.5, 3.5, 4.5, 4.5, 4.5, 4.5, 3.5, 3.5, 4.5, 3.0, 4.0, 5.0, 4.5, 5.0, 5.0, 3.0, 4.5, 4.0, 3.5, 3.5, 4.5, 3.0, 5.0, 3.5, 5.0, 4.0, 2.5, 4.0, 3.0, 4.5, 1.0, 5.0, 5.0, 3.0, 5.0, 5.0, 4.5, 4.5, 3.5, 4.0, 3.5, 3.5, 2.5, 4.5, 4.0, 5.0, 3.5, 5.0, 2.5, 5.0, 5.0, 4.0, 3.5, 2.5, 2.0, 3.5, 2.0, 4.0, 4.5, 3.5, 5.0, 5.0, 2.5, 3.5, 4.5, 4.0, 4.0, 5.0, 4.0, 4.0, 3.5, 5.0, 5.0, 3.0, 4.0, 4.5, 5.0, 5.0, 4.5, 3.5, 4.0, 4.5, 5.0, 4.5, 4.0, 5.0, 3.5, 3.5, 3.5, 3.0, 3.0, 4.0, 3.0, 4.0, 4.0, 4.5, 3.0, 4.0, 1.0, 4.0, 4.0, 5.0, 3.5, 3.0, 2.5, 3.5, 4.0, 4.5, 4.5, 4.0, 3.0, 5.0, 5.0, 5.0, 4.0, 5.0, 3.0, 5.0, 5.0, 4.5, 5.0, 3.0, 5.0, 3.5, 3.5, 4.5, 2.5, 5.0, 4.0, 2.0, 3.0, 4.0, 5.0, 2.5, 5.0, 4.0, 3.5, 5.0, 4.0, 3.5, 4.0, 1.5, 4.0, 4.0, 4.0, 4.0, 4.0, 3.5, 2.5, 5.0, 2.5, 4.5, 4.5, 4.0, 4.0, 4.5, 3.0, 3.5, 5.0, 3.0, 4.5, 3.0, 3.5, 3.5, 4.5, 3.5, 3.0, 3.0, 3.0, 4.0, 4.0, 3.5, 2.5, 4.5, 4.0, 3.0, 3.5, 2.5, 2.5, 3.0, 3.0, 3.0, 3.5, 5.0, 3.0, 3.5, 4.5, 3.0, 3.0, 4.5, 4.0, 4.0, 4.0, 3.5, 2.0, 4.0, 4.5, 4.0, 3.5, 2.0, 2.0, 3.5, 5.0, 4.0, 3.5, 2.0, 3.5, 3.0, 4.0, 4.0, 5.0, 3.5, 4.0, 2.0, 4.0, 2.0, 2.5, 3.5, 3.0, 3.0, 4.5, 5.0, 4.5, 3.0, 4.0, 2.5, 4.0, 1.0, 3.0, 4.5, 5.0, 4.0, 4.0, 4.0, 1.5, 3.0, 1.5, 1.5, 2.5, 3.0, 3.0, 3.5, 3.5, 4.0, 1.0, 3.5, 5.0, 4.0, 4.0, 2.5, 3.0, 4.0, 2.0, 3.0, 4.0, 5.0, 5.0, 1.0, 4.0, 5.0, 4.5, 5.0, 5.0, 5.0, 4.5, 5.0, 3.0, 4.5, 4.0, 3.0, 3.5, 3.5, 4.0, 4.0, 4.0, 4.0, 4.0, 3.5, 4.5, 3.5, 4.0, 4.5, 2.5, 4.5, 2.5, 4.5, 3.5, 3.0, 3.0, 2.5, 3.0, 4.0, 4.5, 4.0, 4.5, 4.0, 3.5, 3.0, 4.5, 4.0, 3.5, 3.5, 3.5, 4.0, 2.5, 3.0, 3.5, 3.5, 4.5, 4.0, 3.5, 4.0, 3.0, 3.5, 4.5, 3.0, 4.0, 4.0, 3.5, 4.5, 4.0, 4.0, 4.0, 3.0, 3.5, 4.5, 4.5, 4.0, 4.5, 2.5, 4.0, 4.0, 3.0, 4.5, 3.0, 1.5, 4.5, 4.0, 3.5, 3.0, 4.5, 2.5, 3.5, 4.5, 4.0, 4.0, 5.0, 4.5, 2.5, 4.5, 3.5, 4.0, 3.5, 3.0, 3.0, 5.0, 2.5, 4.5, 3.5, 3.0, 4.5, 5.0, 4.5, 2.0, 4.0, 5.0, 4.5, 3.5, 3.5, 3.0, 3.5, 3.0, 2.0, 3.0, 3.5, 4.5, 4.0, 3.5, 3.5, 4.5, 3.5, 4.5, 3.0, 4.5, 4.0, 4.0, 2.5, 4.5, 3.5, 4.0, 4.5, 4.0, 3.5, 4.0, 4.0, 4.0, 4.0, 3.5, 4.0, 1.0, 4.5, 3.0, 4.0, 3.5, 3.5, 4.5, 3.5, 3.0, 3.5, 5.0, 3.5, 3.5, 3.0, 4.0, 3.5, 4.0, 4.0, 4.5, 3.5, 4.5, 4.0, 3.0, 3.5, 3.5, 3.5, 4.0, 4.0, 3.5, 4.0, 5.0, 5.0, 2.5, 4.5, 3.5, 4.0, 3.5, 4.5, 3.0, 5.0, 3.5, 4.5, 3.5, 2.5, 4.0, 4.0, 4.5, 4.0, 3.0, 3.5, 4.0, 4.0, 4.5, 4.0, 5.0, 3.5, 4.0, 4.5, 4.0, 4.0, 3.0, 4.0, 3.5, 4.0, 3.0, 3.0, 2.5, 3.0, 3.5, 4.0, 4.0, 2.5, 4.0, 5.0, 3.5, 4.0, 3.0, 4.0, 3.5, 3.0, 3.5, 4.0, 2.5, 5.0, 4.0, 3.0, 3.0, 3.5, 4.5, 4.5, 4.0, 4.0, 3.0, 4.0, 3.5, 4.0, 4.0, 3.5, 4.0, 1.5, 2.5, 4.5, 3.5, 2.5, 3.5, 4.0, 2.0, 4.0, 2.0, 2.5, 4.0, 4.5, 4.5, 4.0, 4.5, 3.0, 3.5, 2.5, 4.0, 3.5, 4.5, 3.5, 4.0, 4.0, 3.5, 3.5, 3.5, 4.0, 4.0, 4.0, 4.0, 4.0, 4.5, 4.0, 3.0, 4.0, 4.0, 4.5, 3.5, 5.0, 4.5, 4.0, 4.0, 4.0, 4.5, 4.5, 4.0, 3.5, 3.5, 4.0, 5.0, 4.5, 3.0, 2.0, 3.5, 4.0, 4.0, 4.0, 4.0, 3.5, 4.0, 4.0, 3.5, 3.0, 4.0, 5.0, 4.0, 1.5, 3.5, 4.5, 1.0, 3.5, 5.0, 3.0, 4.5, 4.0, 3.0, 3.5, 3.0, 4.5, 4.0, 4.0, 4.5, 3.0, 3.0, 3.5, 4.5, 4.5, 2.0, 2.5, 3.0, 1.0, 5.0, 4.0, 4.0, 4.0, 4.0, 5.0, 1.0, 4.0, 5.0, 4.0, 4.5, 3.0, 4.5, 4.0, 5.0, 3.5, 4.0, 4.0, 4.0, 4.0, 4.5, 4.5, 4.0, 4.0, 4.5, 3.0, 3.5, 3.5, 3.0, 4.0, 2.0, 5.0, 5.0, 5.0, 5.0, 4.0, 4.5, 3.0, 5.0, 4.5, 5.0, 2.5, 4.0, 3.5, 4.0, 5.0, 3.5, 3.5, 3.5, 4.0, 3.5, 3.5, 4.0, 4.0, 3.5, 4.5, 3.0, 4.0, 5.0, 2.5, 4.0, 4.5, 1.0, 3.0, 4.5, 3.5, 1.0, 4.0, 3.0, 4.5, 4.5, 2.0, 5.0, 4.0, 4.0, 4.5, 5.0, 3.0, 2.5, 1.0, 5.0, 4.0, 3.5, 3.5, 4.0, 4.5, 2.0, 3.0, 3.5, 4.5, 2.5, 4.5, 4.0, 3.5, 5.0, 3.0, 3.0, 4.5, 1.5, 4.0, 3.0, 5.0, 4.0, 2.5, 2.0, 4.5, 4.5, 4.0, 4.5, 5.0, 5.0, 3.0, 5.0, 3.0, 5.0, 4.5, 3.5, 3.0, 4.5, 4.0, 4.0, 4.0, 4.5, 4.0, 4.0, 3.0, 2.0, 2.5, 3.5, 3.5, 4.0, 4.0, 4.0, 4.0, 3.5, 4.0, 4.0, 4.5, 1.5, 4.0, 3.0, 2.5, 3.5, 3.5, 4.0, 3.0, 3.5, 4.5, 4.0, 4.0, 4.0, 3.5, 3.5, 3.5, 4.0, 4.0, 4.5, 4.0, 4.0, 3.0, 4.5, 4.5, 4.5, 4.0, 4.0, 4.5, 3.0, 4.5, 4.5, 4.5, 4.0, 4.5, 4.5, 3.5, 4.5, 4.5, 3.5, 4.5, 4.5, 3.5, 4.5, 4.5, 4.0, 4.0, 4.0, 3.5, 3.0, 3.0, 5.0, 4.0, 5.0, 4.0, 4.0, 4.5, 4.0, 3.5, 2.0, 4.0, 4.5, 4.0, 3.0, 5.0, 4.0, 4.0, 4.0, 3.5, 4.0, 4.0, 4.0, 3.0, 4.0, 4.0, 3.0, 4.5, 5.0, 5.0, 4.0, 2.5, 4.5, 4.0, 4.0, 4.5, 5.0, 5.0, 4.5, 3.0, 1.5, 4.0, 1.0, 3.5, 4.5, 4.5, 1.0, 4.5, 2.0, 4.0, 4.0, 3.0, 2.0, 2.0, 4.5, 5.0, 5.0, 4.5, 3.5, 2.5, 4.0, 5.0, 3.0, 3.5, 4.0, 5.0, 3.5, 3.5, 3.5, 4.0, 4.0, 3.0, 3.5, 3.5, 4.0, 4.5, 4.0, 4.0, 4.0, 2.0, 4.0, 2.5, 5.0, 5.0, 4.5, 2.5, 4.0, 4.0, 5.0, 3.0, 3.0, 4.5, 1.0, 4.5, 3.0, 5.0, 5.0, 4.0, 5.0, 4.5, 4.0, 3.0, 3.0, 4.5, 5.0, 1.0, 4.5, 3.0, 4.5, 3.0, 5.0, 4.5, 3.5, 1.5, 3.5, 3.0, 4.0, 5.0, 4.5, 3.0, 5.0, 4.5, 3.5, 2.5, 5.0, 5.0, 3.0, 3.5, 5.0, 5.0, 4.0, 2.5, 4.5, 1.5, 4.5, 5.0, 5.0, 4.0, 5.0, 4.0, 4.5, 4.5, 3.5, 3.5, 5.0, 4.5, 4.0, 4.0, 3.0, 4.0, 3.0, 4.5, 5.0, 3.5, 4.0, 2.5, 5.0, 2.5, 4.5, 3.0, 5.0, 5.0, 1.0, 5.0, 3.0, 5.0, 2.5, 4.0, 4.5, 4.0, 3.5, 3.5, 4.5, 3.0, 3.5, 5.0, 5.0, 1.0, 4.0, 4.0, 4.0, 1.0, 2.0, 4.0, 4.0, 3.0, 4.0, 2.0, 3.5, 2.5, 5.0, 3.0, 3.0, 3.0, 3.5, 5.0, 4.0, 5.0, 3.5, 4.0, 1.0, 2.5, 3.5, 4.5, 3.0, 5.0, 1.0, 5.0, 4.0, 4.0, 2.0, 5.0, 4.0, 3.0, 4.0, 4.0, 3.5, 5.0, 4.0, 4.0, 1.0, 4.0, 1.5, 3.0, 5.0, 4.5, 5.0, 5.0, 3.5, 5.0, 3.5, 4.5, 3.5, 4.0, 2.5, 4.5, 3.5, 3.0, 5.0, 5.0, 2.0, 4.5, 2.0, 4.0, 3.5, 3.5, 4.5, 4.0, 3.0, 4.0, 3.0, 3.5, 4.5, 4.0, 4.0, 4.0, 3.5, 5.0, 3.5, 4.5, 4.5, 4.0, 2.5, 3.0, 1.5, 4.0, 4.5, 3.5, 3.0, 3.0, 3.0, 3.0, 4.5, 3.5, 2.5, 4.5, 3.5, 3.5, 2.5, 3.5, 4.0, 4.5, 3.5, 4.0, 3.0, 4.5, 4.0, 4.5, 3.5, 4.0, 4.0, 4.0, 5.0, 4.0, 3.5, 3.0, 2.5, 3.5, 3.0, 3.0, 4.0, 4.5, 3.0, 3.5, 1.0, 4.0, 2.5, 2.0, 4.5, 5.0, 3.0, 3.5, 3.0, 4.5, 3.5, 4.0, 3.5, 4.0, 4.0, 4.0, 5.0, 4.0, 2.5, 3.5, 4.5, 4.0, 3.5, 4.5, 4.5, 4.0, 5.0, 4.0, 4.5, 4.0, 3.5, 2.5, 3.0, 2.5, 5.0, 4.5, 1.0, 4.0, 3.5, 5.0, 5.0, 5.0, 3.0, 5.0, 5.0, 5.0, 1.0, 4.0, 5.0, 5.0, 4.0, 4.5, 4.5, 4.5, 4.0, 5.0, 3.0, 3.0, 3.5, 5.0, 4.0, 3.0, 5.0, 2.5, 3.0, 5.0, 5.0, 5.0, 5.0, 5.0, 5.0, 5.0, 1.0, 4.5, 3.5, 4.0, 3.0, 5.0, 3.5, 4.0, 5.0, 5.0, 5.0, 4.0, 2.0, 2.0, 4.0, 3.5, 3.5, 4.5, 1.0, 5.0, 5.0, 3.5, 3.5, 4.0, 4.0, 4.0, 3.5, 4.0, 4.0, 4.0, 4.0, 3.5, 3.5, 4.0, 4.5, 3.5, 4.5, 4.0, 3.5, 4.0, 4.5, 3.5, 4.0, 3.5, 4.0, 4.5, 4.5, 3.0, 4.5, 3.5, 5.0, 3.5, 4.0, 3.5, 4.5, 3.5, 4.0, 4.5, 4.5, 4.5, 3.0, 4.5, 3.5, 4.0, 3.5, 4.0, 4.0, 3.0, 4.0, 4.0, 3.0, 3.0, 3.5, 4.0, 2.0, 4.5, 4.0, 2.5, 4.0, 4.5, 2.5, 3.5, 2.0, 3.0, 2.0, 4.0, 3.5, 3.0, 3.5, 3.5, 5.0, 4.5, 4.0, 3.5, 3.0, 4.5, 3.5, 3.5, 1.0, 4.5, 4.5, 4.0, 5.0, 4.0, 4.0, 4.0, 3.5, 3.0, 4.0, 4.0, 4.5, 5.0, 3.0, 5.0, 4.5, 4.0, 3.5, 3.5, 4.0, 3.5, 3.5, 3.5, 5.0, 3.5, 4.5, 3.0, 4.0, 4.0, 4.0, 5.0, 3.5, 4.0, 4.0, 3.5, 4.0, 4.0, 5.0, 4.0, 5.0, 4.5, 3.0, 5.0, 3.0, 4.0, 3.5, 3.5, 3.5, 4.0, 3.5, 3.0, 5.0, 4.0, 2.5, 4.5, 4.0, 5.0, 3.5, 3.5, 4.0, 4.0, 2.5, 4.5, 4.0, 3.5, 4.0, 3.5, 4.0, 5.0, 4.5, 4.0, 4.0, 4.0, 4.5, 3.0, 4.5, 3.5, 4.0, 1.0, 3.0, 5.0, 3.0, 5.0, 3.5, 4.0, 4.5, 2.0, 3.0, 3.5, 1.0, 3.5, 3.5, 4.5, 3.0, 4.0, 4.0, 3.0, 1.5, 5.0, 4.0, 5.0, 3.0, 4.0, 5.0, 4.5, 3.0, 4.0, 4.0, 4.0, 4.0, 3.5, 3.5, 3.5, 3.5, 3.5, 5.0, 2.5, 3.5, 3.5, 3.5, 5.0, 4.0, 4.0, 4.0, 4.0, 4.5, 4.5, 4.0, 4.5, 4.0, 4.5, 4.5, 4.0, 4.5, 4.0, 4.5, 4.5, 4.0, 3.0, 4.0, 3.0, 4.0, 1.5, 3.0, 2.0, 3.0, 3.0, 4.0, 2.5, 3.5, 4.0, 4.5, 4.0, 2.0, 4.0, 4.5, 4.0, 2.5, 4.0, 4.0, 4.0, 4.0, 4.0, 3.5, 4.5, 4.0, 4.0, 3.5, 2.0, 4.5, 3.5, 4.0, 3.0, 4.5, 3.5, 3.0, 4.0, 4.5, 5.0, 5.0, 3.5, 4.0, 5.0, 4.0, 4.5, 5.0, 5.0, 4.5, 2.0, 3.0, 4.0, 3.0, 2.5, 1.0, 4.0, 4.5, 4.5, 4.5, 4.5, 3.5, 4.0, 4.5, 4.0, 4.0, 4.5, 4.5, 3.5, 4.0, 3.5, 4.0, 4.5, 4.0, 4.0, 3.5, 5.0, 3.0, 5.0, 4.5, 3.0, 4.0, 3.5, 4.0, 4.0, 4.0, 5.0, 4.5, 4.0, 4.0, 5.0, 5.0, 2.5, 3.5, 2.5, 4.0, 3.0, 5.0, 5.0, 3.5, 1.0, 5.0, 4.0, 4.0, 2.5, 3.0, 1.0, 3.0, 4.5, 3.5, 3.0, 4.5, 4.5, 4.0, 4.0, 3.0, 3.5, 4.5, 2.0, 4.5, 4.5, 4.0, 4.0, 4.0, 3.0, 3.5, 5.0, 5.0, 5.0, 5.0, 3.0, 4.0, 2.5, 5.0, 3.0, 5.0, 4.0, 4.0, 1.5, 3.5, 5.0, 1.0, 4.5, 5.0, 5.0, 4.0, 3.5, 4.5, 4.0, 2.5, 4.0, 3.5, 3.0, 3.0, 3.5, 4.0, 5.0, 5.0, 4.0, 4.0, 3.0, 4.0, 5.0, 5.0, 5.0, 4.0, 4.0, 3.5, 4.0, 3.0, 3.5, 4.0, 5.0, 3.0, 5.0, 4.0, 5.0, 3.5, 4.5, 4.0, 4.0, 5.0, 5.0, 5.0, 4.5, 4.0, 1.0, 4.5, 4.5, 3.5, 4.0, 4.0, 2.5, 4.0, 4.0, 4.5, 4.5, 3.5, 4.0, 4.0, 3.0, 4.5, 4.0, 4.5, 5.0, 3.0, 3.0, 5.0, 4.5, 4.0, 4.5, 4.0, 5.0, 4.5, 4.0, 4.5, 4.5, 4.0, 3.5, 4.5, 5.0, 5.0, 4.5, 4.0, 3.5, 3.5, 4.5, 5.0, 3.0, 3.0, 4.0, 4.0, 5.0, 5.0, 3.5, 3.0, 4.5, 1.0, 3.0, 5.0, 1.5, 4.5, 3.5, 4.0, 1.0, 5.0, 4.5, 1.0, 5.0, 5.0, 4.0, 3.0, 3.0, 2.5, 4.0, 4.0, 1.0, 3.5, 3.5, 4.0, 4.0, 3.0, 3.0, 5.0, 4.5, 3.5, 3.0, 5.0, 1.5, 2.0, 2.5, 1.0, 1.0, 4.5, 1.0, 1.0, 1.0, 4.5, 1.5, 5.0, 3.0, 2.0, 1.0, 1.0, 4.5, 3.5, 4.0, 1.5, 4.0, 4.5, 1.5, 4.0, 1.5, 1.0, 1.0, 2.0, 4.0, 1.0, 2.5, 3.5, 4.0, 4.0, 4.5, 5.0, 4.0, 2.0, 3.0, 4.0, 1.0, 4.5, 5.0, 2.0, 1.0, 3.5, 1.5, 4.0, 1.5, 2.0, 5.0, 1.5, 3.0, 2.5, 1.5, 4.0, 1.5, 1.0, 1.0, 1.0, 1.0, 1.0, 1.0, 1.0, 1.0, 4.5, 1.0, 1.0, 1.0, 1.0, 3.0, 1.0, 1.0, 2.0, 1.0, 3.0, 1.0, 1.0, 1.0, 2.5, 1.0, 1.0, 1.0, 3.5, 1.0, 1.0, 1.0, 1.0, 1.0, 1.0, 1.0, 1.0, 4.0, 1.0, 1.5, 1.0, 4.0, 4.0, 1.0, 1.5, 1.0, 1.5, 1.0, 1.0, 1.0, 1.0, 1.0, 1.0, 4.0, 2.5, 3.5, 3.5, 4.0, 3.5, 5.0, 2.0, 5.0, 5.0, 3.0, 1.0, 4.0, 3.0, 4.0, 3.0, 2.5, 4.5, 1.0, 3.0, 2.0, 4.0, 3.5, 5.0, 4.0, 2.0, 5.0, 1.0, 1.0, 4.5, 3.5, 2.5, 5.0, 1.0, 5.0, 4.5, 1.5, 3.5, 5.0, 4.0, 4.0, 3.5, 3.5, 3.5, 1.0, 3.0, 1.0, 2.5, 4.0, 4.0, null], \"legendgroup\": \"\", \"name\": \"\", \"showlegend\": true, \"textinfo\": \"percent+label\", \"textposition\": \"inside\", \"type\": \"pie\"}],\n",
       "                        {\"font\": {\"size\": 15}, \"legend\": {\"tracegroupgap\": 0}, \"margin\": {\"t\": 60}, \"piecolorway\": [\"rgb(103,0,31)\", \"rgb(178,24,43)\", \"rgb(214,96,77)\", \"rgb(244,165,130)\", \"rgb(253,219,199)\", \"rgb(247,247,247)\", \"rgb(209,229,240)\", \"rgb(146,197,222)\", \"rgb(67,147,195)\", \"rgb(33,102,172)\", \"rgb(5,48,97)\"], \"template\": {\"data\": {\"bar\": [{\"error_x\": {\"color\": \"#2a3f5f\"}, \"error_y\": {\"color\": \"#2a3f5f\"}, \"marker\": {\"line\": {\"color\": \"#E5ECF6\", \"width\": 0.5}}, \"type\": \"bar\"}], \"barpolar\": [{\"marker\": {\"line\": {\"color\": \"#E5ECF6\", \"width\": 0.5}}, \"type\": \"barpolar\"}], \"carpet\": [{\"aaxis\": {\"endlinecolor\": \"#2a3f5f\", \"gridcolor\": \"white\", \"linecolor\": \"white\", \"minorgridcolor\": \"white\", \"startlinecolor\": \"#2a3f5f\"}, \"baxis\": {\"endlinecolor\": \"#2a3f5f\", \"gridcolor\": \"white\", \"linecolor\": \"white\", \"minorgridcolor\": \"white\", \"startlinecolor\": \"#2a3f5f\"}, \"type\": \"carpet\"}], \"choropleth\": [{\"colorbar\": {\"outlinewidth\": 0, \"ticks\": \"\"}, \"type\": \"choropleth\"}], \"contour\": [{\"colorbar\": {\"outlinewidth\": 0, \"ticks\": \"\"}, \"colorscale\": [[0.0, \"#0d0887\"], [0.1111111111111111, \"#46039f\"], [0.2222222222222222, \"#7201a8\"], [0.3333333333333333, \"#9c179e\"], [0.4444444444444444, \"#bd3786\"], [0.5555555555555556, \"#d8576b\"], [0.6666666666666666, \"#ed7953\"], [0.7777777777777778, \"#fb9f3a\"], [0.8888888888888888, \"#fdca26\"], [1.0, \"#f0f921\"]], \"type\": \"contour\"}], \"contourcarpet\": [{\"colorbar\": {\"outlinewidth\": 0, \"ticks\": \"\"}, \"type\": \"contourcarpet\"}], \"heatmap\": [{\"colorbar\": {\"outlinewidth\": 0, \"ticks\": \"\"}, \"colorscale\": [[0.0, \"#0d0887\"], [0.1111111111111111, \"#46039f\"], [0.2222222222222222, \"#7201a8\"], [0.3333333333333333, \"#9c179e\"], [0.4444444444444444, \"#bd3786\"], [0.5555555555555556, \"#d8576b\"], [0.6666666666666666, \"#ed7953\"], [0.7777777777777778, \"#fb9f3a\"], [0.8888888888888888, \"#fdca26\"], [1.0, \"#f0f921\"]], \"type\": \"heatmap\"}], \"heatmapgl\": [{\"colorbar\": {\"outlinewidth\": 0, \"ticks\": \"\"}, \"colorscale\": [[0.0, \"#0d0887\"], [0.1111111111111111, \"#46039f\"], [0.2222222222222222, \"#7201a8\"], [0.3333333333333333, \"#9c179e\"], [0.4444444444444444, \"#bd3786\"], [0.5555555555555556, \"#d8576b\"], [0.6666666666666666, \"#ed7953\"], [0.7777777777777778, \"#fb9f3a\"], [0.8888888888888888, \"#fdca26\"], [1.0, \"#f0f921\"]], \"type\": \"heatmapgl\"}], \"histogram\": [{\"marker\": {\"colorbar\": {\"outlinewidth\": 0, \"ticks\": \"\"}}, \"type\": \"histogram\"}], \"histogram2d\": [{\"colorbar\": {\"outlinewidth\": 0, \"ticks\": \"\"}, \"colorscale\": [[0.0, \"#0d0887\"], [0.1111111111111111, \"#46039f\"], [0.2222222222222222, \"#7201a8\"], [0.3333333333333333, \"#9c179e\"], [0.4444444444444444, \"#bd3786\"], [0.5555555555555556, \"#d8576b\"], [0.6666666666666666, \"#ed7953\"], [0.7777777777777778, \"#fb9f3a\"], [0.8888888888888888, \"#fdca26\"], [1.0, \"#f0f921\"]], \"type\": \"histogram2d\"}], \"histogram2dcontour\": [{\"colorbar\": {\"outlinewidth\": 0, \"ticks\": \"\"}, \"colorscale\": [[0.0, \"#0d0887\"], [0.1111111111111111, \"#46039f\"], [0.2222222222222222, \"#7201a8\"], [0.3333333333333333, \"#9c179e\"], [0.4444444444444444, \"#bd3786\"], [0.5555555555555556, \"#d8576b\"], [0.6666666666666666, \"#ed7953\"], [0.7777777777777778, \"#fb9f3a\"], [0.8888888888888888, \"#fdca26\"], [1.0, \"#f0f921\"]], \"type\": \"histogram2dcontour\"}], \"mesh3d\": [{\"colorbar\": {\"outlinewidth\": 0, \"ticks\": \"\"}, \"type\": \"mesh3d\"}], \"parcoords\": [{\"line\": {\"colorbar\": {\"outlinewidth\": 0, \"ticks\": \"\"}}, \"type\": \"parcoords\"}], \"pie\": [{\"automargin\": true, \"type\": \"pie\"}], \"scatter\": [{\"marker\": {\"colorbar\": {\"outlinewidth\": 0, \"ticks\": \"\"}}, \"type\": \"scatter\"}], \"scatter3d\": [{\"line\": {\"colorbar\": {\"outlinewidth\": 0, \"ticks\": \"\"}}, \"marker\": {\"colorbar\": {\"outlinewidth\": 0, \"ticks\": \"\"}}, \"type\": \"scatter3d\"}], \"scattercarpet\": [{\"marker\": {\"colorbar\": {\"outlinewidth\": 0, \"ticks\": \"\"}}, \"type\": \"scattercarpet\"}], \"scattergeo\": [{\"marker\": {\"colorbar\": {\"outlinewidth\": 0, \"ticks\": \"\"}}, \"type\": \"scattergeo\"}], \"scattergl\": [{\"marker\": {\"colorbar\": {\"outlinewidth\": 0, \"ticks\": \"\"}}, \"type\": \"scattergl\"}], \"scattermapbox\": [{\"marker\": {\"colorbar\": {\"outlinewidth\": 0, \"ticks\": \"\"}}, \"type\": \"scattermapbox\"}], \"scatterpolar\": [{\"marker\": {\"colorbar\": {\"outlinewidth\": 0, \"ticks\": \"\"}}, \"type\": \"scatterpolar\"}], \"scatterpolargl\": [{\"marker\": {\"colorbar\": {\"outlinewidth\": 0, \"ticks\": \"\"}}, \"type\": \"scatterpolargl\"}], \"scatterternary\": [{\"marker\": {\"colorbar\": {\"outlinewidth\": 0, \"ticks\": \"\"}}, \"type\": \"scatterternary\"}], \"surface\": [{\"colorbar\": {\"outlinewidth\": 0, \"ticks\": \"\"}, \"colorscale\": [[0.0, \"#0d0887\"], [0.1111111111111111, \"#46039f\"], [0.2222222222222222, \"#7201a8\"], [0.3333333333333333, \"#9c179e\"], [0.4444444444444444, \"#bd3786\"], [0.5555555555555556, \"#d8576b\"], [0.6666666666666666, \"#ed7953\"], [0.7777777777777778, \"#fb9f3a\"], [0.8888888888888888, \"#fdca26\"], [1.0, \"#f0f921\"]], \"type\": \"surface\"}], \"table\": [{\"cells\": {\"fill\": {\"color\": \"#EBF0F8\"}, \"line\": {\"color\": \"white\"}}, \"header\": {\"fill\": {\"color\": \"#C8D4E3\"}, \"line\": {\"color\": \"white\"}}, \"type\": \"table\"}]}, \"layout\": {\"annotationdefaults\": {\"arrowcolor\": \"#2a3f5f\", \"arrowhead\": 0, \"arrowwidth\": 1}, \"coloraxis\": {\"colorbar\": {\"outlinewidth\": 0, \"ticks\": \"\"}}, \"colorscale\": {\"diverging\": [[0, \"#8e0152\"], [0.1, \"#c51b7d\"], [0.2, \"#de77ae\"], [0.3, \"#f1b6da\"], [0.4, \"#fde0ef\"], [0.5, \"#f7f7f7\"], [0.6, \"#e6f5d0\"], [0.7, \"#b8e186\"], [0.8, \"#7fbc41\"], [0.9, \"#4d9221\"], [1, \"#276419\"]], \"sequential\": [[0.0, \"#0d0887\"], [0.1111111111111111, \"#46039f\"], [0.2222222222222222, \"#7201a8\"], [0.3333333333333333, \"#9c179e\"], [0.4444444444444444, \"#bd3786\"], [0.5555555555555556, \"#d8576b\"], [0.6666666666666666, \"#ed7953\"], [0.7777777777777778, \"#fb9f3a\"], [0.8888888888888888, \"#fdca26\"], [1.0, \"#f0f921\"]], \"sequentialminus\": [[0.0, \"#0d0887\"], [0.1111111111111111, \"#46039f\"], [0.2222222222222222, \"#7201a8\"], [0.3333333333333333, \"#9c179e\"], [0.4444444444444444, \"#bd3786\"], [0.5555555555555556, \"#d8576b\"], [0.6666666666666666, \"#ed7953\"], [0.7777777777777778, \"#fb9f3a\"], [0.8888888888888888, \"#fdca26\"], [1.0, \"#f0f921\"]]}, \"colorway\": [\"#636efa\", \"#EF553B\", \"#00cc96\", \"#ab63fa\", \"#FFA15A\", \"#19d3f3\", \"#FF6692\", \"#B6E880\", \"#FF97FF\", \"#FECB52\"], \"font\": {\"color\": \"#2a3f5f\"}, \"geo\": {\"bgcolor\": \"white\", \"lakecolor\": \"white\", \"landcolor\": \"#E5ECF6\", \"showlakes\": true, \"showland\": true, \"subunitcolor\": \"white\"}, \"hoverlabel\": {\"align\": \"left\"}, \"hovermode\": \"closest\", \"mapbox\": {\"style\": \"light\"}, \"paper_bgcolor\": \"white\", \"plot_bgcolor\": \"#E5ECF6\", \"polar\": {\"angularaxis\": {\"gridcolor\": \"white\", \"linecolor\": \"white\", \"ticks\": \"\"}, \"bgcolor\": \"#E5ECF6\", \"radialaxis\": {\"gridcolor\": \"white\", \"linecolor\": \"white\", \"ticks\": \"\"}}, \"scene\": {\"xaxis\": {\"backgroundcolor\": \"#E5ECF6\", \"gridcolor\": \"white\", \"gridwidth\": 2, \"linecolor\": \"white\", \"showbackground\": true, \"ticks\": \"\", \"zerolinecolor\": \"white\"}, \"yaxis\": {\"backgroundcolor\": \"#E5ECF6\", \"gridcolor\": \"white\", \"gridwidth\": 2, \"linecolor\": \"white\", \"showbackground\": true, \"ticks\": \"\", \"zerolinecolor\": \"white\"}, \"zaxis\": {\"backgroundcolor\": \"#E5ECF6\", \"gridcolor\": \"white\", \"gridwidth\": 2, \"linecolor\": \"white\", \"showbackground\": true, \"ticks\": \"\", \"zerolinecolor\": \"white\"}}, \"shapedefaults\": {\"line\": {\"color\": \"#2a3f5f\"}}, \"ternary\": {\"aaxis\": {\"gridcolor\": \"white\", \"linecolor\": \"white\", \"ticks\": \"\"}, \"baxis\": {\"gridcolor\": \"white\", \"linecolor\": \"white\", \"ticks\": \"\"}, \"bgcolor\": \"#E5ECF6\", \"caxis\": {\"gridcolor\": \"white\", \"linecolor\": \"white\", \"ticks\": \"\"}}, \"title\": {\"x\": 0.05}, \"xaxis\": {\"automargin\": true, \"gridcolor\": \"white\", \"linecolor\": \"white\", \"ticks\": \"\", \"title\": {\"standoff\": 15}, \"zerolinecolor\": \"white\", \"zerolinewidth\": 2}, \"yaxis\": {\"automargin\": true, \"gridcolor\": \"white\", \"linecolor\": \"white\", \"ticks\": \"\", \"title\": {\"standoff\": 15}, \"zerolinecolor\": \"white\", \"zerolinewidth\": 2}}}, \"title\": {\"text\": \"Distribution of Ratings\"}},\n",
       "                        {\"responsive\": true}\n",
       "                    ).then(function(){\n",
       "                            \n",
       "var gd = document.getElementById('bbeb792a-a69d-47ca-b0e5-e86cf3b82822');\n",
       "var x = new MutationObserver(function (mutations, observer) {{\n",
       "        var display = window.getComputedStyle(gd).display;\n",
       "        if (!display || display === 'none') {{\n",
       "            console.log([gd, 'removed!']);\n",
       "            Plotly.purge(gd);\n",
       "            observer.disconnect();\n",
       "        }}\n",
       "}});\n",
       "\n",
       "// Listen for the removal of the full notebook cells\n",
       "var notebookContainer = gd.closest('#notebook-container');\n",
       "if (notebookContainer) {{\n",
       "    x.observe(notebookContainer, {childList: true});\n",
       "}}\n",
       "\n",
       "// Listen for the clearing of the current output cell\n",
       "var outputEl = gd.closest('.output');\n",
       "if (outputEl) {{\n",
       "    x.observe(outputEl, {childList: true});\n",
       "}}\n",
       "\n",
       "                        })\n",
       "                };\n",
       "                });\n",
       "            </script>\n",
       "        </div>"
      ]
     },
     "metadata": {},
     "output_type": "display_data"
    }
   ],
   "source": [
    "fig = px.pie(df, names='Rating',color_discrete_sequence=px.colors.sequential.RdBu)\n",
    "fig.update_traces(textposition='inside', textinfo='percent+label')\n",
    "fig.update_layout(title_text='Distribution of Ratings', font_size=15)\n",
    "fig.show() "
   ]
  },
  {
   "cell_type": "markdown",
   "metadata": {},
   "source": [
    "## Which category has the highest average rating "
   ]
  },
  {
   "cell_type": "code",
   "execution_count": 23,
   "metadata": {},
   "outputs": [],
   "source": [
    "bycategory  = df.groupby('Category')"
   ]
  },
  {
   "cell_type": "code",
   "execution_count": 45,
   "metadata": {},
   "outputs": [],
   "source": [
    "df_cate = round(bycategory[['Rating','No of people Rated']].mean(),3)"
   ]
  },
  {
   "cell_type": "code",
   "execution_count": 46,
   "metadata": {},
   "outputs": [],
   "source": [
    "df_cate = df_cate.reset_index()"
   ]
  },
  {
   "cell_type": "code",
   "execution_count": 47,
   "metadata": {},
   "outputs": [
    {
     "data": {
      "application/vnd.plotly.v1+json": {
       "config": {
        "plotlyServerURL": "https://plot.ly"
       },
       "data": [
        {
         "hoverlabel": {
          "namelength": 0
         },
         "hovertemplate": "Category=%{y}<br>Rating=%{x}<br>No of people Rated=%{marker.size}",
         "legendgroup": "Books",
         "marker": {
          "color": "#636efa",
          "size": [
           548.546
          ],
          "sizemode": "area",
          "sizeref": 1.488845,
          "symbol": "circle"
         },
         "mode": "markers",
         "name": "Books",
         "showlegend": true,
         "type": "scatter",
         "x": [
          3.791
         ],
         "xaxis": "x",
         "y": [
          "Books"
         ],
         "yaxis": "y"
        },
        {
         "hoverlabel": {
          "namelength": 0
         },
         "hovertemplate": "Category=%{y}<br>Rating=%{x}<br>No of people Rated=%{marker.size}",
         "legendgroup": "Business",
         "marker": {
          "color": "#EF553B",
          "size": [
           549.459
          ],
          "sizemode": "area",
          "sizeref": 1.488845,
          "symbol": "circle"
         },
         "mode": "markers",
         "name": "Business",
         "showlegend": true,
         "type": "scatter",
         "x": [
          3.602
         ],
         "xaxis": "x",
         "y": [
          "Business"
         ],
         "yaxis": "y"
        },
        {
         "hoverlabel": {
          "namelength": 0
         },
         "hovertemplate": "Category=%{y}<br>Rating=%{x}<br>No of people Rated=%{marker.size}",
         "legendgroup": "Developer Tools",
         "marker": {
          "color": "#00cc96",
          "size": [
           545.356
          ],
          "sizemode": "area",
          "sizeref": 1.488845,
          "symbol": "circle"
         },
         "mode": "markers",
         "name": "Developer Tools",
         "showlegend": true,
         "type": "scatter",
         "x": [
          3.886
         ],
         "xaxis": "x",
         "y": [
          "Developer Tools"
         ],
         "yaxis": "y"
        },
        {
         "hoverlabel": {
          "namelength": 0
         },
         "hovertemplate": "Category=%{y}<br>Rating=%{x}<br>No of people Rated=%{marker.size}",
         "legendgroup": "Food and Dining",
         "marker": {
          "color": "#ab63fa",
          "size": [
           550.892
          ],
          "sizemode": "area",
          "sizeref": 1.488845,
          "symbol": "circle"
         },
         "mode": "markers",
         "name": "Food and Dining",
         "showlegend": true,
         "type": "scatter",
         "x": [
          3.789
         ],
         "xaxis": "x",
         "y": [
          "Food and Dining"
         ],
         "yaxis": "y"
        },
        {
         "hoverlabel": {
          "namelength": 0
         },
         "hovertemplate": "Category=%{y}<br>Rating=%{x}<br>No of people Rated=%{marker.size}",
         "legendgroup": "Government and Politics",
         "marker": {
          "color": "#FFA15A",
          "size": [
           548.271
          ],
          "sizemode": "area",
          "sizeref": 1.488845,
          "symbol": "circle"
         },
         "mode": "markers",
         "name": "Government and Politics",
         "showlegend": true,
         "type": "scatter",
         "x": [
          4.05
         ],
         "xaxis": "x",
         "y": [
          "Government and Politics"
         ],
         "yaxis": "y"
        },
        {
         "hoverlabel": {
          "namelength": 0
         },
         "hovertemplate": "Category=%{y}<br>Rating=%{x}<br>No of people Rated=%{marker.size}",
         "legendgroup": "Health and Fitness",
         "marker": {
          "color": "#19d3f3",
          "size": [
           558.507
          ],
          "sizemode": "area",
          "sizeref": 1.488845,
          "symbol": "circle"
         },
         "mode": "markers",
         "name": "Health and Fitness",
         "showlegend": true,
         "type": "scatter",
         "x": [
          3.786
         ],
         "xaxis": "x",
         "y": [
          "Health and Fitness"
         ],
         "yaxis": "y"
        },
        {
         "hoverlabel": {
          "namelength": 0
         },
         "hovertemplate": "Category=%{y}<br>Rating=%{x}<br>No of people Rated=%{marker.size}",
         "legendgroup": "Kids and Family",
         "marker": {
          "color": "#FF6692",
          "size": [
           553.136
          ],
          "sizemode": "area",
          "sizeref": 1.488845,
          "symbol": "circle"
         },
         "mode": "markers",
         "name": "Kids and Family",
         "showlegend": true,
         "type": "scatter",
         "x": [
          3.948
         ],
         "xaxis": "x",
         "y": [
          "Kids and Family"
         ],
         "yaxis": "y"
        },
        {
         "hoverlabel": {
          "namelength": 0
         },
         "hovertemplate": "Category=%{y}<br>Rating=%{x}<br>No of people Rated=%{marker.size}",
         "legendgroup": "Lifestyle",
         "marker": {
          "color": "#B6E880",
          "size": [
           554.929
          ],
          "sizemode": "area",
          "sizeref": 1.488845,
          "symbol": "circle"
         },
         "mode": "markers",
         "name": "Lifestyle",
         "showlegend": true,
         "type": "scatter",
         "x": [
          3.851
         ],
         "xaxis": "x",
         "y": [
          "Lifestyle"
         ],
         "yaxis": "y"
        },
        {
         "hoverlabel": {
          "namelength": 0
         },
         "hovertemplate": "Category=%{y}<br>Rating=%{x}<br>No of people Rated=%{marker.size}",
         "legendgroup": "Multimedia Design",
         "marker": {
          "color": "#FF97FF",
          "size": [
           595.538
          ],
          "sizemode": "area",
          "sizeref": 1.488845,
          "symbol": "circle"
         },
         "mode": "markers",
         "name": "Multimedia Design",
         "showlegend": true,
         "type": "scatter",
         "x": [
          3.551
         ],
         "xaxis": "x",
         "y": [
          "Multimedia Design"
         ],
         "yaxis": "y"
        },
        {
         "hoverlabel": {
          "namelength": 0
         },
         "hovertemplate": "Category=%{y}<br>Rating=%{x}<br>No of people Rated=%{marker.size}",
         "legendgroup": "Music",
         "marker": {
          "color": "#FECB52",
          "size": [
           539.105
          ],
          "sizemode": "area",
          "sizeref": 1.488845,
          "symbol": "circle"
         },
         "mode": "markers",
         "name": "Music",
         "showlegend": true,
         "type": "scatter",
         "x": [
          3.76
         ],
         "xaxis": "x",
         "y": [
          "Music"
         ],
         "yaxis": "y"
        },
        {
         "hoverlabel": {
          "namelength": 0
         },
         "hovertemplate": "Category=%{y}<br>Rating=%{x}<br>No of people Rated=%{marker.size}",
         "legendgroup": "Navigation and Maps",
         "marker": {
          "color": "#636efa",
          "size": [
           551.032
          ],
          "sizemode": "area",
          "sizeref": 1.488845,
          "symbol": "circle"
         },
         "mode": "markers",
         "name": "Navigation and Maps",
         "showlegend": true,
         "type": "scatter",
         "x": [
          3.802
         ],
         "xaxis": "x",
         "y": [
          "Navigation and Maps"
         ],
         "yaxis": "y"
        },
        {
         "hoverlabel": {
          "namelength": 0
         },
         "hovertemplate": "Category=%{y}<br>Rating=%{x}<br>No of people Rated=%{marker.size}",
         "legendgroup": "News and Weather",
         "marker": {
          "color": "#EF553B",
          "size": [
           549.453
          ],
          "sizemode": "area",
          "sizeref": 1.488845,
          "symbol": "circle"
         },
         "mode": "markers",
         "name": "News and Weather",
         "showlegend": true,
         "type": "scatter",
         "x": [
          3.837
         ],
         "xaxis": "x",
         "y": [
          "News and Weather"
         ],
         "yaxis": "y"
        },
        {
         "hoverlabel": {
          "namelength": 0
         },
         "hovertemplate": "Category=%{y}<br>Rating=%{x}<br>No of people Rated=%{marker.size}",
         "legendgroup": "Social",
         "marker": {
          "color": "#00cc96",
          "size": [
           575.159
          ],
          "sizemode": "area",
          "sizeref": 1.488845,
          "symbol": "circle"
         },
         "mode": "markers",
         "name": "Social",
         "showlegend": true,
         "type": "scatter",
         "x": [
          3.848
         ],
         "xaxis": "x",
         "y": [
          "Social"
         ],
         "yaxis": "y"
        }
       ],
       "layout": {
        "legend": {
         "itemsizing": "constant",
         "title": {
          "text": "Category"
         },
         "tracegroupgap": 0
        },
        "margin": {
         "t": 60
        },
        "template": {
         "data": {
          "bar": [
           {
            "error_x": {
             "color": "#2a3f5f"
            },
            "error_y": {
             "color": "#2a3f5f"
            },
            "marker": {
             "line": {
              "color": "#E5ECF6",
              "width": 0.5
             }
            },
            "type": "bar"
           }
          ],
          "barpolar": [
           {
            "marker": {
             "line": {
              "color": "#E5ECF6",
              "width": 0.5
             }
            },
            "type": "barpolar"
           }
          ],
          "carpet": [
           {
            "aaxis": {
             "endlinecolor": "#2a3f5f",
             "gridcolor": "white",
             "linecolor": "white",
             "minorgridcolor": "white",
             "startlinecolor": "#2a3f5f"
            },
            "baxis": {
             "endlinecolor": "#2a3f5f",
             "gridcolor": "white",
             "linecolor": "white",
             "minorgridcolor": "white",
             "startlinecolor": "#2a3f5f"
            },
            "type": "carpet"
           }
          ],
          "choropleth": [
           {
            "colorbar": {
             "outlinewidth": 0,
             "ticks": ""
            },
            "type": "choropleth"
           }
          ],
          "contour": [
           {
            "colorbar": {
             "outlinewidth": 0,
             "ticks": ""
            },
            "colorscale": [
             [
              0,
              "#0d0887"
             ],
             [
              0.1111111111111111,
              "#46039f"
             ],
             [
              0.2222222222222222,
              "#7201a8"
             ],
             [
              0.3333333333333333,
              "#9c179e"
             ],
             [
              0.4444444444444444,
              "#bd3786"
             ],
             [
              0.5555555555555556,
              "#d8576b"
             ],
             [
              0.6666666666666666,
              "#ed7953"
             ],
             [
              0.7777777777777778,
              "#fb9f3a"
             ],
             [
              0.8888888888888888,
              "#fdca26"
             ],
             [
              1,
              "#f0f921"
             ]
            ],
            "type": "contour"
           }
          ],
          "contourcarpet": [
           {
            "colorbar": {
             "outlinewidth": 0,
             "ticks": ""
            },
            "type": "contourcarpet"
           }
          ],
          "heatmap": [
           {
            "colorbar": {
             "outlinewidth": 0,
             "ticks": ""
            },
            "colorscale": [
             [
              0,
              "#0d0887"
             ],
             [
              0.1111111111111111,
              "#46039f"
             ],
             [
              0.2222222222222222,
              "#7201a8"
             ],
             [
              0.3333333333333333,
              "#9c179e"
             ],
             [
              0.4444444444444444,
              "#bd3786"
             ],
             [
              0.5555555555555556,
              "#d8576b"
             ],
             [
              0.6666666666666666,
              "#ed7953"
             ],
             [
              0.7777777777777778,
              "#fb9f3a"
             ],
             [
              0.8888888888888888,
              "#fdca26"
             ],
             [
              1,
              "#f0f921"
             ]
            ],
            "type": "heatmap"
           }
          ],
          "heatmapgl": [
           {
            "colorbar": {
             "outlinewidth": 0,
             "ticks": ""
            },
            "colorscale": [
             [
              0,
              "#0d0887"
             ],
             [
              0.1111111111111111,
              "#46039f"
             ],
             [
              0.2222222222222222,
              "#7201a8"
             ],
             [
              0.3333333333333333,
              "#9c179e"
             ],
             [
              0.4444444444444444,
              "#bd3786"
             ],
             [
              0.5555555555555556,
              "#d8576b"
             ],
             [
              0.6666666666666666,
              "#ed7953"
             ],
             [
              0.7777777777777778,
              "#fb9f3a"
             ],
             [
              0.8888888888888888,
              "#fdca26"
             ],
             [
              1,
              "#f0f921"
             ]
            ],
            "type": "heatmapgl"
           }
          ],
          "histogram": [
           {
            "marker": {
             "colorbar": {
              "outlinewidth": 0,
              "ticks": ""
             }
            },
            "type": "histogram"
           }
          ],
          "histogram2d": [
           {
            "colorbar": {
             "outlinewidth": 0,
             "ticks": ""
            },
            "colorscale": [
             [
              0,
              "#0d0887"
             ],
             [
              0.1111111111111111,
              "#46039f"
             ],
             [
              0.2222222222222222,
              "#7201a8"
             ],
             [
              0.3333333333333333,
              "#9c179e"
             ],
             [
              0.4444444444444444,
              "#bd3786"
             ],
             [
              0.5555555555555556,
              "#d8576b"
             ],
             [
              0.6666666666666666,
              "#ed7953"
             ],
             [
              0.7777777777777778,
              "#fb9f3a"
             ],
             [
              0.8888888888888888,
              "#fdca26"
             ],
             [
              1,
              "#f0f921"
             ]
            ],
            "type": "histogram2d"
           }
          ],
          "histogram2dcontour": [
           {
            "colorbar": {
             "outlinewidth": 0,
             "ticks": ""
            },
            "colorscale": [
             [
              0,
              "#0d0887"
             ],
             [
              0.1111111111111111,
              "#46039f"
             ],
             [
              0.2222222222222222,
              "#7201a8"
             ],
             [
              0.3333333333333333,
              "#9c179e"
             ],
             [
              0.4444444444444444,
              "#bd3786"
             ],
             [
              0.5555555555555556,
              "#d8576b"
             ],
             [
              0.6666666666666666,
              "#ed7953"
             ],
             [
              0.7777777777777778,
              "#fb9f3a"
             ],
             [
              0.8888888888888888,
              "#fdca26"
             ],
             [
              1,
              "#f0f921"
             ]
            ],
            "type": "histogram2dcontour"
           }
          ],
          "mesh3d": [
           {
            "colorbar": {
             "outlinewidth": 0,
             "ticks": ""
            },
            "type": "mesh3d"
           }
          ],
          "parcoords": [
           {
            "line": {
             "colorbar": {
              "outlinewidth": 0,
              "ticks": ""
             }
            },
            "type": "parcoords"
           }
          ],
          "pie": [
           {
            "automargin": true,
            "type": "pie"
           }
          ],
          "scatter": [
           {
            "marker": {
             "colorbar": {
              "outlinewidth": 0,
              "ticks": ""
             }
            },
            "type": "scatter"
           }
          ],
          "scatter3d": [
           {
            "line": {
             "colorbar": {
              "outlinewidth": 0,
              "ticks": ""
             }
            },
            "marker": {
             "colorbar": {
              "outlinewidth": 0,
              "ticks": ""
             }
            },
            "type": "scatter3d"
           }
          ],
          "scattercarpet": [
           {
            "marker": {
             "colorbar": {
              "outlinewidth": 0,
              "ticks": ""
             }
            },
            "type": "scattercarpet"
           }
          ],
          "scattergeo": [
           {
            "marker": {
             "colorbar": {
              "outlinewidth": 0,
              "ticks": ""
             }
            },
            "type": "scattergeo"
           }
          ],
          "scattergl": [
           {
            "marker": {
             "colorbar": {
              "outlinewidth": 0,
              "ticks": ""
             }
            },
            "type": "scattergl"
           }
          ],
          "scattermapbox": [
           {
            "marker": {
             "colorbar": {
              "outlinewidth": 0,
              "ticks": ""
             }
            },
            "type": "scattermapbox"
           }
          ],
          "scatterpolar": [
           {
            "marker": {
             "colorbar": {
              "outlinewidth": 0,
              "ticks": ""
             }
            },
            "type": "scatterpolar"
           }
          ],
          "scatterpolargl": [
           {
            "marker": {
             "colorbar": {
              "outlinewidth": 0,
              "ticks": ""
             }
            },
            "type": "scatterpolargl"
           }
          ],
          "scatterternary": [
           {
            "marker": {
             "colorbar": {
              "outlinewidth": 0,
              "ticks": ""
             }
            },
            "type": "scatterternary"
           }
          ],
          "surface": [
           {
            "colorbar": {
             "outlinewidth": 0,
             "ticks": ""
            },
            "colorscale": [
             [
              0,
              "#0d0887"
             ],
             [
              0.1111111111111111,
              "#46039f"
             ],
             [
              0.2222222222222222,
              "#7201a8"
             ],
             [
              0.3333333333333333,
              "#9c179e"
             ],
             [
              0.4444444444444444,
              "#bd3786"
             ],
             [
              0.5555555555555556,
              "#d8576b"
             ],
             [
              0.6666666666666666,
              "#ed7953"
             ],
             [
              0.7777777777777778,
              "#fb9f3a"
             ],
             [
              0.8888888888888888,
              "#fdca26"
             ],
             [
              1,
              "#f0f921"
             ]
            ],
            "type": "surface"
           }
          ],
          "table": [
           {
            "cells": {
             "fill": {
              "color": "#EBF0F8"
             },
             "line": {
              "color": "white"
             }
            },
            "header": {
             "fill": {
              "color": "#C8D4E3"
             },
             "line": {
              "color": "white"
             }
            },
            "type": "table"
           }
          ]
         },
         "layout": {
          "annotationdefaults": {
           "arrowcolor": "#2a3f5f",
           "arrowhead": 0,
           "arrowwidth": 1
          },
          "coloraxis": {
           "colorbar": {
            "outlinewidth": 0,
            "ticks": ""
           }
          },
          "colorscale": {
           "diverging": [
            [
             0,
             "#8e0152"
            ],
            [
             0.1,
             "#c51b7d"
            ],
            [
             0.2,
             "#de77ae"
            ],
            [
             0.3,
             "#f1b6da"
            ],
            [
             0.4,
             "#fde0ef"
            ],
            [
             0.5,
             "#f7f7f7"
            ],
            [
             0.6,
             "#e6f5d0"
            ],
            [
             0.7,
             "#b8e186"
            ],
            [
             0.8,
             "#7fbc41"
            ],
            [
             0.9,
             "#4d9221"
            ],
            [
             1,
             "#276419"
            ]
           ],
           "sequential": [
            [
             0,
             "#0d0887"
            ],
            [
             0.1111111111111111,
             "#46039f"
            ],
            [
             0.2222222222222222,
             "#7201a8"
            ],
            [
             0.3333333333333333,
             "#9c179e"
            ],
            [
             0.4444444444444444,
             "#bd3786"
            ],
            [
             0.5555555555555556,
             "#d8576b"
            ],
            [
             0.6666666666666666,
             "#ed7953"
            ],
            [
             0.7777777777777778,
             "#fb9f3a"
            ],
            [
             0.8888888888888888,
             "#fdca26"
            ],
            [
             1,
             "#f0f921"
            ]
           ],
           "sequentialminus": [
            [
             0,
             "#0d0887"
            ],
            [
             0.1111111111111111,
             "#46039f"
            ],
            [
             0.2222222222222222,
             "#7201a8"
            ],
            [
             0.3333333333333333,
             "#9c179e"
            ],
            [
             0.4444444444444444,
             "#bd3786"
            ],
            [
             0.5555555555555556,
             "#d8576b"
            ],
            [
             0.6666666666666666,
             "#ed7953"
            ],
            [
             0.7777777777777778,
             "#fb9f3a"
            ],
            [
             0.8888888888888888,
             "#fdca26"
            ],
            [
             1,
             "#f0f921"
            ]
           ]
          },
          "colorway": [
           "#636efa",
           "#EF553B",
           "#00cc96",
           "#ab63fa",
           "#FFA15A",
           "#19d3f3",
           "#FF6692",
           "#B6E880",
           "#FF97FF",
           "#FECB52"
          ],
          "font": {
           "color": "#2a3f5f"
          },
          "geo": {
           "bgcolor": "white",
           "lakecolor": "white",
           "landcolor": "#E5ECF6",
           "showlakes": true,
           "showland": true,
           "subunitcolor": "white"
          },
          "hoverlabel": {
           "align": "left"
          },
          "hovermode": "closest",
          "mapbox": {
           "style": "light"
          },
          "paper_bgcolor": "white",
          "plot_bgcolor": "#E5ECF6",
          "polar": {
           "angularaxis": {
            "gridcolor": "white",
            "linecolor": "white",
            "ticks": ""
           },
           "bgcolor": "#E5ECF6",
           "radialaxis": {
            "gridcolor": "white",
            "linecolor": "white",
            "ticks": ""
           }
          },
          "scene": {
           "xaxis": {
            "backgroundcolor": "#E5ECF6",
            "gridcolor": "white",
            "gridwidth": 2,
            "linecolor": "white",
            "showbackground": true,
            "ticks": "",
            "zerolinecolor": "white"
           },
           "yaxis": {
            "backgroundcolor": "#E5ECF6",
            "gridcolor": "white",
            "gridwidth": 2,
            "linecolor": "white",
            "showbackground": true,
            "ticks": "",
            "zerolinecolor": "white"
           },
           "zaxis": {
            "backgroundcolor": "#E5ECF6",
            "gridcolor": "white",
            "gridwidth": 2,
            "linecolor": "white",
            "showbackground": true,
            "ticks": "",
            "zerolinecolor": "white"
           }
          },
          "shapedefaults": {
           "line": {
            "color": "#2a3f5f"
           }
          },
          "ternary": {
           "aaxis": {
            "gridcolor": "white",
            "linecolor": "white",
            "ticks": ""
           },
           "baxis": {
            "gridcolor": "white",
            "linecolor": "white",
            "ticks": ""
           },
           "bgcolor": "#E5ECF6",
           "caxis": {
            "gridcolor": "white",
            "linecolor": "white",
            "ticks": ""
           }
          },
          "title": {
           "x": 0.05
          },
          "xaxis": {
           "automargin": true,
           "gridcolor": "white",
           "linecolor": "white",
           "ticks": "",
           "title": {
            "standoff": 15
           },
           "zerolinecolor": "white",
           "zerolinewidth": 2
          },
          "yaxis": {
           "automargin": true,
           "gridcolor": "white",
           "linecolor": "white",
           "ticks": "",
           "title": {
            "standoff": 15
           },
           "zerolinecolor": "white",
           "zerolinewidth": 2
          }
         }
        },
        "title": {
         "text": "Average Rating For Each Category"
        },
        "xaxis": {
         "anchor": "y",
         "domain": [
          0,
          1
         ],
         "title": {
          "text": "Rating"
         }
        },
        "yaxis": {
         "anchor": "x",
         "categoryarray": [
          "Social",
          "News and Weather",
          "Navigation and Maps",
          "Music",
          "Multimedia Design",
          "Lifestyle",
          "Kids and Family",
          "Health and Fitness",
          "Government and Politics",
          "Food and Dining",
          "Developer Tools",
          "Business",
          "Books"
         ],
         "categoryorder": "array",
         "domain": [
          0,
          1
         ],
         "title": {
          "text": "Category"
         }
        }
       }
      },
      "text/html": [
       "<div>\n",
       "        \n",
       "        \n",
       "            <div id=\"982638a5-0117-4644-b076-f8fc2e260336\" class=\"plotly-graph-div\" style=\"height:525px; width:100%;\"></div>\n",
       "            <script type=\"text/javascript\">\n",
       "                require([\"plotly\"], function(Plotly) {\n",
       "                    window.PLOTLYENV=window.PLOTLYENV || {};\n",
       "                    \n",
       "                if (document.getElementById(\"982638a5-0117-4644-b076-f8fc2e260336\")) {\n",
       "                    Plotly.newPlot(\n",
       "                        '982638a5-0117-4644-b076-f8fc2e260336',\n",
       "                        [{\"hoverlabel\": {\"namelength\": 0}, \"hovertemplate\": \"Category=%{y}<br>Rating=%{x}<br>No of people Rated=%{marker.size}\", \"legendgroup\": \"Books\", \"marker\": {\"color\": \"#636efa\", \"size\": [548.546], \"sizemode\": \"area\", \"sizeref\": 1.488845, \"symbol\": \"circle\"}, \"mode\": \"markers\", \"name\": \"Books\", \"showlegend\": true, \"type\": \"scatter\", \"x\": [3.791], \"xaxis\": \"x\", \"y\": [\"Books\"], \"yaxis\": \"y\"}, {\"hoverlabel\": {\"namelength\": 0}, \"hovertemplate\": \"Category=%{y}<br>Rating=%{x}<br>No of people Rated=%{marker.size}\", \"legendgroup\": \"Business\", \"marker\": {\"color\": \"#EF553B\", \"size\": [549.459], \"sizemode\": \"area\", \"sizeref\": 1.488845, \"symbol\": \"circle\"}, \"mode\": \"markers\", \"name\": \"Business\", \"showlegend\": true, \"type\": \"scatter\", \"x\": [3.602], \"xaxis\": \"x\", \"y\": [\"Business\"], \"yaxis\": \"y\"}, {\"hoverlabel\": {\"namelength\": 0}, \"hovertemplate\": \"Category=%{y}<br>Rating=%{x}<br>No of people Rated=%{marker.size}\", \"legendgroup\": \"Developer Tools\", \"marker\": {\"color\": \"#00cc96\", \"size\": [545.356], \"sizemode\": \"area\", \"sizeref\": 1.488845, \"symbol\": \"circle\"}, \"mode\": \"markers\", \"name\": \"Developer Tools\", \"showlegend\": true, \"type\": \"scatter\", \"x\": [3.886], \"xaxis\": \"x\", \"y\": [\"Developer Tools\"], \"yaxis\": \"y\"}, {\"hoverlabel\": {\"namelength\": 0}, \"hovertemplate\": \"Category=%{y}<br>Rating=%{x}<br>No of people Rated=%{marker.size}\", \"legendgroup\": \"Food and Dining\", \"marker\": {\"color\": \"#ab63fa\", \"size\": [550.892], \"sizemode\": \"area\", \"sizeref\": 1.488845, \"symbol\": \"circle\"}, \"mode\": \"markers\", \"name\": \"Food and Dining\", \"showlegend\": true, \"type\": \"scatter\", \"x\": [3.789], \"xaxis\": \"x\", \"y\": [\"Food and Dining\"], \"yaxis\": \"y\"}, {\"hoverlabel\": {\"namelength\": 0}, \"hovertemplate\": \"Category=%{y}<br>Rating=%{x}<br>No of people Rated=%{marker.size}\", \"legendgroup\": \"Government and Politics\", \"marker\": {\"color\": \"#FFA15A\", \"size\": [548.271], \"sizemode\": \"area\", \"sizeref\": 1.488845, \"symbol\": \"circle\"}, \"mode\": \"markers\", \"name\": \"Government and Politics\", \"showlegend\": true, \"type\": \"scatter\", \"x\": [4.05], \"xaxis\": \"x\", \"y\": [\"Government and Politics\"], \"yaxis\": \"y\"}, {\"hoverlabel\": {\"namelength\": 0}, \"hovertemplate\": \"Category=%{y}<br>Rating=%{x}<br>No of people Rated=%{marker.size}\", \"legendgroup\": \"Health and Fitness\", \"marker\": {\"color\": \"#19d3f3\", \"size\": [558.507], \"sizemode\": \"area\", \"sizeref\": 1.488845, \"symbol\": \"circle\"}, \"mode\": \"markers\", \"name\": \"Health and Fitness\", \"showlegend\": true, \"type\": \"scatter\", \"x\": [3.786], \"xaxis\": \"x\", \"y\": [\"Health and Fitness\"], \"yaxis\": \"y\"}, {\"hoverlabel\": {\"namelength\": 0}, \"hovertemplate\": \"Category=%{y}<br>Rating=%{x}<br>No of people Rated=%{marker.size}\", \"legendgroup\": \"Kids and Family\", \"marker\": {\"color\": \"#FF6692\", \"size\": [553.136], \"sizemode\": \"area\", \"sizeref\": 1.488845, \"symbol\": \"circle\"}, \"mode\": \"markers\", \"name\": \"Kids and Family\", \"showlegend\": true, \"type\": \"scatter\", \"x\": [3.948], \"xaxis\": \"x\", \"y\": [\"Kids and Family\"], \"yaxis\": \"y\"}, {\"hoverlabel\": {\"namelength\": 0}, \"hovertemplate\": \"Category=%{y}<br>Rating=%{x}<br>No of people Rated=%{marker.size}\", \"legendgroup\": \"Lifestyle\", \"marker\": {\"color\": \"#B6E880\", \"size\": [554.929], \"sizemode\": \"area\", \"sizeref\": 1.488845, \"symbol\": \"circle\"}, \"mode\": \"markers\", \"name\": \"Lifestyle\", \"showlegend\": true, \"type\": \"scatter\", \"x\": [3.851], \"xaxis\": \"x\", \"y\": [\"Lifestyle\"], \"yaxis\": \"y\"}, {\"hoverlabel\": {\"namelength\": 0}, \"hovertemplate\": \"Category=%{y}<br>Rating=%{x}<br>No of people Rated=%{marker.size}\", \"legendgroup\": \"Multimedia Design\", \"marker\": {\"color\": \"#FF97FF\", \"size\": [595.538], \"sizemode\": \"area\", \"sizeref\": 1.488845, \"symbol\": \"circle\"}, \"mode\": \"markers\", \"name\": \"Multimedia Design\", \"showlegend\": true, \"type\": \"scatter\", \"x\": [3.551], \"xaxis\": \"x\", \"y\": [\"Multimedia Design\"], \"yaxis\": \"y\"}, {\"hoverlabel\": {\"namelength\": 0}, \"hovertemplate\": \"Category=%{y}<br>Rating=%{x}<br>No of people Rated=%{marker.size}\", \"legendgroup\": \"Music\", \"marker\": {\"color\": \"#FECB52\", \"size\": [539.105], \"sizemode\": \"area\", \"sizeref\": 1.488845, \"symbol\": \"circle\"}, \"mode\": \"markers\", \"name\": \"Music\", \"showlegend\": true, \"type\": \"scatter\", \"x\": [3.76], \"xaxis\": \"x\", \"y\": [\"Music\"], \"yaxis\": \"y\"}, {\"hoverlabel\": {\"namelength\": 0}, \"hovertemplate\": \"Category=%{y}<br>Rating=%{x}<br>No of people Rated=%{marker.size}\", \"legendgroup\": \"Navigation and Maps\", \"marker\": {\"color\": \"#636efa\", \"size\": [551.032], \"sizemode\": \"area\", \"sizeref\": 1.488845, \"symbol\": \"circle\"}, \"mode\": \"markers\", \"name\": \"Navigation and Maps\", \"showlegend\": true, \"type\": \"scatter\", \"x\": [3.802], \"xaxis\": \"x\", \"y\": [\"Navigation and Maps\"], \"yaxis\": \"y\"}, {\"hoverlabel\": {\"namelength\": 0}, \"hovertemplate\": \"Category=%{y}<br>Rating=%{x}<br>No of people Rated=%{marker.size}\", \"legendgroup\": \"News and Weather\", \"marker\": {\"color\": \"#EF553B\", \"size\": [549.453], \"sizemode\": \"area\", \"sizeref\": 1.488845, \"symbol\": \"circle\"}, \"mode\": \"markers\", \"name\": \"News and Weather\", \"showlegend\": true, \"type\": \"scatter\", \"x\": [3.837], \"xaxis\": \"x\", \"y\": [\"News and Weather\"], \"yaxis\": \"y\"}, {\"hoverlabel\": {\"namelength\": 0}, \"hovertemplate\": \"Category=%{y}<br>Rating=%{x}<br>No of people Rated=%{marker.size}\", \"legendgroup\": \"Social\", \"marker\": {\"color\": \"#00cc96\", \"size\": [575.159], \"sizemode\": \"area\", \"sizeref\": 1.488845, \"symbol\": \"circle\"}, \"mode\": \"markers\", \"name\": \"Social\", \"showlegend\": true, \"type\": \"scatter\", \"x\": [3.848], \"xaxis\": \"x\", \"y\": [\"Social\"], \"yaxis\": \"y\"}],\n",
       "                        {\"legend\": {\"itemsizing\": \"constant\", \"title\": {\"text\": \"Category\"}, \"tracegroupgap\": 0}, \"margin\": {\"t\": 60}, \"template\": {\"data\": {\"bar\": [{\"error_x\": {\"color\": \"#2a3f5f\"}, \"error_y\": {\"color\": \"#2a3f5f\"}, \"marker\": {\"line\": {\"color\": \"#E5ECF6\", \"width\": 0.5}}, \"type\": \"bar\"}], \"barpolar\": [{\"marker\": {\"line\": {\"color\": \"#E5ECF6\", \"width\": 0.5}}, \"type\": \"barpolar\"}], \"carpet\": [{\"aaxis\": {\"endlinecolor\": \"#2a3f5f\", \"gridcolor\": \"white\", \"linecolor\": \"white\", \"minorgridcolor\": \"white\", \"startlinecolor\": \"#2a3f5f\"}, \"baxis\": {\"endlinecolor\": \"#2a3f5f\", \"gridcolor\": \"white\", \"linecolor\": \"white\", \"minorgridcolor\": \"white\", \"startlinecolor\": \"#2a3f5f\"}, \"type\": \"carpet\"}], \"choropleth\": [{\"colorbar\": {\"outlinewidth\": 0, \"ticks\": \"\"}, \"type\": \"choropleth\"}], \"contour\": [{\"colorbar\": {\"outlinewidth\": 0, \"ticks\": \"\"}, \"colorscale\": [[0.0, \"#0d0887\"], [0.1111111111111111, \"#46039f\"], [0.2222222222222222, \"#7201a8\"], [0.3333333333333333, \"#9c179e\"], [0.4444444444444444, \"#bd3786\"], [0.5555555555555556, \"#d8576b\"], [0.6666666666666666, \"#ed7953\"], [0.7777777777777778, \"#fb9f3a\"], [0.8888888888888888, \"#fdca26\"], [1.0, \"#f0f921\"]], \"type\": \"contour\"}], \"contourcarpet\": [{\"colorbar\": {\"outlinewidth\": 0, \"ticks\": \"\"}, \"type\": \"contourcarpet\"}], \"heatmap\": [{\"colorbar\": {\"outlinewidth\": 0, \"ticks\": \"\"}, \"colorscale\": [[0.0, \"#0d0887\"], [0.1111111111111111, \"#46039f\"], [0.2222222222222222, \"#7201a8\"], [0.3333333333333333, \"#9c179e\"], [0.4444444444444444, \"#bd3786\"], [0.5555555555555556, \"#d8576b\"], [0.6666666666666666, \"#ed7953\"], [0.7777777777777778, \"#fb9f3a\"], [0.8888888888888888, \"#fdca26\"], [1.0, \"#f0f921\"]], \"type\": \"heatmap\"}], \"heatmapgl\": [{\"colorbar\": {\"outlinewidth\": 0, \"ticks\": \"\"}, \"colorscale\": [[0.0, \"#0d0887\"], [0.1111111111111111, \"#46039f\"], [0.2222222222222222, \"#7201a8\"], [0.3333333333333333, \"#9c179e\"], [0.4444444444444444, \"#bd3786\"], [0.5555555555555556, \"#d8576b\"], [0.6666666666666666, \"#ed7953\"], [0.7777777777777778, \"#fb9f3a\"], [0.8888888888888888, \"#fdca26\"], [1.0, \"#f0f921\"]], \"type\": \"heatmapgl\"}], \"histogram\": [{\"marker\": {\"colorbar\": {\"outlinewidth\": 0, \"ticks\": \"\"}}, \"type\": \"histogram\"}], \"histogram2d\": [{\"colorbar\": {\"outlinewidth\": 0, \"ticks\": \"\"}, \"colorscale\": [[0.0, \"#0d0887\"], [0.1111111111111111, \"#46039f\"], [0.2222222222222222, \"#7201a8\"], [0.3333333333333333, \"#9c179e\"], [0.4444444444444444, \"#bd3786\"], [0.5555555555555556, \"#d8576b\"], [0.6666666666666666, \"#ed7953\"], [0.7777777777777778, \"#fb9f3a\"], [0.8888888888888888, \"#fdca26\"], [1.0, \"#f0f921\"]], \"type\": \"histogram2d\"}], \"histogram2dcontour\": [{\"colorbar\": {\"outlinewidth\": 0, \"ticks\": \"\"}, \"colorscale\": [[0.0, \"#0d0887\"], [0.1111111111111111, \"#46039f\"], [0.2222222222222222, \"#7201a8\"], [0.3333333333333333, \"#9c179e\"], [0.4444444444444444, \"#bd3786\"], [0.5555555555555556, \"#d8576b\"], [0.6666666666666666, \"#ed7953\"], [0.7777777777777778, \"#fb9f3a\"], [0.8888888888888888, \"#fdca26\"], [1.0, \"#f0f921\"]], \"type\": \"histogram2dcontour\"}], \"mesh3d\": [{\"colorbar\": {\"outlinewidth\": 0, \"ticks\": \"\"}, \"type\": \"mesh3d\"}], \"parcoords\": [{\"line\": {\"colorbar\": {\"outlinewidth\": 0, \"ticks\": \"\"}}, \"type\": \"parcoords\"}], \"pie\": [{\"automargin\": true, \"type\": \"pie\"}], \"scatter\": [{\"marker\": {\"colorbar\": {\"outlinewidth\": 0, \"ticks\": \"\"}}, \"type\": \"scatter\"}], \"scatter3d\": [{\"line\": {\"colorbar\": {\"outlinewidth\": 0, \"ticks\": \"\"}}, \"marker\": {\"colorbar\": {\"outlinewidth\": 0, \"ticks\": \"\"}}, \"type\": \"scatter3d\"}], \"scattercarpet\": [{\"marker\": {\"colorbar\": {\"outlinewidth\": 0, \"ticks\": \"\"}}, \"type\": \"scattercarpet\"}], \"scattergeo\": [{\"marker\": {\"colorbar\": {\"outlinewidth\": 0, \"ticks\": \"\"}}, \"type\": \"scattergeo\"}], \"scattergl\": [{\"marker\": {\"colorbar\": {\"outlinewidth\": 0, \"ticks\": \"\"}}, \"type\": \"scattergl\"}], \"scattermapbox\": [{\"marker\": {\"colorbar\": {\"outlinewidth\": 0, \"ticks\": \"\"}}, \"type\": \"scattermapbox\"}], \"scatterpolar\": [{\"marker\": {\"colorbar\": {\"outlinewidth\": 0, \"ticks\": \"\"}}, \"type\": \"scatterpolar\"}], \"scatterpolargl\": [{\"marker\": {\"colorbar\": {\"outlinewidth\": 0, \"ticks\": \"\"}}, \"type\": \"scatterpolargl\"}], \"scatterternary\": [{\"marker\": {\"colorbar\": {\"outlinewidth\": 0, \"ticks\": \"\"}}, \"type\": \"scatterternary\"}], \"surface\": [{\"colorbar\": {\"outlinewidth\": 0, \"ticks\": \"\"}, \"colorscale\": [[0.0, \"#0d0887\"], [0.1111111111111111, \"#46039f\"], [0.2222222222222222, \"#7201a8\"], [0.3333333333333333, \"#9c179e\"], [0.4444444444444444, \"#bd3786\"], [0.5555555555555556, \"#d8576b\"], [0.6666666666666666, \"#ed7953\"], [0.7777777777777778, \"#fb9f3a\"], [0.8888888888888888, \"#fdca26\"], [1.0, \"#f0f921\"]], \"type\": \"surface\"}], \"table\": [{\"cells\": {\"fill\": {\"color\": \"#EBF0F8\"}, \"line\": {\"color\": \"white\"}}, \"header\": {\"fill\": {\"color\": \"#C8D4E3\"}, \"line\": {\"color\": \"white\"}}, \"type\": \"table\"}]}, \"layout\": {\"annotationdefaults\": {\"arrowcolor\": \"#2a3f5f\", \"arrowhead\": 0, \"arrowwidth\": 1}, \"coloraxis\": {\"colorbar\": {\"outlinewidth\": 0, \"ticks\": \"\"}}, \"colorscale\": {\"diverging\": [[0, \"#8e0152\"], [0.1, \"#c51b7d\"], [0.2, \"#de77ae\"], [0.3, \"#f1b6da\"], [0.4, \"#fde0ef\"], [0.5, \"#f7f7f7\"], [0.6, \"#e6f5d0\"], [0.7, \"#b8e186\"], [0.8, \"#7fbc41\"], [0.9, \"#4d9221\"], [1, \"#276419\"]], \"sequential\": [[0.0, \"#0d0887\"], [0.1111111111111111, \"#46039f\"], [0.2222222222222222, \"#7201a8\"], [0.3333333333333333, \"#9c179e\"], [0.4444444444444444, \"#bd3786\"], [0.5555555555555556, \"#d8576b\"], [0.6666666666666666, \"#ed7953\"], [0.7777777777777778, \"#fb9f3a\"], [0.8888888888888888, \"#fdca26\"], [1.0, \"#f0f921\"]], \"sequentialminus\": [[0.0, \"#0d0887\"], [0.1111111111111111, \"#46039f\"], [0.2222222222222222, \"#7201a8\"], [0.3333333333333333, \"#9c179e\"], [0.4444444444444444, \"#bd3786\"], [0.5555555555555556, \"#d8576b\"], [0.6666666666666666, \"#ed7953\"], [0.7777777777777778, \"#fb9f3a\"], [0.8888888888888888, \"#fdca26\"], [1.0, \"#f0f921\"]]}, \"colorway\": [\"#636efa\", \"#EF553B\", \"#00cc96\", \"#ab63fa\", \"#FFA15A\", \"#19d3f3\", \"#FF6692\", \"#B6E880\", \"#FF97FF\", \"#FECB52\"], \"font\": {\"color\": \"#2a3f5f\"}, \"geo\": {\"bgcolor\": \"white\", \"lakecolor\": \"white\", \"landcolor\": \"#E5ECF6\", \"showlakes\": true, \"showland\": true, \"subunitcolor\": \"white\"}, \"hoverlabel\": {\"align\": \"left\"}, \"hovermode\": \"closest\", \"mapbox\": {\"style\": \"light\"}, \"paper_bgcolor\": \"white\", \"plot_bgcolor\": \"#E5ECF6\", \"polar\": {\"angularaxis\": {\"gridcolor\": \"white\", \"linecolor\": \"white\", \"ticks\": \"\"}, \"bgcolor\": \"#E5ECF6\", \"radialaxis\": {\"gridcolor\": \"white\", \"linecolor\": \"white\", \"ticks\": \"\"}}, \"scene\": {\"xaxis\": {\"backgroundcolor\": \"#E5ECF6\", \"gridcolor\": \"white\", \"gridwidth\": 2, \"linecolor\": \"white\", \"showbackground\": true, \"ticks\": \"\", \"zerolinecolor\": \"white\"}, \"yaxis\": {\"backgroundcolor\": \"#E5ECF6\", \"gridcolor\": \"white\", \"gridwidth\": 2, \"linecolor\": \"white\", \"showbackground\": true, \"ticks\": \"\", \"zerolinecolor\": \"white\"}, \"zaxis\": {\"backgroundcolor\": \"#E5ECF6\", \"gridcolor\": \"white\", \"gridwidth\": 2, \"linecolor\": \"white\", \"showbackground\": true, \"ticks\": \"\", \"zerolinecolor\": \"white\"}}, \"shapedefaults\": {\"line\": {\"color\": \"#2a3f5f\"}}, \"ternary\": {\"aaxis\": {\"gridcolor\": \"white\", \"linecolor\": \"white\", \"ticks\": \"\"}, \"baxis\": {\"gridcolor\": \"white\", \"linecolor\": \"white\", \"ticks\": \"\"}, \"bgcolor\": \"#E5ECF6\", \"caxis\": {\"gridcolor\": \"white\", \"linecolor\": \"white\", \"ticks\": \"\"}}, \"title\": {\"x\": 0.05}, \"xaxis\": {\"automargin\": true, \"gridcolor\": \"white\", \"linecolor\": \"white\", \"ticks\": \"\", \"title\": {\"standoff\": 15}, \"zerolinecolor\": \"white\", \"zerolinewidth\": 2}, \"yaxis\": {\"automargin\": true, \"gridcolor\": \"white\", \"linecolor\": \"white\", \"ticks\": \"\", \"title\": {\"standoff\": 15}, \"zerolinecolor\": \"white\", \"zerolinewidth\": 2}}}, \"title\": {\"text\": \"Average Rating For Each Category\"}, \"xaxis\": {\"anchor\": \"y\", \"domain\": [0.0, 1.0], \"title\": {\"text\": \"Rating\"}}, \"yaxis\": {\"anchor\": \"x\", \"categoryarray\": [\"Social\", \"News and Weather\", \"Navigation and Maps\", \"Music\", \"Multimedia Design\", \"Lifestyle\", \"Kids and Family\", \"Health and Fitness\", \"Government and Politics\", \"Food and Dining\", \"Developer Tools\", \"Business\", \"Books\"], \"categoryorder\": \"array\", \"domain\": [0.0, 1.0], \"title\": {\"text\": \"Category\"}}},\n",
       "                        {\"responsive\": true}\n",
       "                    ).then(function(){\n",
       "                            \n",
       "var gd = document.getElementById('982638a5-0117-4644-b076-f8fc2e260336');\n",
       "var x = new MutationObserver(function (mutations, observer) {{\n",
       "        var display = window.getComputedStyle(gd).display;\n",
       "        if (!display || display === 'none') {{\n",
       "            console.log([gd, 'removed!']);\n",
       "            Plotly.purge(gd);\n",
       "            observer.disconnect();\n",
       "        }}\n",
       "}});\n",
       "\n",
       "// Listen for the removal of the full notebook cells\n",
       "var notebookContainer = gd.closest('#notebook-container');\n",
       "if (notebookContainer) {{\n",
       "    x.observe(notebookContainer, {childList: true});\n",
       "}}\n",
       "\n",
       "// Listen for the clearing of the current output cell\n",
       "var outputEl = gd.closest('.output');\n",
       "if (outputEl) {{\n",
       "    x.observe(outputEl, {childList: true});\n",
       "}}\n",
       "\n",
       "                        })\n",
       "                };\n",
       "                });\n",
       "            </script>\n",
       "        </div>"
      ]
     },
     "metadata": {},
     "output_type": "display_data"
    }
   ],
   "source": [
    "fig = px.scatter(df_cate, x='Rating', y='Category', color='Category',size = 'No of people Rated')\n",
    "fig.update_layout(title=\"Average Rating For Each Category\")\n",
    "fig.show()"
   ]
  },
  {
   "cell_type": "markdown",
   "metadata": {},
   "source": [
    "From this plot, we can see that the Category `Goverment and Politics` has the highest Rating but it has the least people rated. The category `Multimedia Design` has the most number of people rated even thoufgh its rating is the lowest."
   ]
  },
  {
   "cell_type": "code",
   "execution_count": 115,
   "metadata": {},
   "outputs": [
    {
     "data": {
      "application/vnd.plotly.v1+json": {
       "config": {
        "linkText": "Export to plot.ly",
        "plotlyServerURL": "https://plot.ly",
        "showLink": true
       },
       "data": [
        {
         "marker": {
          "color": "rgba(52, 100, 235, 0.6)",
          "line": {
           "color": "rgba(52, 100, 235, 1.0)",
           "width": 1
          }
         },
         "name": "Rating",
         "orientation": "v",
         "text": "",
         "type": "bar",
         "x": [
          "Books",
          "Business",
          "Developer Tools",
          "Food and Dining",
          "Government and Politics",
          "Health and Fitness",
          "Kids and Family",
          "Lifestyle",
          "Multimedia Design",
          "Music",
          "Navigation and Maps",
          "News and Weather",
          "Social"
         ],
         "y": [
          3.791,
          3.602,
          3.886,
          3.789,
          4.05,
          3.786,
          3.948,
          3.851,
          3.551,
          3.76,
          3.802,
          3.837,
          3.848
         ]
        }
       ],
       "layout": {
        "legend": {
         "bgcolor": "#FFFFFF",
         "font": {
          "color": "#4D5663"
         }
        },
        "paper_bgcolor": "#FFFFFF",
        "plot_bgcolor": "#FFFFFF",
        "template": {
         "data": {
          "bar": [
           {
            "error_x": {
             "color": "#2a3f5f"
            },
            "error_y": {
             "color": "#2a3f5f"
            },
            "marker": {
             "line": {
              "color": "#E5ECF6",
              "width": 0.5
             }
            },
            "type": "bar"
           }
          ],
          "barpolar": [
           {
            "marker": {
             "line": {
              "color": "#E5ECF6",
              "width": 0.5
             }
            },
            "type": "barpolar"
           }
          ],
          "carpet": [
           {
            "aaxis": {
             "endlinecolor": "#2a3f5f",
             "gridcolor": "white",
             "linecolor": "white",
             "minorgridcolor": "white",
             "startlinecolor": "#2a3f5f"
            },
            "baxis": {
             "endlinecolor": "#2a3f5f",
             "gridcolor": "white",
             "linecolor": "white",
             "minorgridcolor": "white",
             "startlinecolor": "#2a3f5f"
            },
            "type": "carpet"
           }
          ],
          "choropleth": [
           {
            "colorbar": {
             "outlinewidth": 0,
             "ticks": ""
            },
            "type": "choropleth"
           }
          ],
          "contour": [
           {
            "colorbar": {
             "outlinewidth": 0,
             "ticks": ""
            },
            "colorscale": [
             [
              0,
              "#0d0887"
             ],
             [
              0.1111111111111111,
              "#46039f"
             ],
             [
              0.2222222222222222,
              "#7201a8"
             ],
             [
              0.3333333333333333,
              "#9c179e"
             ],
             [
              0.4444444444444444,
              "#bd3786"
             ],
             [
              0.5555555555555556,
              "#d8576b"
             ],
             [
              0.6666666666666666,
              "#ed7953"
             ],
             [
              0.7777777777777778,
              "#fb9f3a"
             ],
             [
              0.8888888888888888,
              "#fdca26"
             ],
             [
              1,
              "#f0f921"
             ]
            ],
            "type": "contour"
           }
          ],
          "contourcarpet": [
           {
            "colorbar": {
             "outlinewidth": 0,
             "ticks": ""
            },
            "type": "contourcarpet"
           }
          ],
          "heatmap": [
           {
            "colorbar": {
             "outlinewidth": 0,
             "ticks": ""
            },
            "colorscale": [
             [
              0,
              "#0d0887"
             ],
             [
              0.1111111111111111,
              "#46039f"
             ],
             [
              0.2222222222222222,
              "#7201a8"
             ],
             [
              0.3333333333333333,
              "#9c179e"
             ],
             [
              0.4444444444444444,
              "#bd3786"
             ],
             [
              0.5555555555555556,
              "#d8576b"
             ],
             [
              0.6666666666666666,
              "#ed7953"
             ],
             [
              0.7777777777777778,
              "#fb9f3a"
             ],
             [
              0.8888888888888888,
              "#fdca26"
             ],
             [
              1,
              "#f0f921"
             ]
            ],
            "type": "heatmap"
           }
          ],
          "heatmapgl": [
           {
            "colorbar": {
             "outlinewidth": 0,
             "ticks": ""
            },
            "colorscale": [
             [
              0,
              "#0d0887"
             ],
             [
              0.1111111111111111,
              "#46039f"
             ],
             [
              0.2222222222222222,
              "#7201a8"
             ],
             [
              0.3333333333333333,
              "#9c179e"
             ],
             [
              0.4444444444444444,
              "#bd3786"
             ],
             [
              0.5555555555555556,
              "#d8576b"
             ],
             [
              0.6666666666666666,
              "#ed7953"
             ],
             [
              0.7777777777777778,
              "#fb9f3a"
             ],
             [
              0.8888888888888888,
              "#fdca26"
             ],
             [
              1,
              "#f0f921"
             ]
            ],
            "type": "heatmapgl"
           }
          ],
          "histogram": [
           {
            "marker": {
             "colorbar": {
              "outlinewidth": 0,
              "ticks": ""
             }
            },
            "type": "histogram"
           }
          ],
          "histogram2d": [
           {
            "colorbar": {
             "outlinewidth": 0,
             "ticks": ""
            },
            "colorscale": [
             [
              0,
              "#0d0887"
             ],
             [
              0.1111111111111111,
              "#46039f"
             ],
             [
              0.2222222222222222,
              "#7201a8"
             ],
             [
              0.3333333333333333,
              "#9c179e"
             ],
             [
              0.4444444444444444,
              "#bd3786"
             ],
             [
              0.5555555555555556,
              "#d8576b"
             ],
             [
              0.6666666666666666,
              "#ed7953"
             ],
             [
              0.7777777777777778,
              "#fb9f3a"
             ],
             [
              0.8888888888888888,
              "#fdca26"
             ],
             [
              1,
              "#f0f921"
             ]
            ],
            "type": "histogram2d"
           }
          ],
          "histogram2dcontour": [
           {
            "colorbar": {
             "outlinewidth": 0,
             "ticks": ""
            },
            "colorscale": [
             [
              0,
              "#0d0887"
             ],
             [
              0.1111111111111111,
              "#46039f"
             ],
             [
              0.2222222222222222,
              "#7201a8"
             ],
             [
              0.3333333333333333,
              "#9c179e"
             ],
             [
              0.4444444444444444,
              "#bd3786"
             ],
             [
              0.5555555555555556,
              "#d8576b"
             ],
             [
              0.6666666666666666,
              "#ed7953"
             ],
             [
              0.7777777777777778,
              "#fb9f3a"
             ],
             [
              0.8888888888888888,
              "#fdca26"
             ],
             [
              1,
              "#f0f921"
             ]
            ],
            "type": "histogram2dcontour"
           }
          ],
          "mesh3d": [
           {
            "colorbar": {
             "outlinewidth": 0,
             "ticks": ""
            },
            "type": "mesh3d"
           }
          ],
          "parcoords": [
           {
            "line": {
             "colorbar": {
              "outlinewidth": 0,
              "ticks": ""
             }
            },
            "type": "parcoords"
           }
          ],
          "pie": [
           {
            "automargin": true,
            "type": "pie"
           }
          ],
          "scatter": [
           {
            "marker": {
             "colorbar": {
              "outlinewidth": 0,
              "ticks": ""
             }
            },
            "type": "scatter"
           }
          ],
          "scatter3d": [
           {
            "line": {
             "colorbar": {
              "outlinewidth": 0,
              "ticks": ""
             }
            },
            "marker": {
             "colorbar": {
              "outlinewidth": 0,
              "ticks": ""
             }
            },
            "type": "scatter3d"
           }
          ],
          "scattercarpet": [
           {
            "marker": {
             "colorbar": {
              "outlinewidth": 0,
              "ticks": ""
             }
            },
            "type": "scattercarpet"
           }
          ],
          "scattergeo": [
           {
            "marker": {
             "colorbar": {
              "outlinewidth": 0,
              "ticks": ""
             }
            },
            "type": "scattergeo"
           }
          ],
          "scattergl": [
           {
            "marker": {
             "colorbar": {
              "outlinewidth": 0,
              "ticks": ""
             }
            },
            "type": "scattergl"
           }
          ],
          "scattermapbox": [
           {
            "marker": {
             "colorbar": {
              "outlinewidth": 0,
              "ticks": ""
             }
            },
            "type": "scattermapbox"
           }
          ],
          "scatterpolar": [
           {
            "marker": {
             "colorbar": {
              "outlinewidth": 0,
              "ticks": ""
             }
            },
            "type": "scatterpolar"
           }
          ],
          "scatterpolargl": [
           {
            "marker": {
             "colorbar": {
              "outlinewidth": 0,
              "ticks": ""
             }
            },
            "type": "scatterpolargl"
           }
          ],
          "scatterternary": [
           {
            "marker": {
             "colorbar": {
              "outlinewidth": 0,
              "ticks": ""
             }
            },
            "type": "scatterternary"
           }
          ],
          "surface": [
           {
            "colorbar": {
             "outlinewidth": 0,
             "ticks": ""
            },
            "colorscale": [
             [
              0,
              "#0d0887"
             ],
             [
              0.1111111111111111,
              "#46039f"
             ],
             [
              0.2222222222222222,
              "#7201a8"
             ],
             [
              0.3333333333333333,
              "#9c179e"
             ],
             [
              0.4444444444444444,
              "#bd3786"
             ],
             [
              0.5555555555555556,
              "#d8576b"
             ],
             [
              0.6666666666666666,
              "#ed7953"
             ],
             [
              0.7777777777777778,
              "#fb9f3a"
             ],
             [
              0.8888888888888888,
              "#fdca26"
             ],
             [
              1,
              "#f0f921"
             ]
            ],
            "type": "surface"
           }
          ],
          "table": [
           {
            "cells": {
             "fill": {
              "color": "#EBF0F8"
             },
             "line": {
              "color": "white"
             }
            },
            "header": {
             "fill": {
              "color": "#C8D4E3"
             },
             "line": {
              "color": "white"
             }
            },
            "type": "table"
           }
          ]
         },
         "layout": {
          "annotationdefaults": {
           "arrowcolor": "#2a3f5f",
           "arrowhead": 0,
           "arrowwidth": 1
          },
          "coloraxis": {
           "colorbar": {
            "outlinewidth": 0,
            "ticks": ""
           }
          },
          "colorscale": {
           "diverging": [
            [
             0,
             "#8e0152"
            ],
            [
             0.1,
             "#c51b7d"
            ],
            [
             0.2,
             "#de77ae"
            ],
            [
             0.3,
             "#f1b6da"
            ],
            [
             0.4,
             "#fde0ef"
            ],
            [
             0.5,
             "#f7f7f7"
            ],
            [
             0.6,
             "#e6f5d0"
            ],
            [
             0.7,
             "#b8e186"
            ],
            [
             0.8,
             "#7fbc41"
            ],
            [
             0.9,
             "#4d9221"
            ],
            [
             1,
             "#276419"
            ]
           ],
           "sequential": [
            [
             0,
             "#0d0887"
            ],
            [
             0.1111111111111111,
             "#46039f"
            ],
            [
             0.2222222222222222,
             "#7201a8"
            ],
            [
             0.3333333333333333,
             "#9c179e"
            ],
            [
             0.4444444444444444,
             "#bd3786"
            ],
            [
             0.5555555555555556,
             "#d8576b"
            ],
            [
             0.6666666666666666,
             "#ed7953"
            ],
            [
             0.7777777777777778,
             "#fb9f3a"
            ],
            [
             0.8888888888888888,
             "#fdca26"
            ],
            [
             1,
             "#f0f921"
            ]
           ],
           "sequentialminus": [
            [
             0,
             "#0d0887"
            ],
            [
             0.1111111111111111,
             "#46039f"
            ],
            [
             0.2222222222222222,
             "#7201a8"
            ],
            [
             0.3333333333333333,
             "#9c179e"
            ],
            [
             0.4444444444444444,
             "#bd3786"
            ],
            [
             0.5555555555555556,
             "#d8576b"
            ],
            [
             0.6666666666666666,
             "#ed7953"
            ],
            [
             0.7777777777777778,
             "#fb9f3a"
            ],
            [
             0.8888888888888888,
             "#fdca26"
            ],
            [
             1,
             "#f0f921"
            ]
           ]
          },
          "colorway": [
           "#636efa",
           "#EF553B",
           "#00cc96",
           "#ab63fa",
           "#FFA15A",
           "#19d3f3",
           "#FF6692",
           "#B6E880",
           "#FF97FF",
           "#FECB52"
          ],
          "font": {
           "color": "#2a3f5f"
          },
          "geo": {
           "bgcolor": "white",
           "lakecolor": "white",
           "landcolor": "#E5ECF6",
           "showlakes": true,
           "showland": true,
           "subunitcolor": "white"
          },
          "hoverlabel": {
           "align": "left"
          },
          "hovermode": "closest",
          "mapbox": {
           "style": "light"
          },
          "paper_bgcolor": "white",
          "plot_bgcolor": "#E5ECF6",
          "polar": {
           "angularaxis": {
            "gridcolor": "white",
            "linecolor": "white",
            "ticks": ""
           },
           "bgcolor": "#E5ECF6",
           "radialaxis": {
            "gridcolor": "white",
            "linecolor": "white",
            "ticks": ""
           }
          },
          "scene": {
           "xaxis": {
            "backgroundcolor": "#E5ECF6",
            "gridcolor": "white",
            "gridwidth": 2,
            "linecolor": "white",
            "showbackground": true,
            "ticks": "",
            "zerolinecolor": "white"
           },
           "yaxis": {
            "backgroundcolor": "#E5ECF6",
            "gridcolor": "white",
            "gridwidth": 2,
            "linecolor": "white",
            "showbackground": true,
            "ticks": "",
            "zerolinecolor": "white"
           },
           "zaxis": {
            "backgroundcolor": "#E5ECF6",
            "gridcolor": "white",
            "gridwidth": 2,
            "linecolor": "white",
            "showbackground": true,
            "ticks": "",
            "zerolinecolor": "white"
           }
          },
          "shapedefaults": {
           "line": {
            "color": "#2a3f5f"
           }
          },
          "ternary": {
           "aaxis": {
            "gridcolor": "white",
            "linecolor": "white",
            "ticks": ""
           },
           "baxis": {
            "gridcolor": "white",
            "linecolor": "white",
            "ticks": ""
           },
           "bgcolor": "#E5ECF6",
           "caxis": {
            "gridcolor": "white",
            "linecolor": "white",
            "ticks": ""
           }
          },
          "title": {
           "x": 0.05
          },
          "xaxis": {
           "automargin": true,
           "gridcolor": "white",
           "linecolor": "white",
           "ticks": "",
           "title": {
            "standoff": 15
           },
           "zerolinecolor": "white",
           "zerolinewidth": 2
          },
          "yaxis": {
           "automargin": true,
           "gridcolor": "white",
           "linecolor": "white",
           "ticks": "",
           "title": {
            "standoff": 15
           },
           "zerolinecolor": "white",
           "zerolinewidth": 2
          }
         }
        },
        "title": {
         "font": {
          "color": "#4D5663"
         }
        },
        "xaxis": {
         "gridcolor": "#E1E5ED",
         "showgrid": true,
         "tickfont": {
          "color": "#4D5663"
         },
         "title": {
          "font": {
           "color": "#4D5663"
          },
          "text": ""
         },
         "zerolinecolor": "#E1E5ED"
        },
        "yaxis": {
         "gridcolor": "#E1E5ED",
         "showgrid": true,
         "tickfont": {
          "color": "#4D5663"
         },
         "title": {
          "font": {
           "color": "#4D5663"
          },
          "text": ""
         },
         "zerolinecolor": "#E1E5ED"
        }
       }
      },
      "text/html": [
       "<div>\n",
       "        \n",
       "        \n",
       "            <div id=\"78fbe882-c6e3-4b14-b80c-59f362960ec6\" class=\"plotly-graph-div\" style=\"height:525px; width:100%;\"></div>\n",
       "            <script type=\"text/javascript\">\n",
       "                require([\"plotly\"], function(Plotly) {\n",
       "                    window.PLOTLYENV=window.PLOTLYENV || {};\n",
       "                    window.PLOTLYENV.BASE_URL='https://plot.ly';\n",
       "                    \n",
       "                if (document.getElementById(\"78fbe882-c6e3-4b14-b80c-59f362960ec6\")) {\n",
       "                    Plotly.newPlot(\n",
       "                        '78fbe882-c6e3-4b14-b80c-59f362960ec6',\n",
       "                        [{\"marker\": {\"color\": \"rgba(52, 100, 235, 0.6)\", \"line\": {\"color\": \"rgba(52, 100, 235, 1.0)\", \"width\": 1}}, \"name\": \"Rating\", \"orientation\": \"v\", \"text\": \"\", \"type\": \"bar\", \"x\": [\"Books\", \"Business\", \"Developer Tools\", \"Food and Dining\", \"Government and Politics\", \"Health and Fitness\", \"Kids and Family\", \"Lifestyle\", \"Multimedia Design\", \"Music\", \"Navigation and Maps\", \"News and Weather\", \"Social\"], \"y\": [3.791, 3.602, 3.886, 3.789, 4.05, 3.786, 3.948, 3.851, 3.551, 3.76, 3.802, 3.837, 3.848]}],\n",
       "                        {\"legend\": {\"bgcolor\": \"#FFFFFF\", \"font\": {\"color\": \"#4D5663\"}}, \"paper_bgcolor\": \"#FFFFFF\", \"plot_bgcolor\": \"#FFFFFF\", \"template\": {\"data\": {\"bar\": [{\"error_x\": {\"color\": \"#2a3f5f\"}, \"error_y\": {\"color\": \"#2a3f5f\"}, \"marker\": {\"line\": {\"color\": \"#E5ECF6\", \"width\": 0.5}}, \"type\": \"bar\"}], \"barpolar\": [{\"marker\": {\"line\": {\"color\": \"#E5ECF6\", \"width\": 0.5}}, \"type\": \"barpolar\"}], \"carpet\": [{\"aaxis\": {\"endlinecolor\": \"#2a3f5f\", \"gridcolor\": \"white\", \"linecolor\": \"white\", \"minorgridcolor\": \"white\", \"startlinecolor\": \"#2a3f5f\"}, \"baxis\": {\"endlinecolor\": \"#2a3f5f\", \"gridcolor\": \"white\", \"linecolor\": \"white\", \"minorgridcolor\": \"white\", \"startlinecolor\": \"#2a3f5f\"}, \"type\": \"carpet\"}], \"choropleth\": [{\"colorbar\": {\"outlinewidth\": 0, \"ticks\": \"\"}, \"type\": \"choropleth\"}], \"contour\": [{\"colorbar\": {\"outlinewidth\": 0, \"ticks\": \"\"}, \"colorscale\": [[0.0, \"#0d0887\"], [0.1111111111111111, \"#46039f\"], [0.2222222222222222, \"#7201a8\"], [0.3333333333333333, \"#9c179e\"], [0.4444444444444444, \"#bd3786\"], [0.5555555555555556, \"#d8576b\"], [0.6666666666666666, \"#ed7953\"], [0.7777777777777778, \"#fb9f3a\"], [0.8888888888888888, \"#fdca26\"], [1.0, \"#f0f921\"]], \"type\": \"contour\"}], \"contourcarpet\": [{\"colorbar\": {\"outlinewidth\": 0, \"ticks\": \"\"}, \"type\": \"contourcarpet\"}], \"heatmap\": [{\"colorbar\": {\"outlinewidth\": 0, \"ticks\": \"\"}, \"colorscale\": [[0.0, \"#0d0887\"], [0.1111111111111111, \"#46039f\"], [0.2222222222222222, \"#7201a8\"], [0.3333333333333333, \"#9c179e\"], [0.4444444444444444, \"#bd3786\"], [0.5555555555555556, \"#d8576b\"], [0.6666666666666666, \"#ed7953\"], [0.7777777777777778, \"#fb9f3a\"], [0.8888888888888888, \"#fdca26\"], [1.0, \"#f0f921\"]], \"type\": \"heatmap\"}], \"heatmapgl\": [{\"colorbar\": {\"outlinewidth\": 0, \"ticks\": \"\"}, \"colorscale\": [[0.0, \"#0d0887\"], [0.1111111111111111, \"#46039f\"], [0.2222222222222222, \"#7201a8\"], [0.3333333333333333, \"#9c179e\"], [0.4444444444444444, \"#bd3786\"], [0.5555555555555556, \"#d8576b\"], [0.6666666666666666, \"#ed7953\"], [0.7777777777777778, \"#fb9f3a\"], [0.8888888888888888, \"#fdca26\"], [1.0, \"#f0f921\"]], \"type\": \"heatmapgl\"}], \"histogram\": [{\"marker\": {\"colorbar\": {\"outlinewidth\": 0, \"ticks\": \"\"}}, \"type\": \"histogram\"}], \"histogram2d\": [{\"colorbar\": {\"outlinewidth\": 0, \"ticks\": \"\"}, \"colorscale\": [[0.0, \"#0d0887\"], [0.1111111111111111, \"#46039f\"], [0.2222222222222222, \"#7201a8\"], [0.3333333333333333, \"#9c179e\"], [0.4444444444444444, \"#bd3786\"], [0.5555555555555556, \"#d8576b\"], [0.6666666666666666, \"#ed7953\"], [0.7777777777777778, \"#fb9f3a\"], [0.8888888888888888, \"#fdca26\"], [1.0, \"#f0f921\"]], \"type\": \"histogram2d\"}], \"histogram2dcontour\": [{\"colorbar\": {\"outlinewidth\": 0, \"ticks\": \"\"}, \"colorscale\": [[0.0, \"#0d0887\"], [0.1111111111111111, \"#46039f\"], [0.2222222222222222, \"#7201a8\"], [0.3333333333333333, \"#9c179e\"], [0.4444444444444444, \"#bd3786\"], [0.5555555555555556, \"#d8576b\"], [0.6666666666666666, \"#ed7953\"], [0.7777777777777778, \"#fb9f3a\"], [0.8888888888888888, \"#fdca26\"], [1.0, \"#f0f921\"]], \"type\": \"histogram2dcontour\"}], \"mesh3d\": [{\"colorbar\": {\"outlinewidth\": 0, \"ticks\": \"\"}, \"type\": \"mesh3d\"}], \"parcoords\": [{\"line\": {\"colorbar\": {\"outlinewidth\": 0, \"ticks\": \"\"}}, \"type\": \"parcoords\"}], \"pie\": [{\"automargin\": true, \"type\": \"pie\"}], \"scatter\": [{\"marker\": {\"colorbar\": {\"outlinewidth\": 0, \"ticks\": \"\"}}, \"type\": \"scatter\"}], \"scatter3d\": [{\"line\": {\"colorbar\": {\"outlinewidth\": 0, \"ticks\": \"\"}}, \"marker\": {\"colorbar\": {\"outlinewidth\": 0, \"ticks\": \"\"}}, \"type\": \"scatter3d\"}], \"scattercarpet\": [{\"marker\": {\"colorbar\": {\"outlinewidth\": 0, \"ticks\": \"\"}}, \"type\": \"scattercarpet\"}], \"scattergeo\": [{\"marker\": {\"colorbar\": {\"outlinewidth\": 0, \"ticks\": \"\"}}, \"type\": \"scattergeo\"}], \"scattergl\": [{\"marker\": {\"colorbar\": {\"outlinewidth\": 0, \"ticks\": \"\"}}, \"type\": \"scattergl\"}], \"scattermapbox\": [{\"marker\": {\"colorbar\": {\"outlinewidth\": 0, \"ticks\": \"\"}}, \"type\": \"scattermapbox\"}], \"scatterpolar\": [{\"marker\": {\"colorbar\": {\"outlinewidth\": 0, \"ticks\": \"\"}}, \"type\": \"scatterpolar\"}], \"scatterpolargl\": [{\"marker\": {\"colorbar\": {\"outlinewidth\": 0, \"ticks\": \"\"}}, \"type\": \"scatterpolargl\"}], \"scatterternary\": [{\"marker\": {\"colorbar\": {\"outlinewidth\": 0, \"ticks\": \"\"}}, \"type\": \"scatterternary\"}], \"surface\": [{\"colorbar\": {\"outlinewidth\": 0, \"ticks\": \"\"}, \"colorscale\": [[0.0, \"#0d0887\"], [0.1111111111111111, \"#46039f\"], [0.2222222222222222, \"#7201a8\"], [0.3333333333333333, \"#9c179e\"], [0.4444444444444444, \"#bd3786\"], [0.5555555555555556, \"#d8576b\"], [0.6666666666666666, \"#ed7953\"], [0.7777777777777778, \"#fb9f3a\"], [0.8888888888888888, \"#fdca26\"], [1.0, \"#f0f921\"]], \"type\": \"surface\"}], \"table\": [{\"cells\": {\"fill\": {\"color\": \"#EBF0F8\"}, \"line\": {\"color\": \"white\"}}, \"header\": {\"fill\": {\"color\": \"#C8D4E3\"}, \"line\": {\"color\": \"white\"}}, \"type\": \"table\"}]}, \"layout\": {\"annotationdefaults\": {\"arrowcolor\": \"#2a3f5f\", \"arrowhead\": 0, \"arrowwidth\": 1}, \"coloraxis\": {\"colorbar\": {\"outlinewidth\": 0, \"ticks\": \"\"}}, \"colorscale\": {\"diverging\": [[0, \"#8e0152\"], [0.1, \"#c51b7d\"], [0.2, \"#de77ae\"], [0.3, \"#f1b6da\"], [0.4, \"#fde0ef\"], [0.5, \"#f7f7f7\"], [0.6, \"#e6f5d0\"], [0.7, \"#b8e186\"], [0.8, \"#7fbc41\"], [0.9, \"#4d9221\"], [1, \"#276419\"]], \"sequential\": [[0.0, \"#0d0887\"], [0.1111111111111111, \"#46039f\"], [0.2222222222222222, \"#7201a8\"], [0.3333333333333333, \"#9c179e\"], [0.4444444444444444, \"#bd3786\"], [0.5555555555555556, \"#d8576b\"], [0.6666666666666666, \"#ed7953\"], [0.7777777777777778, \"#fb9f3a\"], [0.8888888888888888, \"#fdca26\"], [1.0, \"#f0f921\"]], \"sequentialminus\": [[0.0, \"#0d0887\"], [0.1111111111111111, \"#46039f\"], [0.2222222222222222, \"#7201a8\"], [0.3333333333333333, \"#9c179e\"], [0.4444444444444444, \"#bd3786\"], [0.5555555555555556, \"#d8576b\"], [0.6666666666666666, \"#ed7953\"], [0.7777777777777778, \"#fb9f3a\"], [0.8888888888888888, \"#fdca26\"], [1.0, \"#f0f921\"]]}, \"colorway\": [\"#636efa\", \"#EF553B\", \"#00cc96\", \"#ab63fa\", \"#FFA15A\", \"#19d3f3\", \"#FF6692\", \"#B6E880\", \"#FF97FF\", \"#FECB52\"], \"font\": {\"color\": \"#2a3f5f\"}, \"geo\": {\"bgcolor\": \"white\", \"lakecolor\": \"white\", \"landcolor\": \"#E5ECF6\", \"showlakes\": true, \"showland\": true, \"subunitcolor\": \"white\"}, \"hoverlabel\": {\"align\": \"left\"}, \"hovermode\": \"closest\", \"mapbox\": {\"style\": \"light\"}, \"paper_bgcolor\": \"white\", \"plot_bgcolor\": \"#E5ECF6\", \"polar\": {\"angularaxis\": {\"gridcolor\": \"white\", \"linecolor\": \"white\", \"ticks\": \"\"}, \"bgcolor\": \"#E5ECF6\", \"radialaxis\": {\"gridcolor\": \"white\", \"linecolor\": \"white\", \"ticks\": \"\"}}, \"scene\": {\"xaxis\": {\"backgroundcolor\": \"#E5ECF6\", \"gridcolor\": \"white\", \"gridwidth\": 2, \"linecolor\": \"white\", \"showbackground\": true, \"ticks\": \"\", \"zerolinecolor\": \"white\"}, \"yaxis\": {\"backgroundcolor\": \"#E5ECF6\", \"gridcolor\": \"white\", \"gridwidth\": 2, \"linecolor\": \"white\", \"showbackground\": true, \"ticks\": \"\", \"zerolinecolor\": \"white\"}, \"zaxis\": {\"backgroundcolor\": \"#E5ECF6\", \"gridcolor\": \"white\", \"gridwidth\": 2, \"linecolor\": \"white\", \"showbackground\": true, \"ticks\": \"\", \"zerolinecolor\": \"white\"}}, \"shapedefaults\": {\"line\": {\"color\": \"#2a3f5f\"}}, \"ternary\": {\"aaxis\": {\"gridcolor\": \"white\", \"linecolor\": \"white\", \"ticks\": \"\"}, \"baxis\": {\"gridcolor\": \"white\", \"linecolor\": \"white\", \"ticks\": \"\"}, \"bgcolor\": \"#E5ECF6\", \"caxis\": {\"gridcolor\": \"white\", \"linecolor\": \"white\", \"ticks\": \"\"}}, \"title\": {\"x\": 0.05}, \"xaxis\": {\"automargin\": true, \"gridcolor\": \"white\", \"linecolor\": \"white\", \"ticks\": \"\", \"title\": {\"standoff\": 15}, \"zerolinecolor\": \"white\", \"zerolinewidth\": 2}, \"yaxis\": {\"automargin\": true, \"gridcolor\": \"white\", \"linecolor\": \"white\", \"ticks\": \"\", \"title\": {\"standoff\": 15}, \"zerolinecolor\": \"white\", \"zerolinewidth\": 2}}}, \"title\": {\"font\": {\"color\": \"#4D5663\"}}, \"xaxis\": {\"gridcolor\": \"#E1E5ED\", \"showgrid\": true, \"tickfont\": {\"color\": \"#4D5663\"}, \"title\": {\"font\": {\"color\": \"#4D5663\"}, \"text\": \"\"}, \"zerolinecolor\": \"#E1E5ED\"}, \"yaxis\": {\"gridcolor\": \"#E1E5ED\", \"showgrid\": true, \"tickfont\": {\"color\": \"#4D5663\"}, \"title\": {\"font\": {\"color\": \"#4D5663\"}, \"text\": \"\"}, \"zerolinecolor\": \"#E1E5ED\"}},\n",
       "                        {\"showLink\": true, \"linkText\": \"Export to plot.ly\", \"plotlyServerURL\": \"https://plot.ly\", \"responsive\": true}\n",
       "                    ).then(function(){\n",
       "                            \n",
       "var gd = document.getElementById('78fbe882-c6e3-4b14-b80c-59f362960ec6');\n",
       "var x = new MutationObserver(function (mutations, observer) {{\n",
       "        var display = window.getComputedStyle(gd).display;\n",
       "        if (!display || display === 'none') {{\n",
       "            console.log([gd, 'removed!']);\n",
       "            Plotly.purge(gd);\n",
       "            observer.disconnect();\n",
       "        }}\n",
       "}});\n",
       "\n",
       "// Listen for the removal of the full notebook cells\n",
       "var notebookContainer = gd.closest('#notebook-container');\n",
       "if (notebookContainer) {{\n",
       "    x.observe(notebookContainer, {childList: true});\n",
       "}}\n",
       "\n",
       "// Listen for the clearing of the current output cell\n",
       "var outputEl = gd.closest('.output');\n",
       "if (outputEl) {{\n",
       "    x.observe(outputEl, {childList: true});\n",
       "}}\n",
       "\n",
       "                        })\n",
       "                };\n",
       "                });\n",
       "            </script>\n",
       "        </div>"
      ]
     },
     "metadata": {},
     "output_type": "display_data"
    }
   ],
   "source": [
    "df_cate.iplot(kind = 'bar',x = 'Category',y = 'Rating',theme='white',color = '#3464eb')"
   ]
  },
  {
   "cell_type": "markdown",
   "metadata": {},
   "source": [
    "## Distribution of Paid Apps  VS. Free Apps"
   ]
  },
  {
   "cell_type": "code",
   "execution_count": 63,
   "metadata": {},
   "outputs": [],
   "source": [
    "percentage_free = format(df.Price.value_counts()['Free']/len(df)*100, '0.2f')"
   ]
  },
  {
   "cell_type": "code",
   "execution_count": 70,
   "metadata": {},
   "outputs": [],
   "source": [
    "df1 = df['Price']!='Free'"
   ]
  },
  {
   "cell_type": "code",
   "execution_count": 71,
   "metadata": {},
   "outputs": [
    {
     "data": {
      "text/plain": [
       "False    5163\n",
       "True      159\n",
       "Name: Price, dtype: int64"
      ]
     },
     "execution_count": 71,
     "metadata": {},
     "output_type": "execute_result"
    }
   ],
   "source": [
    "df1.value_counts() # That means there are 159 Paid App "
   ]
  },
  {
   "cell_type": "code",
   "execution_count": 79,
   "metadata": {},
   "outputs": [],
   "source": [
    "percentage_paid = format(159/len(df)*100)"
   ]
  },
  {
   "cell_type": "code",
   "execution_count": 80,
   "metadata": {},
   "outputs": [
    {
     "data": {
      "application/vnd.plotly.v1+json": {
       "config": {
        "plotlyServerURL": "https://plot.ly"
       },
       "data": [
        {
         "hoverinfo": "label+percent",
         "labels": [
          "Free Apps",
          "Paid Apps"
         ],
         "marker": {
          "colors": [
           "#2d83a8",
           "#32a852"
          ],
          "line": {
           "color": "#000000",
           "width": 2
          }
         },
         "textfont": {
          "size": 20
         },
         "textinfo": "percent+label",
         "type": "pie",
         "values": [
          "97.01",
          "2.987598647125141"
         ]
        }
       ],
       "layout": {
        "font": {
         "size": 15
        },
        "template": {
         "data": {
          "bar": [
           {
            "error_x": {
             "color": "#2a3f5f"
            },
            "error_y": {
             "color": "#2a3f5f"
            },
            "marker": {
             "line": {
              "color": "#E5ECF6",
              "width": 0.5
             }
            },
            "type": "bar"
           }
          ],
          "barpolar": [
           {
            "marker": {
             "line": {
              "color": "#E5ECF6",
              "width": 0.5
             }
            },
            "type": "barpolar"
           }
          ],
          "carpet": [
           {
            "aaxis": {
             "endlinecolor": "#2a3f5f",
             "gridcolor": "white",
             "linecolor": "white",
             "minorgridcolor": "white",
             "startlinecolor": "#2a3f5f"
            },
            "baxis": {
             "endlinecolor": "#2a3f5f",
             "gridcolor": "white",
             "linecolor": "white",
             "minorgridcolor": "white",
             "startlinecolor": "#2a3f5f"
            },
            "type": "carpet"
           }
          ],
          "choropleth": [
           {
            "colorbar": {
             "outlinewidth": 0,
             "ticks": ""
            },
            "type": "choropleth"
           }
          ],
          "contour": [
           {
            "colorbar": {
             "outlinewidth": 0,
             "ticks": ""
            },
            "colorscale": [
             [
              0,
              "#0d0887"
             ],
             [
              0.1111111111111111,
              "#46039f"
             ],
             [
              0.2222222222222222,
              "#7201a8"
             ],
             [
              0.3333333333333333,
              "#9c179e"
             ],
             [
              0.4444444444444444,
              "#bd3786"
             ],
             [
              0.5555555555555556,
              "#d8576b"
             ],
             [
              0.6666666666666666,
              "#ed7953"
             ],
             [
              0.7777777777777778,
              "#fb9f3a"
             ],
             [
              0.8888888888888888,
              "#fdca26"
             ],
             [
              1,
              "#f0f921"
             ]
            ],
            "type": "contour"
           }
          ],
          "contourcarpet": [
           {
            "colorbar": {
             "outlinewidth": 0,
             "ticks": ""
            },
            "type": "contourcarpet"
           }
          ],
          "heatmap": [
           {
            "colorbar": {
             "outlinewidth": 0,
             "ticks": ""
            },
            "colorscale": [
             [
              0,
              "#0d0887"
             ],
             [
              0.1111111111111111,
              "#46039f"
             ],
             [
              0.2222222222222222,
              "#7201a8"
             ],
             [
              0.3333333333333333,
              "#9c179e"
             ],
             [
              0.4444444444444444,
              "#bd3786"
             ],
             [
              0.5555555555555556,
              "#d8576b"
             ],
             [
              0.6666666666666666,
              "#ed7953"
             ],
             [
              0.7777777777777778,
              "#fb9f3a"
             ],
             [
              0.8888888888888888,
              "#fdca26"
             ],
             [
              1,
              "#f0f921"
             ]
            ],
            "type": "heatmap"
           }
          ],
          "heatmapgl": [
           {
            "colorbar": {
             "outlinewidth": 0,
             "ticks": ""
            },
            "colorscale": [
             [
              0,
              "#0d0887"
             ],
             [
              0.1111111111111111,
              "#46039f"
             ],
             [
              0.2222222222222222,
              "#7201a8"
             ],
             [
              0.3333333333333333,
              "#9c179e"
             ],
             [
              0.4444444444444444,
              "#bd3786"
             ],
             [
              0.5555555555555556,
              "#d8576b"
             ],
             [
              0.6666666666666666,
              "#ed7953"
             ],
             [
              0.7777777777777778,
              "#fb9f3a"
             ],
             [
              0.8888888888888888,
              "#fdca26"
             ],
             [
              1,
              "#f0f921"
             ]
            ],
            "type": "heatmapgl"
           }
          ],
          "histogram": [
           {
            "marker": {
             "colorbar": {
              "outlinewidth": 0,
              "ticks": ""
             }
            },
            "type": "histogram"
           }
          ],
          "histogram2d": [
           {
            "colorbar": {
             "outlinewidth": 0,
             "ticks": ""
            },
            "colorscale": [
             [
              0,
              "#0d0887"
             ],
             [
              0.1111111111111111,
              "#46039f"
             ],
             [
              0.2222222222222222,
              "#7201a8"
             ],
             [
              0.3333333333333333,
              "#9c179e"
             ],
             [
              0.4444444444444444,
              "#bd3786"
             ],
             [
              0.5555555555555556,
              "#d8576b"
             ],
             [
              0.6666666666666666,
              "#ed7953"
             ],
             [
              0.7777777777777778,
              "#fb9f3a"
             ],
             [
              0.8888888888888888,
              "#fdca26"
             ],
             [
              1,
              "#f0f921"
             ]
            ],
            "type": "histogram2d"
           }
          ],
          "histogram2dcontour": [
           {
            "colorbar": {
             "outlinewidth": 0,
             "ticks": ""
            },
            "colorscale": [
             [
              0,
              "#0d0887"
             ],
             [
              0.1111111111111111,
              "#46039f"
             ],
             [
              0.2222222222222222,
              "#7201a8"
             ],
             [
              0.3333333333333333,
              "#9c179e"
             ],
             [
              0.4444444444444444,
              "#bd3786"
             ],
             [
              0.5555555555555556,
              "#d8576b"
             ],
             [
              0.6666666666666666,
              "#ed7953"
             ],
             [
              0.7777777777777778,
              "#fb9f3a"
             ],
             [
              0.8888888888888888,
              "#fdca26"
             ],
             [
              1,
              "#f0f921"
             ]
            ],
            "type": "histogram2dcontour"
           }
          ],
          "mesh3d": [
           {
            "colorbar": {
             "outlinewidth": 0,
             "ticks": ""
            },
            "type": "mesh3d"
           }
          ],
          "parcoords": [
           {
            "line": {
             "colorbar": {
              "outlinewidth": 0,
              "ticks": ""
             }
            },
            "type": "parcoords"
           }
          ],
          "pie": [
           {
            "automargin": true,
            "type": "pie"
           }
          ],
          "scatter": [
           {
            "marker": {
             "colorbar": {
              "outlinewidth": 0,
              "ticks": ""
             }
            },
            "type": "scatter"
           }
          ],
          "scatter3d": [
           {
            "line": {
             "colorbar": {
              "outlinewidth": 0,
              "ticks": ""
             }
            },
            "marker": {
             "colorbar": {
              "outlinewidth": 0,
              "ticks": ""
             }
            },
            "type": "scatter3d"
           }
          ],
          "scattercarpet": [
           {
            "marker": {
             "colorbar": {
              "outlinewidth": 0,
              "ticks": ""
             }
            },
            "type": "scattercarpet"
           }
          ],
          "scattergeo": [
           {
            "marker": {
             "colorbar": {
              "outlinewidth": 0,
              "ticks": ""
             }
            },
            "type": "scattergeo"
           }
          ],
          "scattergl": [
           {
            "marker": {
             "colorbar": {
              "outlinewidth": 0,
              "ticks": ""
             }
            },
            "type": "scattergl"
           }
          ],
          "scattermapbox": [
           {
            "marker": {
             "colorbar": {
              "outlinewidth": 0,
              "ticks": ""
             }
            },
            "type": "scattermapbox"
           }
          ],
          "scatterpolar": [
           {
            "marker": {
             "colorbar": {
              "outlinewidth": 0,
              "ticks": ""
             }
            },
            "type": "scatterpolar"
           }
          ],
          "scatterpolargl": [
           {
            "marker": {
             "colorbar": {
              "outlinewidth": 0,
              "ticks": ""
             }
            },
            "type": "scatterpolargl"
           }
          ],
          "scatterternary": [
           {
            "marker": {
             "colorbar": {
              "outlinewidth": 0,
              "ticks": ""
             }
            },
            "type": "scatterternary"
           }
          ],
          "surface": [
           {
            "colorbar": {
             "outlinewidth": 0,
             "ticks": ""
            },
            "colorscale": [
             [
              0,
              "#0d0887"
             ],
             [
              0.1111111111111111,
              "#46039f"
             ],
             [
              0.2222222222222222,
              "#7201a8"
             ],
             [
              0.3333333333333333,
              "#9c179e"
             ],
             [
              0.4444444444444444,
              "#bd3786"
             ],
             [
              0.5555555555555556,
              "#d8576b"
             ],
             [
              0.6666666666666666,
              "#ed7953"
             ],
             [
              0.7777777777777778,
              "#fb9f3a"
             ],
             [
              0.8888888888888888,
              "#fdca26"
             ],
             [
              1,
              "#f0f921"
             ]
            ],
            "type": "surface"
           }
          ],
          "table": [
           {
            "cells": {
             "fill": {
              "color": "#EBF0F8"
             },
             "line": {
              "color": "white"
             }
            },
            "header": {
             "fill": {
              "color": "#C8D4E3"
             },
             "line": {
              "color": "white"
             }
            },
            "type": "table"
           }
          ]
         },
         "layout": {
          "annotationdefaults": {
           "arrowcolor": "#2a3f5f",
           "arrowhead": 0,
           "arrowwidth": 1
          },
          "coloraxis": {
           "colorbar": {
            "outlinewidth": 0,
            "ticks": ""
           }
          },
          "colorscale": {
           "diverging": [
            [
             0,
             "#8e0152"
            ],
            [
             0.1,
             "#c51b7d"
            ],
            [
             0.2,
             "#de77ae"
            ],
            [
             0.3,
             "#f1b6da"
            ],
            [
             0.4,
             "#fde0ef"
            ],
            [
             0.5,
             "#f7f7f7"
            ],
            [
             0.6,
             "#e6f5d0"
            ],
            [
             0.7,
             "#b8e186"
            ],
            [
             0.8,
             "#7fbc41"
            ],
            [
             0.9,
             "#4d9221"
            ],
            [
             1,
             "#276419"
            ]
           ],
           "sequential": [
            [
             0,
             "#0d0887"
            ],
            [
             0.1111111111111111,
             "#46039f"
            ],
            [
             0.2222222222222222,
             "#7201a8"
            ],
            [
             0.3333333333333333,
             "#9c179e"
            ],
            [
             0.4444444444444444,
             "#bd3786"
            ],
            [
             0.5555555555555556,
             "#d8576b"
            ],
            [
             0.6666666666666666,
             "#ed7953"
            ],
            [
             0.7777777777777778,
             "#fb9f3a"
            ],
            [
             0.8888888888888888,
             "#fdca26"
            ],
            [
             1,
             "#f0f921"
            ]
           ],
           "sequentialminus": [
            [
             0,
             "#0d0887"
            ],
            [
             0.1111111111111111,
             "#46039f"
            ],
            [
             0.2222222222222222,
             "#7201a8"
            ],
            [
             0.3333333333333333,
             "#9c179e"
            ],
            [
             0.4444444444444444,
             "#bd3786"
            ],
            [
             0.5555555555555556,
             "#d8576b"
            ],
            [
             0.6666666666666666,
             "#ed7953"
            ],
            [
             0.7777777777777778,
             "#fb9f3a"
            ],
            [
             0.8888888888888888,
             "#fdca26"
            ],
            [
             1,
             "#f0f921"
            ]
           ]
          },
          "colorway": [
           "#636efa",
           "#EF553B",
           "#00cc96",
           "#ab63fa",
           "#FFA15A",
           "#19d3f3",
           "#FF6692",
           "#B6E880",
           "#FF97FF",
           "#FECB52"
          ],
          "font": {
           "color": "#2a3f5f"
          },
          "geo": {
           "bgcolor": "white",
           "lakecolor": "white",
           "landcolor": "#E5ECF6",
           "showlakes": true,
           "showland": true,
           "subunitcolor": "white"
          },
          "hoverlabel": {
           "align": "left"
          },
          "hovermode": "closest",
          "mapbox": {
           "style": "light"
          },
          "paper_bgcolor": "white",
          "plot_bgcolor": "#E5ECF6",
          "polar": {
           "angularaxis": {
            "gridcolor": "white",
            "linecolor": "white",
            "ticks": ""
           },
           "bgcolor": "#E5ECF6",
           "radialaxis": {
            "gridcolor": "white",
            "linecolor": "white",
            "ticks": ""
           }
          },
          "scene": {
           "xaxis": {
            "backgroundcolor": "#E5ECF6",
            "gridcolor": "white",
            "gridwidth": 2,
            "linecolor": "white",
            "showbackground": true,
            "ticks": "",
            "zerolinecolor": "white"
           },
           "yaxis": {
            "backgroundcolor": "#E5ECF6",
            "gridcolor": "white",
            "gridwidth": 2,
            "linecolor": "white",
            "showbackground": true,
            "ticks": "",
            "zerolinecolor": "white"
           },
           "zaxis": {
            "backgroundcolor": "#E5ECF6",
            "gridcolor": "white",
            "gridwidth": 2,
            "linecolor": "white",
            "showbackground": true,
            "ticks": "",
            "zerolinecolor": "white"
           }
          },
          "shapedefaults": {
           "line": {
            "color": "#2a3f5f"
           }
          },
          "ternary": {
           "aaxis": {
            "gridcolor": "white",
            "linecolor": "white",
            "ticks": ""
           },
           "baxis": {
            "gridcolor": "white",
            "linecolor": "white",
            "ticks": ""
           },
           "bgcolor": "#E5ECF6",
           "caxis": {
            "gridcolor": "white",
            "linecolor": "white",
            "ticks": ""
           }
          },
          "title": {
           "x": 0.05
          },
          "xaxis": {
           "automargin": true,
           "gridcolor": "white",
           "linecolor": "white",
           "ticks": "",
           "title": {
            "standoff": 15
           },
           "zerolinecolor": "white",
           "zerolinewidth": 2
          },
          "yaxis": {
           "automargin": true,
           "gridcolor": "white",
           "linecolor": "white",
           "ticks": "",
           "title": {
            "standoff": 15
           },
           "zerolinecolor": "white",
           "zerolinewidth": 2
          }
         }
        },
        "title": {
         "text": "Distribution of Paid Apps & Free Apps"
        }
       }
      },
      "text/html": [
       "<div>\n",
       "        \n",
       "        \n",
       "            <div id=\"8fa41f2e-cc4b-4378-9ce1-4662ffae7698\" class=\"plotly-graph-div\" style=\"height:525px; width:100%;\"></div>\n",
       "            <script type=\"text/javascript\">\n",
       "                require([\"plotly\"], function(Plotly) {\n",
       "                    window.PLOTLYENV=window.PLOTLYENV || {};\n",
       "                    \n",
       "                if (document.getElementById(\"8fa41f2e-cc4b-4378-9ce1-4662ffae7698\")) {\n",
       "                    Plotly.newPlot(\n",
       "                        '8fa41f2e-cc4b-4378-9ce1-4662ffae7698',\n",
       "                        [{\"hoverinfo\": \"label+percent\", \"labels\": [\"Free Apps\", \"Paid Apps\"], \"marker\": {\"colors\": [\"#2d83a8\", \"#32a852\"], \"line\": {\"color\": \"#000000\", \"width\": 2}}, \"textfont\": {\"size\": 20}, \"textinfo\": \"percent+label\", \"type\": \"pie\", \"values\": [\"97.01\", \"2.987598647125141\"]}],\n",
       "                        {\"font\": {\"size\": 15}, \"template\": {\"data\": {\"bar\": [{\"error_x\": {\"color\": \"#2a3f5f\"}, \"error_y\": {\"color\": \"#2a3f5f\"}, \"marker\": {\"line\": {\"color\": \"#E5ECF6\", \"width\": 0.5}}, \"type\": \"bar\"}], \"barpolar\": [{\"marker\": {\"line\": {\"color\": \"#E5ECF6\", \"width\": 0.5}}, \"type\": \"barpolar\"}], \"carpet\": [{\"aaxis\": {\"endlinecolor\": \"#2a3f5f\", \"gridcolor\": \"white\", \"linecolor\": \"white\", \"minorgridcolor\": \"white\", \"startlinecolor\": \"#2a3f5f\"}, \"baxis\": {\"endlinecolor\": \"#2a3f5f\", \"gridcolor\": \"white\", \"linecolor\": \"white\", \"minorgridcolor\": \"white\", \"startlinecolor\": \"#2a3f5f\"}, \"type\": \"carpet\"}], \"choropleth\": [{\"colorbar\": {\"outlinewidth\": 0, \"ticks\": \"\"}, \"type\": \"choropleth\"}], \"contour\": [{\"colorbar\": {\"outlinewidth\": 0, \"ticks\": \"\"}, \"colorscale\": [[0.0, \"#0d0887\"], [0.1111111111111111, \"#46039f\"], [0.2222222222222222, \"#7201a8\"], [0.3333333333333333, \"#9c179e\"], [0.4444444444444444, \"#bd3786\"], [0.5555555555555556, \"#d8576b\"], [0.6666666666666666, \"#ed7953\"], [0.7777777777777778, \"#fb9f3a\"], [0.8888888888888888, \"#fdca26\"], [1.0, \"#f0f921\"]], \"type\": \"contour\"}], \"contourcarpet\": [{\"colorbar\": {\"outlinewidth\": 0, \"ticks\": \"\"}, \"type\": \"contourcarpet\"}], \"heatmap\": [{\"colorbar\": {\"outlinewidth\": 0, \"ticks\": \"\"}, \"colorscale\": [[0.0, \"#0d0887\"], [0.1111111111111111, \"#46039f\"], [0.2222222222222222, \"#7201a8\"], [0.3333333333333333, \"#9c179e\"], [0.4444444444444444, \"#bd3786\"], [0.5555555555555556, \"#d8576b\"], [0.6666666666666666, \"#ed7953\"], [0.7777777777777778, \"#fb9f3a\"], [0.8888888888888888, \"#fdca26\"], [1.0, \"#f0f921\"]], \"type\": \"heatmap\"}], \"heatmapgl\": [{\"colorbar\": {\"outlinewidth\": 0, \"ticks\": \"\"}, \"colorscale\": [[0.0, \"#0d0887\"], [0.1111111111111111, \"#46039f\"], [0.2222222222222222, \"#7201a8\"], [0.3333333333333333, \"#9c179e\"], [0.4444444444444444, \"#bd3786\"], [0.5555555555555556, \"#d8576b\"], [0.6666666666666666, \"#ed7953\"], [0.7777777777777778, \"#fb9f3a\"], [0.8888888888888888, \"#fdca26\"], [1.0, \"#f0f921\"]], \"type\": \"heatmapgl\"}], \"histogram\": [{\"marker\": {\"colorbar\": {\"outlinewidth\": 0, \"ticks\": \"\"}}, \"type\": \"histogram\"}], \"histogram2d\": [{\"colorbar\": {\"outlinewidth\": 0, \"ticks\": \"\"}, \"colorscale\": [[0.0, \"#0d0887\"], [0.1111111111111111, \"#46039f\"], [0.2222222222222222, \"#7201a8\"], [0.3333333333333333, \"#9c179e\"], [0.4444444444444444, \"#bd3786\"], [0.5555555555555556, \"#d8576b\"], [0.6666666666666666, \"#ed7953\"], [0.7777777777777778, \"#fb9f3a\"], [0.8888888888888888, \"#fdca26\"], [1.0, \"#f0f921\"]], \"type\": \"histogram2d\"}], \"histogram2dcontour\": [{\"colorbar\": {\"outlinewidth\": 0, \"ticks\": \"\"}, \"colorscale\": [[0.0, \"#0d0887\"], [0.1111111111111111, \"#46039f\"], [0.2222222222222222, \"#7201a8\"], [0.3333333333333333, \"#9c179e\"], [0.4444444444444444, \"#bd3786\"], [0.5555555555555556, \"#d8576b\"], [0.6666666666666666, \"#ed7953\"], [0.7777777777777778, \"#fb9f3a\"], [0.8888888888888888, \"#fdca26\"], [1.0, \"#f0f921\"]], \"type\": \"histogram2dcontour\"}], \"mesh3d\": [{\"colorbar\": {\"outlinewidth\": 0, \"ticks\": \"\"}, \"type\": \"mesh3d\"}], \"parcoords\": [{\"line\": {\"colorbar\": {\"outlinewidth\": 0, \"ticks\": \"\"}}, \"type\": \"parcoords\"}], \"pie\": [{\"automargin\": true, \"type\": \"pie\"}], \"scatter\": [{\"marker\": {\"colorbar\": {\"outlinewidth\": 0, \"ticks\": \"\"}}, \"type\": \"scatter\"}], \"scatter3d\": [{\"line\": {\"colorbar\": {\"outlinewidth\": 0, \"ticks\": \"\"}}, \"marker\": {\"colorbar\": {\"outlinewidth\": 0, \"ticks\": \"\"}}, \"type\": \"scatter3d\"}], \"scattercarpet\": [{\"marker\": {\"colorbar\": {\"outlinewidth\": 0, \"ticks\": \"\"}}, \"type\": \"scattercarpet\"}], \"scattergeo\": [{\"marker\": {\"colorbar\": {\"outlinewidth\": 0, \"ticks\": \"\"}}, \"type\": \"scattergeo\"}], \"scattergl\": [{\"marker\": {\"colorbar\": {\"outlinewidth\": 0, \"ticks\": \"\"}}, \"type\": \"scattergl\"}], \"scattermapbox\": [{\"marker\": {\"colorbar\": {\"outlinewidth\": 0, \"ticks\": \"\"}}, \"type\": \"scattermapbox\"}], \"scatterpolar\": [{\"marker\": {\"colorbar\": {\"outlinewidth\": 0, \"ticks\": \"\"}}, \"type\": \"scatterpolar\"}], \"scatterpolargl\": [{\"marker\": {\"colorbar\": {\"outlinewidth\": 0, \"ticks\": \"\"}}, \"type\": \"scatterpolargl\"}], \"scatterternary\": [{\"marker\": {\"colorbar\": {\"outlinewidth\": 0, \"ticks\": \"\"}}, \"type\": \"scatterternary\"}], \"surface\": [{\"colorbar\": {\"outlinewidth\": 0, \"ticks\": \"\"}, \"colorscale\": [[0.0, \"#0d0887\"], [0.1111111111111111, \"#46039f\"], [0.2222222222222222, \"#7201a8\"], [0.3333333333333333, \"#9c179e\"], [0.4444444444444444, \"#bd3786\"], [0.5555555555555556, \"#d8576b\"], [0.6666666666666666, \"#ed7953\"], [0.7777777777777778, \"#fb9f3a\"], [0.8888888888888888, \"#fdca26\"], [1.0, \"#f0f921\"]], \"type\": \"surface\"}], \"table\": [{\"cells\": {\"fill\": {\"color\": \"#EBF0F8\"}, \"line\": {\"color\": \"white\"}}, \"header\": {\"fill\": {\"color\": \"#C8D4E3\"}, \"line\": {\"color\": \"white\"}}, \"type\": \"table\"}]}, \"layout\": {\"annotationdefaults\": {\"arrowcolor\": \"#2a3f5f\", \"arrowhead\": 0, \"arrowwidth\": 1}, \"coloraxis\": {\"colorbar\": {\"outlinewidth\": 0, \"ticks\": \"\"}}, \"colorscale\": {\"diverging\": [[0, \"#8e0152\"], [0.1, \"#c51b7d\"], [0.2, \"#de77ae\"], [0.3, \"#f1b6da\"], [0.4, \"#fde0ef\"], [0.5, \"#f7f7f7\"], [0.6, \"#e6f5d0\"], [0.7, \"#b8e186\"], [0.8, \"#7fbc41\"], [0.9, \"#4d9221\"], [1, \"#276419\"]], \"sequential\": [[0.0, \"#0d0887\"], [0.1111111111111111, \"#46039f\"], [0.2222222222222222, \"#7201a8\"], [0.3333333333333333, \"#9c179e\"], [0.4444444444444444, \"#bd3786\"], [0.5555555555555556, \"#d8576b\"], [0.6666666666666666, \"#ed7953\"], [0.7777777777777778, \"#fb9f3a\"], [0.8888888888888888, \"#fdca26\"], [1.0, \"#f0f921\"]], \"sequentialminus\": [[0.0, \"#0d0887\"], [0.1111111111111111, \"#46039f\"], [0.2222222222222222, \"#7201a8\"], [0.3333333333333333, \"#9c179e\"], [0.4444444444444444, \"#bd3786\"], [0.5555555555555556, \"#d8576b\"], [0.6666666666666666, \"#ed7953\"], [0.7777777777777778, \"#fb9f3a\"], [0.8888888888888888, \"#fdca26\"], [1.0, \"#f0f921\"]]}, \"colorway\": [\"#636efa\", \"#EF553B\", \"#00cc96\", \"#ab63fa\", \"#FFA15A\", \"#19d3f3\", \"#FF6692\", \"#B6E880\", \"#FF97FF\", \"#FECB52\"], \"font\": {\"color\": \"#2a3f5f\"}, \"geo\": {\"bgcolor\": \"white\", \"lakecolor\": \"white\", \"landcolor\": \"#E5ECF6\", \"showlakes\": true, \"showland\": true, \"subunitcolor\": \"white\"}, \"hoverlabel\": {\"align\": \"left\"}, \"hovermode\": \"closest\", \"mapbox\": {\"style\": \"light\"}, \"paper_bgcolor\": \"white\", \"plot_bgcolor\": \"#E5ECF6\", \"polar\": {\"angularaxis\": {\"gridcolor\": \"white\", \"linecolor\": \"white\", \"ticks\": \"\"}, \"bgcolor\": \"#E5ECF6\", \"radialaxis\": {\"gridcolor\": \"white\", \"linecolor\": \"white\", \"ticks\": \"\"}}, \"scene\": {\"xaxis\": {\"backgroundcolor\": \"#E5ECF6\", \"gridcolor\": \"white\", \"gridwidth\": 2, \"linecolor\": \"white\", \"showbackground\": true, \"ticks\": \"\", \"zerolinecolor\": \"white\"}, \"yaxis\": {\"backgroundcolor\": \"#E5ECF6\", \"gridcolor\": \"white\", \"gridwidth\": 2, \"linecolor\": \"white\", \"showbackground\": true, \"ticks\": \"\", \"zerolinecolor\": \"white\"}, \"zaxis\": {\"backgroundcolor\": \"#E5ECF6\", \"gridcolor\": \"white\", \"gridwidth\": 2, \"linecolor\": \"white\", \"showbackground\": true, \"ticks\": \"\", \"zerolinecolor\": \"white\"}}, \"shapedefaults\": {\"line\": {\"color\": \"#2a3f5f\"}}, \"ternary\": {\"aaxis\": {\"gridcolor\": \"white\", \"linecolor\": \"white\", \"ticks\": \"\"}, \"baxis\": {\"gridcolor\": \"white\", \"linecolor\": \"white\", \"ticks\": \"\"}, \"bgcolor\": \"#E5ECF6\", \"caxis\": {\"gridcolor\": \"white\", \"linecolor\": \"white\", \"ticks\": \"\"}}, \"title\": {\"x\": 0.05}, \"xaxis\": {\"automargin\": true, \"gridcolor\": \"white\", \"linecolor\": \"white\", \"ticks\": \"\", \"title\": {\"standoff\": 15}, \"zerolinecolor\": \"white\", \"zerolinewidth\": 2}, \"yaxis\": {\"automargin\": true, \"gridcolor\": \"white\", \"linecolor\": \"white\", \"ticks\": \"\", \"title\": {\"standoff\": 15}, \"zerolinecolor\": \"white\", \"zerolinewidth\": 2}}}, \"title\": {\"text\": \"Distribution of Paid Apps & Free Apps\"}},\n",
       "                        {\"responsive\": true}\n",
       "                    ).then(function(){\n",
       "                            \n",
       "var gd = document.getElementById('8fa41f2e-cc4b-4378-9ce1-4662ffae7698');\n",
       "var x = new MutationObserver(function (mutations, observer) {{\n",
       "        var display = window.getComputedStyle(gd).display;\n",
       "        if (!display || display === 'none') {{\n",
       "            console.log([gd, 'removed!']);\n",
       "            Plotly.purge(gd);\n",
       "            observer.disconnect();\n",
       "        }}\n",
       "}});\n",
       "\n",
       "// Listen for the removal of the full notebook cells\n",
       "var notebookContainer = gd.closest('#notebook-container');\n",
       "if (notebookContainer) {{\n",
       "    x.observe(notebookContainer, {childList: true});\n",
       "}}\n",
       "\n",
       "// Listen for the clearing of the current output cell\n",
       "var outputEl = gd.closest('.output');\n",
       "if (outputEl) {{\n",
       "    x.observe(outputEl, {childList: true});\n",
       "}}\n",
       "\n",
       "                        })\n",
       "                };\n",
       "                });\n",
       "            </script>\n",
       "        </div>"
      ]
     },
     "metadata": {},
     "output_type": "display_data"
    }
   ],
   "source": [
    "colors = ['#2d83a8', '#32a852']\n",
    "\n",
    "fig = go.Figure(data=[go.Pie(labels=['Free Apps','Paid Apps'],\n",
    "                             values=[percentage_free, percentage_paid])])\n",
    "fig.update_traces(hoverinfo='label+percent', textinfo='percent+label', textfont_size=20,\n",
    "                  marker=dict(colors=colors, line=dict(color='#000000', width=2)))\n",
    "fig.update_layout(title_text='Distribution of Paid Apps & Free Apps', font_size=15)\n",
    "fig.show()"
   ]
  },
  {
   "cell_type": "markdown",
   "metadata": {},
   "source": [
    "We can easily see the comparison between Paid Apps and Free Apps."
   ]
  },
  {
   "cell_type": "markdown",
   "metadata": {},
   "source": [
    "## Which App is the most expensive ? "
   ]
  },
  {
   "cell_type": "code",
   "execution_count": 81,
   "metadata": {},
   "outputs": [],
   "source": [
    "df_notfree = df[df['Price'] != 'Free']"
   ]
  },
  {
   "cell_type": "code",
   "execution_count": 90,
   "metadata": {},
   "outputs": [
    {
     "data": {
      "text/html": [
       "<div>\n",
       "<style scoped>\n",
       "    .dataframe tbody tr th:only-of-type {\n",
       "        vertical-align: middle;\n",
       "    }\n",
       "\n",
       "    .dataframe tbody tr th {\n",
       "        vertical-align: top;\n",
       "    }\n",
       "\n",
       "    .dataframe thead th {\n",
       "        text-align: right;\n",
       "    }\n",
       "</style>\n",
       "<table border=\"1\" class=\"dataframe\">\n",
       "  <thead>\n",
       "    <tr style=\"text-align: right;\">\n",
       "      <th></th>\n",
       "      <th>Name</th>\n",
       "      <th>Rating</th>\n",
       "      <th>No of people Rated</th>\n",
       "      <th>Category</th>\n",
       "      <th>Date</th>\n",
       "      <th>Price</th>\n",
       "    </tr>\n",
       "  </thead>\n",
       "  <tbody>\n",
       "    <tr>\n",
       "      <th>5163</th>\n",
       "      <td>Bluestacks app player: guide</td>\n",
       "      <td>1.5</td>\n",
       "      <td>760</td>\n",
       "      <td>Books</td>\n",
       "      <td>16-12-2019</td>\n",
       "      <td>₹ 144.00</td>\n",
       "    </tr>\n",
       "    <tr>\n",
       "      <th>5164</th>\n",
       "      <td>Adobe Acrobat Reader DC PC Guide</td>\n",
       "      <td>2.0</td>\n",
       "      <td>163</td>\n",
       "      <td>Books</td>\n",
       "      <td>28-06-2020</td>\n",
       "      <td>₹ 144.00</td>\n",
       "    </tr>\n",
       "    <tr>\n",
       "      <th>5165</th>\n",
       "      <td>Play Books Online (Client For Google Books)</td>\n",
       "      <td>2.5</td>\n",
       "      <td>292</td>\n",
       "      <td>Books</td>\n",
       "      <td>14-01-2016</td>\n",
       "      <td>₹ 54.00</td>\n",
       "    </tr>\n",
       "    <tr>\n",
       "      <th>5166</th>\n",
       "      <td>WinRAR PC-Guide</td>\n",
       "      <td>1.0</td>\n",
       "      <td>523</td>\n",
       "      <td>Books</td>\n",
       "      <td>22-11-2019</td>\n",
       "      <td>₹ 99.00</td>\n",
       "    </tr>\n",
       "    <tr>\n",
       "      <th>5167</th>\n",
       "      <td>Windows Movie Maker : PC Guide</td>\n",
       "      <td>1.0</td>\n",
       "      <td>515</td>\n",
       "      <td>Books</td>\n",
       "      <td>22-06-2020</td>\n",
       "      <td>₹ 144.00</td>\n",
       "    </tr>\n",
       "  </tbody>\n",
       "</table>\n",
       "</div>"
      ],
      "text/plain": [
       "                                             Name  Rating  No of people Rated  \\\n",
       "5163                 Bluestacks app player: guide     1.5                 760   \n",
       "5164             Adobe Acrobat Reader DC PC Guide     2.0                 163   \n",
       "5165  Play Books Online (Client For Google Books)     2.5                 292   \n",
       "5166                              WinRAR PC-Guide     1.0                 523   \n",
       "5167               Windows Movie Maker : PC Guide     1.0                 515   \n",
       "\n",
       "     Category        Date     Price  \n",
       "5163    Books  16-12-2019  ₹ 144.00  \n",
       "5164    Books  28-06-2020  ₹ 144.00  \n",
       "5165    Books  14-01-2016   ₹ 54.00  \n",
       "5166    Books  22-11-2019   ₹ 99.00  \n",
       "5167    Books  22-06-2020  ₹ 144.00  "
      ]
     },
     "execution_count": 90,
     "metadata": {},
     "output_type": "execute_result"
    }
   ],
   "source": [
    "df_notfree.head()"
   ]
  },
  {
   "cell_type": "code",
   "execution_count": 107,
   "metadata": {},
   "outputs": [
    {
     "data": {
      "application/vnd.plotly.v1+json": {
       "config": {
        "linkText": "Export to plot.ly",
        "plotlyServerURL": "https://plot.ly",
        "showLink": true
       },
       "data": [
        {
         "line": {
          "color": "rgba(53, 229, 232, 1.0)",
          "dash": "solid",
          "shape": "linear",
          "width": 1.3
         },
         "marker": {
          "size": 12,
          "symbol": "circle"
         },
         "mode": "markers",
         "name": "Price",
         "text": "",
         "type": "scatter",
         "x": [
          1.5,
          2,
          2.5,
          1,
          1,
          4.5,
          1,
          1,
          1,
          4.5,
          1.5,
          5,
          3,
          2,
          1,
          1,
          4.5,
          3.5,
          4,
          1.5,
          4,
          4.5,
          1.5,
          4,
          1.5,
          1,
          1,
          2,
          4,
          1,
          2.5,
          3.5,
          4,
          4,
          4.5,
          5,
          4,
          2,
          3,
          4,
          1,
          4.5,
          5,
          2,
          1,
          3.5,
          1.5,
          4,
          1.5,
          2,
          5,
          1.5,
          3,
          2.5,
          1.5,
          4,
          1.5,
          1,
          1,
          1,
          1,
          1,
          1,
          1,
          1,
          4.5,
          1,
          1,
          1,
          1,
          3,
          1,
          1,
          2,
          1,
          3,
          1,
          1,
          1,
          2.5,
          1,
          1,
          1,
          3.5,
          1,
          1,
          1,
          1,
          1,
          1,
          1,
          1,
          4,
          1,
          1.5,
          1,
          4,
          4,
          1,
          1.5,
          1,
          1.5,
          1,
          1,
          1,
          1,
          1,
          1,
          4,
          2.5,
          3.5,
          3.5,
          4,
          3.5,
          5,
          2,
          5,
          5,
          3,
          1,
          4,
          3,
          4,
          3,
          2.5,
          4.5,
          1,
          3,
          2,
          4,
          3.5,
          5,
          4,
          2,
          5,
          1,
          1,
          4.5,
          3.5,
          2.5,
          5,
          1,
          5,
          4.5,
          1.5,
          3.5,
          5,
          4,
          4,
          3.5,
          3.5,
          3.5,
          1,
          3,
          1,
          2.5,
          4,
          4,
          null
         ],
         "y": [
          "₹ 144.00",
          "₹ 144.00",
          "₹ 54.00",
          "₹ 99.00",
          "₹ 144.00",
          "₹ 219.00",
          "₹ 269.00",
          "₹ 134.00",
          "₹ 269.00",
          "₹ 164.00",
          "₹ 109.00",
          "₹ 164.00",
          "₹ 1,624.00",
          "₹ 99.00",
          "₹ 269.00",
          "₹ 269.00",
          "₹ 109.00",
          "₹ 1,099.00",
          "₹ 1,349.00",
          "₹ 269.00",
          "₹ 1,624.00",
          "₹ 59.00",
          "₹ 154.00",
          "₹ 219.00",
          "₹ 164.00",
          "₹ 269.00",
          "₹ 144.00",
          "₹ 154.00",
          "₹ 54.00",
          "₹ 119.00",
          "₹ 109.00",
          "₹ 94.00",
          "₹ 69.00",
          "₹ 139.00",
          "₹ 59.00",
          "₹ 189.00",
          "₹ 549.00",
          "₹ 79.00",
          "₹ 54.00",
          "₹ 2,599.00",
          "₹ 269.00",
          "₹ 299.00",
          "₹ 164.00",
          "₹ 269.00",
          "₹ 164.00",
          "₹ 69.00",
          "₹ 109.00",
          "₹ 109.00",
          "₹ 269.00",
          "₹ 79.00",
          "₹ 69.00",
          "₹ 109.00",
          "₹ 109.00",
          "₹ 549.00",
          "₹ 269.00",
          "₹ 54.00",
          "₹ 269.00",
          "₹ 269.00",
          "₹ 269.00",
          "₹ 269.00",
          "₹ 269.00",
          "₹ 269.00",
          "₹ 269.00",
          "₹ 269.00",
          "₹ 269.00",
          "₹ 1,099.00",
          "₹ 269.00",
          "₹ 269.00",
          "₹ 269.00",
          "₹ 269.00",
          "₹ 574.00",
          "₹ 269.00",
          "₹ 269.00",
          "₹ 329.40",
          "₹ 269.00",
          "₹ 54.00",
          "₹ 269.00",
          "₹ 269.00",
          "₹ 549.00",
          "₹ 269.00",
          "₹ 269.00",
          "₹ 269.00",
          "₹ 269.00",
          "₹ 144.00",
          "₹ 269.00",
          "₹ 269.00",
          "₹ 269.00",
          "₹ 269.00",
          "₹ 269.00",
          "₹ 549.00",
          "₹ 269.00",
          "₹ 269.00",
          "₹ 1,624.00",
          "₹ 269.00",
          "₹ 549.00",
          "₹ 269.00",
          "₹ 1,521.80",
          "₹ 549.00",
          "₹ 269.00",
          "₹ 269.00",
          "₹ 269.00",
          "₹ 269.00",
          "₹ 549.00",
          "₹ 269.00",
          "₹ 269.00",
          "₹ 269.00",
          "₹ 269.00",
          "₹ 269.00",
          "₹ 549.00",
          "₹ 69.00",
          "₹ 549.00",
          "₹ 324.00",
          "₹ 1,099.00",
          "₹ 79.00",
          "₹ 269.00",
          "₹ 109.00",
          "₹ 824.00",
          "₹ 164.00",
          "₹ 5,449.00",
          "₹ 54.00",
          "₹ 89.50",
          "₹ 114.00",
          "₹ 109.00",
          "₹ 219.00",
          "₹ 194.00",
          "₹ 319.00",
          "₹ 54.00",
          "₹ 54.00",
          "₹ 219.00",
          "₹ 624.00",
          "₹ 549.00",
          "₹ 54.00",
          "₹ 2,149.00",
          "₹ 164.00",
          "₹ 154.00",
          "₹ 54.00",
          "₹ 1,149.00",
          "₹ 269.00",
          "₹ 164.00",
          "₹ 434.00",
          "₹ 99.00",
          "₹ 1,099.00",
          "₹ 79.00",
          "₹ 279.00",
          "₹ 209.00",
          "₹ 699.00",
          "₹ 269.00",
          "₹ 1,899.00",
          "₹ 54.00",
          "₹ 54.00",
          "₹ 489.00",
          "₹ 54.00",
          "₹ 54.00",
          "₹ 54.50",
          "₹ 269.00",
          "₹ 64.00",
          "₹ 269.00",
          "₹ 219.00",
          ""
         ]
        }
       ],
       "layout": {
        "legend": {
         "bgcolor": "#151516",
         "font": {
          "color": "#D9D9D9"
         }
        },
        "paper_bgcolor": "#151516",
        "plot_bgcolor": "#151516",
        "template": {
         "data": {
          "bar": [
           {
            "error_x": {
             "color": "#2a3f5f"
            },
            "error_y": {
             "color": "#2a3f5f"
            },
            "marker": {
             "line": {
              "color": "#E5ECF6",
              "width": 0.5
             }
            },
            "type": "bar"
           }
          ],
          "barpolar": [
           {
            "marker": {
             "line": {
              "color": "#E5ECF6",
              "width": 0.5
             }
            },
            "type": "barpolar"
           }
          ],
          "carpet": [
           {
            "aaxis": {
             "endlinecolor": "#2a3f5f",
             "gridcolor": "white",
             "linecolor": "white",
             "minorgridcolor": "white",
             "startlinecolor": "#2a3f5f"
            },
            "baxis": {
             "endlinecolor": "#2a3f5f",
             "gridcolor": "white",
             "linecolor": "white",
             "minorgridcolor": "white",
             "startlinecolor": "#2a3f5f"
            },
            "type": "carpet"
           }
          ],
          "choropleth": [
           {
            "colorbar": {
             "outlinewidth": 0,
             "ticks": ""
            },
            "type": "choropleth"
           }
          ],
          "contour": [
           {
            "colorbar": {
             "outlinewidth": 0,
             "ticks": ""
            },
            "colorscale": [
             [
              0,
              "#0d0887"
             ],
             [
              0.1111111111111111,
              "#46039f"
             ],
             [
              0.2222222222222222,
              "#7201a8"
             ],
             [
              0.3333333333333333,
              "#9c179e"
             ],
             [
              0.4444444444444444,
              "#bd3786"
             ],
             [
              0.5555555555555556,
              "#d8576b"
             ],
             [
              0.6666666666666666,
              "#ed7953"
             ],
             [
              0.7777777777777778,
              "#fb9f3a"
             ],
             [
              0.8888888888888888,
              "#fdca26"
             ],
             [
              1,
              "#f0f921"
             ]
            ],
            "type": "contour"
           }
          ],
          "contourcarpet": [
           {
            "colorbar": {
             "outlinewidth": 0,
             "ticks": ""
            },
            "type": "contourcarpet"
           }
          ],
          "heatmap": [
           {
            "colorbar": {
             "outlinewidth": 0,
             "ticks": ""
            },
            "colorscale": [
             [
              0,
              "#0d0887"
             ],
             [
              0.1111111111111111,
              "#46039f"
             ],
             [
              0.2222222222222222,
              "#7201a8"
             ],
             [
              0.3333333333333333,
              "#9c179e"
             ],
             [
              0.4444444444444444,
              "#bd3786"
             ],
             [
              0.5555555555555556,
              "#d8576b"
             ],
             [
              0.6666666666666666,
              "#ed7953"
             ],
             [
              0.7777777777777778,
              "#fb9f3a"
             ],
             [
              0.8888888888888888,
              "#fdca26"
             ],
             [
              1,
              "#f0f921"
             ]
            ],
            "type": "heatmap"
           }
          ],
          "heatmapgl": [
           {
            "colorbar": {
             "outlinewidth": 0,
             "ticks": ""
            },
            "colorscale": [
             [
              0,
              "#0d0887"
             ],
             [
              0.1111111111111111,
              "#46039f"
             ],
             [
              0.2222222222222222,
              "#7201a8"
             ],
             [
              0.3333333333333333,
              "#9c179e"
             ],
             [
              0.4444444444444444,
              "#bd3786"
             ],
             [
              0.5555555555555556,
              "#d8576b"
             ],
             [
              0.6666666666666666,
              "#ed7953"
             ],
             [
              0.7777777777777778,
              "#fb9f3a"
             ],
             [
              0.8888888888888888,
              "#fdca26"
             ],
             [
              1,
              "#f0f921"
             ]
            ],
            "type": "heatmapgl"
           }
          ],
          "histogram": [
           {
            "marker": {
             "colorbar": {
              "outlinewidth": 0,
              "ticks": ""
             }
            },
            "type": "histogram"
           }
          ],
          "histogram2d": [
           {
            "colorbar": {
             "outlinewidth": 0,
             "ticks": ""
            },
            "colorscale": [
             [
              0,
              "#0d0887"
             ],
             [
              0.1111111111111111,
              "#46039f"
             ],
             [
              0.2222222222222222,
              "#7201a8"
             ],
             [
              0.3333333333333333,
              "#9c179e"
             ],
             [
              0.4444444444444444,
              "#bd3786"
             ],
             [
              0.5555555555555556,
              "#d8576b"
             ],
             [
              0.6666666666666666,
              "#ed7953"
             ],
             [
              0.7777777777777778,
              "#fb9f3a"
             ],
             [
              0.8888888888888888,
              "#fdca26"
             ],
             [
              1,
              "#f0f921"
             ]
            ],
            "type": "histogram2d"
           }
          ],
          "histogram2dcontour": [
           {
            "colorbar": {
             "outlinewidth": 0,
             "ticks": ""
            },
            "colorscale": [
             [
              0,
              "#0d0887"
             ],
             [
              0.1111111111111111,
              "#46039f"
             ],
             [
              0.2222222222222222,
              "#7201a8"
             ],
             [
              0.3333333333333333,
              "#9c179e"
             ],
             [
              0.4444444444444444,
              "#bd3786"
             ],
             [
              0.5555555555555556,
              "#d8576b"
             ],
             [
              0.6666666666666666,
              "#ed7953"
             ],
             [
              0.7777777777777778,
              "#fb9f3a"
             ],
             [
              0.8888888888888888,
              "#fdca26"
             ],
             [
              1,
              "#f0f921"
             ]
            ],
            "type": "histogram2dcontour"
           }
          ],
          "mesh3d": [
           {
            "colorbar": {
             "outlinewidth": 0,
             "ticks": ""
            },
            "type": "mesh3d"
           }
          ],
          "parcoords": [
           {
            "line": {
             "colorbar": {
              "outlinewidth": 0,
              "ticks": ""
             }
            },
            "type": "parcoords"
           }
          ],
          "pie": [
           {
            "automargin": true,
            "type": "pie"
           }
          ],
          "scatter": [
           {
            "marker": {
             "colorbar": {
              "outlinewidth": 0,
              "ticks": ""
             }
            },
            "type": "scatter"
           }
          ],
          "scatter3d": [
           {
            "line": {
             "colorbar": {
              "outlinewidth": 0,
              "ticks": ""
             }
            },
            "marker": {
             "colorbar": {
              "outlinewidth": 0,
              "ticks": ""
             }
            },
            "type": "scatter3d"
           }
          ],
          "scattercarpet": [
           {
            "marker": {
             "colorbar": {
              "outlinewidth": 0,
              "ticks": ""
             }
            },
            "type": "scattercarpet"
           }
          ],
          "scattergeo": [
           {
            "marker": {
             "colorbar": {
              "outlinewidth": 0,
              "ticks": ""
             }
            },
            "type": "scattergeo"
           }
          ],
          "scattergl": [
           {
            "marker": {
             "colorbar": {
              "outlinewidth": 0,
              "ticks": ""
             }
            },
            "type": "scattergl"
           }
          ],
          "scattermapbox": [
           {
            "marker": {
             "colorbar": {
              "outlinewidth": 0,
              "ticks": ""
             }
            },
            "type": "scattermapbox"
           }
          ],
          "scatterpolar": [
           {
            "marker": {
             "colorbar": {
              "outlinewidth": 0,
              "ticks": ""
             }
            },
            "type": "scatterpolar"
           }
          ],
          "scatterpolargl": [
           {
            "marker": {
             "colorbar": {
              "outlinewidth": 0,
              "ticks": ""
             }
            },
            "type": "scatterpolargl"
           }
          ],
          "scatterternary": [
           {
            "marker": {
             "colorbar": {
              "outlinewidth": 0,
              "ticks": ""
             }
            },
            "type": "scatterternary"
           }
          ],
          "surface": [
           {
            "colorbar": {
             "outlinewidth": 0,
             "ticks": ""
            },
            "colorscale": [
             [
              0,
              "#0d0887"
             ],
             [
              0.1111111111111111,
              "#46039f"
             ],
             [
              0.2222222222222222,
              "#7201a8"
             ],
             [
              0.3333333333333333,
              "#9c179e"
             ],
             [
              0.4444444444444444,
              "#bd3786"
             ],
             [
              0.5555555555555556,
              "#d8576b"
             ],
             [
              0.6666666666666666,
              "#ed7953"
             ],
             [
              0.7777777777777778,
              "#fb9f3a"
             ],
             [
              0.8888888888888888,
              "#fdca26"
             ],
             [
              1,
              "#f0f921"
             ]
            ],
            "type": "surface"
           }
          ],
          "table": [
           {
            "cells": {
             "fill": {
              "color": "#EBF0F8"
             },
             "line": {
              "color": "white"
             }
            },
            "header": {
             "fill": {
              "color": "#C8D4E3"
             },
             "line": {
              "color": "white"
             }
            },
            "type": "table"
           }
          ]
         },
         "layout": {
          "annotationdefaults": {
           "arrowcolor": "#2a3f5f",
           "arrowhead": 0,
           "arrowwidth": 1
          },
          "coloraxis": {
           "colorbar": {
            "outlinewidth": 0,
            "ticks": ""
           }
          },
          "colorscale": {
           "diverging": [
            [
             0,
             "#8e0152"
            ],
            [
             0.1,
             "#c51b7d"
            ],
            [
             0.2,
             "#de77ae"
            ],
            [
             0.3,
             "#f1b6da"
            ],
            [
             0.4,
             "#fde0ef"
            ],
            [
             0.5,
             "#f7f7f7"
            ],
            [
             0.6,
             "#e6f5d0"
            ],
            [
             0.7,
             "#b8e186"
            ],
            [
             0.8,
             "#7fbc41"
            ],
            [
             0.9,
             "#4d9221"
            ],
            [
             1,
             "#276419"
            ]
           ],
           "sequential": [
            [
             0,
             "#0d0887"
            ],
            [
             0.1111111111111111,
             "#46039f"
            ],
            [
             0.2222222222222222,
             "#7201a8"
            ],
            [
             0.3333333333333333,
             "#9c179e"
            ],
            [
             0.4444444444444444,
             "#bd3786"
            ],
            [
             0.5555555555555556,
             "#d8576b"
            ],
            [
             0.6666666666666666,
             "#ed7953"
            ],
            [
             0.7777777777777778,
             "#fb9f3a"
            ],
            [
             0.8888888888888888,
             "#fdca26"
            ],
            [
             1,
             "#f0f921"
            ]
           ],
           "sequentialminus": [
            [
             0,
             "#0d0887"
            ],
            [
             0.1111111111111111,
             "#46039f"
            ],
            [
             0.2222222222222222,
             "#7201a8"
            ],
            [
             0.3333333333333333,
             "#9c179e"
            ],
            [
             0.4444444444444444,
             "#bd3786"
            ],
            [
             0.5555555555555556,
             "#d8576b"
            ],
            [
             0.6666666666666666,
             "#ed7953"
            ],
            [
             0.7777777777777778,
             "#fb9f3a"
            ],
            [
             0.8888888888888888,
             "#fdca26"
            ],
            [
             1,
             "#f0f921"
            ]
           ]
          },
          "colorway": [
           "#636efa",
           "#EF553B",
           "#00cc96",
           "#ab63fa",
           "#FFA15A",
           "#19d3f3",
           "#FF6692",
           "#B6E880",
           "#FF97FF",
           "#FECB52"
          ],
          "font": {
           "color": "#2a3f5f"
          },
          "geo": {
           "bgcolor": "white",
           "lakecolor": "white",
           "landcolor": "#E5ECF6",
           "showlakes": true,
           "showland": true,
           "subunitcolor": "white"
          },
          "hoverlabel": {
           "align": "left"
          },
          "hovermode": "closest",
          "mapbox": {
           "style": "light"
          },
          "paper_bgcolor": "white",
          "plot_bgcolor": "#E5ECF6",
          "polar": {
           "angularaxis": {
            "gridcolor": "white",
            "linecolor": "white",
            "ticks": ""
           },
           "bgcolor": "#E5ECF6",
           "radialaxis": {
            "gridcolor": "white",
            "linecolor": "white",
            "ticks": ""
           }
          },
          "scene": {
           "xaxis": {
            "backgroundcolor": "#E5ECF6",
            "gridcolor": "white",
            "gridwidth": 2,
            "linecolor": "white",
            "showbackground": true,
            "ticks": "",
            "zerolinecolor": "white"
           },
           "yaxis": {
            "backgroundcolor": "#E5ECF6",
            "gridcolor": "white",
            "gridwidth": 2,
            "linecolor": "white",
            "showbackground": true,
            "ticks": "",
            "zerolinecolor": "white"
           },
           "zaxis": {
            "backgroundcolor": "#E5ECF6",
            "gridcolor": "white",
            "gridwidth": 2,
            "linecolor": "white",
            "showbackground": true,
            "ticks": "",
            "zerolinecolor": "white"
           }
          },
          "shapedefaults": {
           "line": {
            "color": "#2a3f5f"
           }
          },
          "ternary": {
           "aaxis": {
            "gridcolor": "white",
            "linecolor": "white",
            "ticks": ""
           },
           "baxis": {
            "gridcolor": "white",
            "linecolor": "white",
            "ticks": ""
           },
           "bgcolor": "#E5ECF6",
           "caxis": {
            "gridcolor": "white",
            "linecolor": "white",
            "ticks": ""
           }
          },
          "title": {
           "x": 0.05
          },
          "xaxis": {
           "automargin": true,
           "gridcolor": "white",
           "linecolor": "white",
           "ticks": "",
           "title": {
            "standoff": 15
           },
           "zerolinecolor": "white",
           "zerolinewidth": 2
          },
          "yaxis": {
           "automargin": true,
           "gridcolor": "white",
           "linecolor": "white",
           "ticks": "",
           "title": {
            "standoff": 15
           },
           "zerolinecolor": "white",
           "zerolinewidth": 2
          }
         }
        },
        "title": {
         "font": {
          "color": "#D9D9D9"
         }
        },
        "xaxis": {
         "gridcolor": "#434343",
         "showgrid": true,
         "tickfont": {
          "color": "#C2C2C2"
         },
         "title": {
          "font": {
           "color": "#D9D9D9"
          },
          "text": ""
         },
         "zerolinecolor": "#666570"
        },
        "yaxis": {
         "gridcolor": "#434343",
         "showgrid": true,
         "tickfont": {
          "color": "#C2C2C2"
         },
         "title": {
          "font": {
           "color": "#D9D9D9"
          },
          "text": ""
         },
         "zerolinecolor": "#666570"
        }
       }
      },
      "text/html": [
       "<div>\n",
       "        \n",
       "        \n",
       "            <div id=\"c2132a01-9544-4a38-9540-3fd912c61bcc\" class=\"plotly-graph-div\" style=\"height:525px; width:100%;\"></div>\n",
       "            <script type=\"text/javascript\">\n",
       "                require([\"plotly\"], function(Plotly) {\n",
       "                    window.PLOTLYENV=window.PLOTLYENV || {};\n",
       "                    window.PLOTLYENV.BASE_URL='https://plot.ly';\n",
       "                    \n",
       "                if (document.getElementById(\"c2132a01-9544-4a38-9540-3fd912c61bcc\")) {\n",
       "                    Plotly.newPlot(\n",
       "                        'c2132a01-9544-4a38-9540-3fd912c61bcc',\n",
       "                        [{\"line\": {\"color\": \"rgba(53, 229, 232, 1.0)\", \"dash\": \"solid\", \"shape\": \"linear\", \"width\": 1.3}, \"marker\": {\"size\": 12, \"symbol\": \"circle\"}, \"mode\": \"markers\", \"name\": \"Price\", \"text\": \"\", \"type\": \"scatter\", \"x\": [1.5, 2.0, 2.5, 1.0, 1.0, 4.5, 1.0, 1.0, 1.0, 4.5, 1.5, 5.0, 3.0, 2.0, 1.0, 1.0, 4.5, 3.5, 4.0, 1.5, 4.0, 4.5, 1.5, 4.0, 1.5, 1.0, 1.0, 2.0, 4.0, 1.0, 2.5, 3.5, 4.0, 4.0, 4.5, 5.0, 4.0, 2.0, 3.0, 4.0, 1.0, 4.5, 5.0, 2.0, 1.0, 3.5, 1.5, 4.0, 1.5, 2.0, 5.0, 1.5, 3.0, 2.5, 1.5, 4.0, 1.5, 1.0, 1.0, 1.0, 1.0, 1.0, 1.0, 1.0, 1.0, 4.5, 1.0, 1.0, 1.0, 1.0, 3.0, 1.0, 1.0, 2.0, 1.0, 3.0, 1.0, 1.0, 1.0, 2.5, 1.0, 1.0, 1.0, 3.5, 1.0, 1.0, 1.0, 1.0, 1.0, 1.0, 1.0, 1.0, 4.0, 1.0, 1.5, 1.0, 4.0, 4.0, 1.0, 1.5, 1.0, 1.5, 1.0, 1.0, 1.0, 1.0, 1.0, 1.0, 4.0, 2.5, 3.5, 3.5, 4.0, 3.5, 5.0, 2.0, 5.0, 5.0, 3.0, 1.0, 4.0, 3.0, 4.0, 3.0, 2.5, 4.5, 1.0, 3.0, 2.0, 4.0, 3.5, 5.0, 4.0, 2.0, 5.0, 1.0, 1.0, 4.5, 3.5, 2.5, 5.0, 1.0, 5.0, 4.5, 1.5, 3.5, 5.0, 4.0, 4.0, 3.5, 3.5, 3.5, 1.0, 3.0, 1.0, 2.5, 4.0, 4.0, null], \"y\": [\"\\u20b9 144.00\", \"\\u20b9 144.00\", \"\\u20b9 54.00\", \"\\u20b9 99.00\", \"\\u20b9 144.00\", \"\\u20b9 219.00\", \"\\u20b9 269.00\", \"\\u20b9 134.00\", \"\\u20b9 269.00\", \"\\u20b9 164.00\", \"\\u20b9 109.00\", \"\\u20b9 164.00\", \"\\u20b9 1,624.00\", \"\\u20b9 99.00\", \"\\u20b9 269.00\", \"\\u20b9 269.00\", \"\\u20b9 109.00\", \"\\u20b9 1,099.00\", \"\\u20b9 1,349.00\", \"\\u20b9 269.00\", \"\\u20b9 1,624.00\", \"\\u20b9 59.00\", \"\\u20b9 154.00\", \"\\u20b9 219.00\", \"\\u20b9 164.00\", \"\\u20b9 269.00\", \"\\u20b9 144.00\", \"\\u20b9 154.00\", \"\\u20b9 54.00\", \"\\u20b9 119.00\", \"\\u20b9 109.00\", \"\\u20b9 94.00\", \"\\u20b9 69.00\", \"\\u20b9 139.00\", \"\\u20b9 59.00\", \"\\u20b9 189.00\", \"\\u20b9 549.00\", \"\\u20b9 79.00\", \"\\u20b9 54.00\", \"\\u20b9 2,599.00\", \"\\u20b9 269.00\", \"\\u20b9 299.00\", \"\\u20b9 164.00\", \"\\u20b9 269.00\", \"\\u20b9 164.00\", \"\\u20b9 69.00\", \"\\u20b9 109.00\", \"\\u20b9 109.00\", \"\\u20b9 269.00\", \"\\u20b9 79.00\", \"\\u20b9 69.00\", \"\\u20b9 109.00\", \"\\u20b9 109.00\", \"\\u20b9 549.00\", \"\\u20b9 269.00\", \"\\u20b9 54.00\", \"\\u20b9 269.00\", \"\\u20b9 269.00\", \"\\u20b9 269.00\", \"\\u20b9 269.00\", \"\\u20b9 269.00\", \"\\u20b9 269.00\", \"\\u20b9 269.00\", \"\\u20b9 269.00\", \"\\u20b9 269.00\", \"\\u20b9 1,099.00\", \"\\u20b9 269.00\", \"\\u20b9 269.00\", \"\\u20b9 269.00\", \"\\u20b9 269.00\", \"\\u20b9 574.00\", \"\\u20b9 269.00\", \"\\u20b9 269.00\", \"\\u20b9 329.40\", \"\\u20b9 269.00\", \"\\u20b9 54.00\", \"\\u20b9 269.00\", \"\\u20b9 269.00\", \"\\u20b9 549.00\", \"\\u20b9 269.00\", \"\\u20b9 269.00\", \"\\u20b9 269.00\", \"\\u20b9 269.00\", \"\\u20b9 144.00\", \"\\u20b9 269.00\", \"\\u20b9 269.00\", \"\\u20b9 269.00\", \"\\u20b9 269.00\", \"\\u20b9 269.00\", \"\\u20b9 549.00\", \"\\u20b9 269.00\", \"\\u20b9 269.00\", \"\\u20b9 1,624.00\", \"\\u20b9 269.00\", \"\\u20b9 549.00\", \"\\u20b9 269.00\", \"\\u20b9 1,521.80\", \"\\u20b9 549.00\", \"\\u20b9 269.00\", \"\\u20b9 269.00\", \"\\u20b9 269.00\", \"\\u20b9 269.00\", \"\\u20b9 549.00\", \"\\u20b9 269.00\", \"\\u20b9 269.00\", \"\\u20b9 269.00\", \"\\u20b9 269.00\", \"\\u20b9 269.00\", \"\\u20b9 549.00\", \"\\u20b9 69.00\", \"\\u20b9 549.00\", \"\\u20b9 324.00\", \"\\u20b9 1,099.00\", \"\\u20b9 79.00\", \"\\u20b9 269.00\", \"\\u20b9 109.00\", \"\\u20b9 824.00\", \"\\u20b9 164.00\", \"\\u20b9 5,449.00\", \"\\u20b9 54.00\", \"\\u20b9 89.50\", \"\\u20b9 114.00\", \"\\u20b9 109.00\", \"\\u20b9 219.00\", \"\\u20b9 194.00\", \"\\u20b9 319.00\", \"\\u20b9 54.00\", \"\\u20b9 54.00\", \"\\u20b9 219.00\", \"\\u20b9 624.00\", \"\\u20b9 549.00\", \"\\u20b9 54.00\", \"\\u20b9 2,149.00\", \"\\u20b9 164.00\", \"\\u20b9 154.00\", \"\\u20b9 54.00\", \"\\u20b9 1,149.00\", \"\\u20b9 269.00\", \"\\u20b9 164.00\", \"\\u20b9 434.00\", \"\\u20b9 99.00\", \"\\u20b9 1,099.00\", \"\\u20b9 79.00\", \"\\u20b9 279.00\", \"\\u20b9 209.00\", \"\\u20b9 699.00\", \"\\u20b9 269.00\", \"\\u20b9 1,899.00\", \"\\u20b9 54.00\", \"\\u20b9 54.00\", \"\\u20b9 489.00\", \"\\u20b9 54.00\", \"\\u20b9 54.00\", \"\\u20b9 54.50\", \"\\u20b9 269.00\", \"\\u20b9 64.00\", \"\\u20b9 269.00\", \"\\u20b9 219.00\", \"\"]}],\n",
       "                        {\"legend\": {\"bgcolor\": \"#151516\", \"font\": {\"color\": \"#D9D9D9\"}}, \"paper_bgcolor\": \"#151516\", \"plot_bgcolor\": \"#151516\", \"template\": {\"data\": {\"bar\": [{\"error_x\": {\"color\": \"#2a3f5f\"}, \"error_y\": {\"color\": \"#2a3f5f\"}, \"marker\": {\"line\": {\"color\": \"#E5ECF6\", \"width\": 0.5}}, \"type\": \"bar\"}], \"barpolar\": [{\"marker\": {\"line\": {\"color\": \"#E5ECF6\", \"width\": 0.5}}, \"type\": \"barpolar\"}], \"carpet\": [{\"aaxis\": {\"endlinecolor\": \"#2a3f5f\", \"gridcolor\": \"white\", \"linecolor\": \"white\", \"minorgridcolor\": \"white\", \"startlinecolor\": \"#2a3f5f\"}, \"baxis\": {\"endlinecolor\": \"#2a3f5f\", \"gridcolor\": \"white\", \"linecolor\": \"white\", \"minorgridcolor\": \"white\", \"startlinecolor\": \"#2a3f5f\"}, \"type\": \"carpet\"}], \"choropleth\": [{\"colorbar\": {\"outlinewidth\": 0, \"ticks\": \"\"}, \"type\": \"choropleth\"}], \"contour\": [{\"colorbar\": {\"outlinewidth\": 0, \"ticks\": \"\"}, \"colorscale\": [[0.0, \"#0d0887\"], [0.1111111111111111, \"#46039f\"], [0.2222222222222222, \"#7201a8\"], [0.3333333333333333, \"#9c179e\"], [0.4444444444444444, \"#bd3786\"], [0.5555555555555556, \"#d8576b\"], [0.6666666666666666, \"#ed7953\"], [0.7777777777777778, \"#fb9f3a\"], [0.8888888888888888, \"#fdca26\"], [1.0, \"#f0f921\"]], \"type\": \"contour\"}], \"contourcarpet\": [{\"colorbar\": {\"outlinewidth\": 0, \"ticks\": \"\"}, \"type\": \"contourcarpet\"}], \"heatmap\": [{\"colorbar\": {\"outlinewidth\": 0, \"ticks\": \"\"}, \"colorscale\": [[0.0, \"#0d0887\"], [0.1111111111111111, \"#46039f\"], [0.2222222222222222, \"#7201a8\"], [0.3333333333333333, \"#9c179e\"], [0.4444444444444444, \"#bd3786\"], [0.5555555555555556, \"#d8576b\"], [0.6666666666666666, \"#ed7953\"], [0.7777777777777778, \"#fb9f3a\"], [0.8888888888888888, \"#fdca26\"], [1.0, \"#f0f921\"]], \"type\": \"heatmap\"}], \"heatmapgl\": [{\"colorbar\": {\"outlinewidth\": 0, \"ticks\": \"\"}, \"colorscale\": [[0.0, \"#0d0887\"], [0.1111111111111111, \"#46039f\"], [0.2222222222222222, \"#7201a8\"], [0.3333333333333333, \"#9c179e\"], [0.4444444444444444, \"#bd3786\"], [0.5555555555555556, \"#d8576b\"], [0.6666666666666666, \"#ed7953\"], [0.7777777777777778, \"#fb9f3a\"], [0.8888888888888888, \"#fdca26\"], [1.0, \"#f0f921\"]], \"type\": \"heatmapgl\"}], \"histogram\": [{\"marker\": {\"colorbar\": {\"outlinewidth\": 0, \"ticks\": \"\"}}, \"type\": \"histogram\"}], \"histogram2d\": [{\"colorbar\": {\"outlinewidth\": 0, \"ticks\": \"\"}, \"colorscale\": [[0.0, \"#0d0887\"], [0.1111111111111111, \"#46039f\"], [0.2222222222222222, \"#7201a8\"], [0.3333333333333333, \"#9c179e\"], [0.4444444444444444, \"#bd3786\"], [0.5555555555555556, \"#d8576b\"], [0.6666666666666666, \"#ed7953\"], [0.7777777777777778, \"#fb9f3a\"], [0.8888888888888888, \"#fdca26\"], [1.0, \"#f0f921\"]], \"type\": \"histogram2d\"}], \"histogram2dcontour\": [{\"colorbar\": {\"outlinewidth\": 0, \"ticks\": \"\"}, \"colorscale\": [[0.0, \"#0d0887\"], [0.1111111111111111, \"#46039f\"], [0.2222222222222222, \"#7201a8\"], [0.3333333333333333, \"#9c179e\"], [0.4444444444444444, \"#bd3786\"], [0.5555555555555556, \"#d8576b\"], [0.6666666666666666, \"#ed7953\"], [0.7777777777777778, \"#fb9f3a\"], [0.8888888888888888, \"#fdca26\"], [1.0, \"#f0f921\"]], \"type\": \"histogram2dcontour\"}], \"mesh3d\": [{\"colorbar\": {\"outlinewidth\": 0, \"ticks\": \"\"}, \"type\": \"mesh3d\"}], \"parcoords\": [{\"line\": {\"colorbar\": {\"outlinewidth\": 0, \"ticks\": \"\"}}, \"type\": \"parcoords\"}], \"pie\": [{\"automargin\": true, \"type\": \"pie\"}], \"scatter\": [{\"marker\": {\"colorbar\": {\"outlinewidth\": 0, \"ticks\": \"\"}}, \"type\": \"scatter\"}], \"scatter3d\": [{\"line\": {\"colorbar\": {\"outlinewidth\": 0, \"ticks\": \"\"}}, \"marker\": {\"colorbar\": {\"outlinewidth\": 0, \"ticks\": \"\"}}, \"type\": \"scatter3d\"}], \"scattercarpet\": [{\"marker\": {\"colorbar\": {\"outlinewidth\": 0, \"ticks\": \"\"}}, \"type\": \"scattercarpet\"}], \"scattergeo\": [{\"marker\": {\"colorbar\": {\"outlinewidth\": 0, \"ticks\": \"\"}}, \"type\": \"scattergeo\"}], \"scattergl\": [{\"marker\": {\"colorbar\": {\"outlinewidth\": 0, \"ticks\": \"\"}}, \"type\": \"scattergl\"}], \"scattermapbox\": [{\"marker\": {\"colorbar\": {\"outlinewidth\": 0, \"ticks\": \"\"}}, \"type\": \"scattermapbox\"}], \"scatterpolar\": [{\"marker\": {\"colorbar\": {\"outlinewidth\": 0, \"ticks\": \"\"}}, \"type\": \"scatterpolar\"}], \"scatterpolargl\": [{\"marker\": {\"colorbar\": {\"outlinewidth\": 0, \"ticks\": \"\"}}, \"type\": \"scatterpolargl\"}], \"scatterternary\": [{\"marker\": {\"colorbar\": {\"outlinewidth\": 0, \"ticks\": \"\"}}, \"type\": \"scatterternary\"}], \"surface\": [{\"colorbar\": {\"outlinewidth\": 0, \"ticks\": \"\"}, \"colorscale\": [[0.0, \"#0d0887\"], [0.1111111111111111, \"#46039f\"], [0.2222222222222222, \"#7201a8\"], [0.3333333333333333, \"#9c179e\"], [0.4444444444444444, \"#bd3786\"], [0.5555555555555556, \"#d8576b\"], [0.6666666666666666, \"#ed7953\"], [0.7777777777777778, \"#fb9f3a\"], [0.8888888888888888, \"#fdca26\"], [1.0, \"#f0f921\"]], \"type\": \"surface\"}], \"table\": [{\"cells\": {\"fill\": {\"color\": \"#EBF0F8\"}, \"line\": {\"color\": \"white\"}}, \"header\": {\"fill\": {\"color\": \"#C8D4E3\"}, \"line\": {\"color\": \"white\"}}, \"type\": \"table\"}]}, \"layout\": {\"annotationdefaults\": {\"arrowcolor\": \"#2a3f5f\", \"arrowhead\": 0, \"arrowwidth\": 1}, \"coloraxis\": {\"colorbar\": {\"outlinewidth\": 0, \"ticks\": \"\"}}, \"colorscale\": {\"diverging\": [[0, \"#8e0152\"], [0.1, \"#c51b7d\"], [0.2, \"#de77ae\"], [0.3, \"#f1b6da\"], [0.4, \"#fde0ef\"], [0.5, \"#f7f7f7\"], [0.6, \"#e6f5d0\"], [0.7, \"#b8e186\"], [0.8, \"#7fbc41\"], [0.9, \"#4d9221\"], [1, \"#276419\"]], \"sequential\": [[0.0, \"#0d0887\"], [0.1111111111111111, \"#46039f\"], [0.2222222222222222, \"#7201a8\"], [0.3333333333333333, \"#9c179e\"], [0.4444444444444444, \"#bd3786\"], [0.5555555555555556, \"#d8576b\"], [0.6666666666666666, \"#ed7953\"], [0.7777777777777778, \"#fb9f3a\"], [0.8888888888888888, \"#fdca26\"], [1.0, \"#f0f921\"]], \"sequentialminus\": [[0.0, \"#0d0887\"], [0.1111111111111111, \"#46039f\"], [0.2222222222222222, \"#7201a8\"], [0.3333333333333333, \"#9c179e\"], [0.4444444444444444, \"#bd3786\"], [0.5555555555555556, \"#d8576b\"], [0.6666666666666666, \"#ed7953\"], [0.7777777777777778, \"#fb9f3a\"], [0.8888888888888888, \"#fdca26\"], [1.0, \"#f0f921\"]]}, \"colorway\": [\"#636efa\", \"#EF553B\", \"#00cc96\", \"#ab63fa\", \"#FFA15A\", \"#19d3f3\", \"#FF6692\", \"#B6E880\", \"#FF97FF\", \"#FECB52\"], \"font\": {\"color\": \"#2a3f5f\"}, \"geo\": {\"bgcolor\": \"white\", \"lakecolor\": \"white\", \"landcolor\": \"#E5ECF6\", \"showlakes\": true, \"showland\": true, \"subunitcolor\": \"white\"}, \"hoverlabel\": {\"align\": \"left\"}, \"hovermode\": \"closest\", \"mapbox\": {\"style\": \"light\"}, \"paper_bgcolor\": \"white\", \"plot_bgcolor\": \"#E5ECF6\", \"polar\": {\"angularaxis\": {\"gridcolor\": \"white\", \"linecolor\": \"white\", \"ticks\": \"\"}, \"bgcolor\": \"#E5ECF6\", \"radialaxis\": {\"gridcolor\": \"white\", \"linecolor\": \"white\", \"ticks\": \"\"}}, \"scene\": {\"xaxis\": {\"backgroundcolor\": \"#E5ECF6\", \"gridcolor\": \"white\", \"gridwidth\": 2, \"linecolor\": \"white\", \"showbackground\": true, \"ticks\": \"\", \"zerolinecolor\": \"white\"}, \"yaxis\": {\"backgroundcolor\": \"#E5ECF6\", \"gridcolor\": \"white\", \"gridwidth\": 2, \"linecolor\": \"white\", \"showbackground\": true, \"ticks\": \"\", \"zerolinecolor\": \"white\"}, \"zaxis\": {\"backgroundcolor\": \"#E5ECF6\", \"gridcolor\": \"white\", \"gridwidth\": 2, \"linecolor\": \"white\", \"showbackground\": true, \"ticks\": \"\", \"zerolinecolor\": \"white\"}}, \"shapedefaults\": {\"line\": {\"color\": \"#2a3f5f\"}}, \"ternary\": {\"aaxis\": {\"gridcolor\": \"white\", \"linecolor\": \"white\", \"ticks\": \"\"}, \"baxis\": {\"gridcolor\": \"white\", \"linecolor\": \"white\", \"ticks\": \"\"}, \"bgcolor\": \"#E5ECF6\", \"caxis\": {\"gridcolor\": \"white\", \"linecolor\": \"white\", \"ticks\": \"\"}}, \"title\": {\"x\": 0.05}, \"xaxis\": {\"automargin\": true, \"gridcolor\": \"white\", \"linecolor\": \"white\", \"ticks\": \"\", \"title\": {\"standoff\": 15}, \"zerolinecolor\": \"white\", \"zerolinewidth\": 2}, \"yaxis\": {\"automargin\": true, \"gridcolor\": \"white\", \"linecolor\": \"white\", \"ticks\": \"\", \"title\": {\"standoff\": 15}, \"zerolinecolor\": \"white\", \"zerolinewidth\": 2}}}, \"title\": {\"font\": {\"color\": \"#D9D9D9\"}}, \"xaxis\": {\"gridcolor\": \"#434343\", \"showgrid\": true, \"tickfont\": {\"color\": \"#C2C2C2\"}, \"title\": {\"font\": {\"color\": \"#D9D9D9\"}, \"text\": \"\"}, \"zerolinecolor\": \"#666570\"}, \"yaxis\": {\"gridcolor\": \"#434343\", \"showgrid\": true, \"tickfont\": {\"color\": \"#C2C2C2\"}, \"title\": {\"font\": {\"color\": \"#D9D9D9\"}, \"text\": \"\"}, \"zerolinecolor\": \"#666570\"}},\n",
       "                        {\"showLink\": true, \"linkText\": \"Export to plot.ly\", \"plotlyServerURL\": \"https://plot.ly\", \"responsive\": true}\n",
       "                    ).then(function(){\n",
       "                            \n",
       "var gd = document.getElementById('c2132a01-9544-4a38-9540-3fd912c61bcc');\n",
       "var x = new MutationObserver(function (mutations, observer) {{\n",
       "        var display = window.getComputedStyle(gd).display;\n",
       "        if (!display || display === 'none') {{\n",
       "            console.log([gd, 'removed!']);\n",
       "            Plotly.purge(gd);\n",
       "            observer.disconnect();\n",
       "        }}\n",
       "}});\n",
       "\n",
       "// Listen for the removal of the full notebook cells\n",
       "var notebookContainer = gd.closest('#notebook-container');\n",
       "if (notebookContainer) {{\n",
       "    x.observe(notebookContainer, {childList: true});\n",
       "}}\n",
       "\n",
       "// Listen for the clearing of the current output cell\n",
       "var outputEl = gd.closest('.output');\n",
       "if (outputEl) {{\n",
       "    x.observe(outputEl, {childList: true});\n",
       "}}\n",
       "\n",
       "                        })\n",
       "                };\n",
       "                });\n",
       "            </script>\n",
       "        </div>"
      ]
     },
     "metadata": {},
     "output_type": "display_data"
    }
   ],
   "source": [
    "df_notfree.iplot(kind = 'scatter',x = 'Rating', y = 'Price',mode = 'markers',color = '#35e5e8',theme = 'Solar')"
   ]
  },
  {
   "cell_type": "markdown",
   "metadata": {},
   "source": [
    "We can see that the price of the most expensive app is 5449.00 with rating 3. We can get its name by data manipulation "
   ]
  },
  {
   "cell_type": "code",
   "execution_count": 96,
   "metadata": {},
   "outputs": [
    {
     "data": {
      "text/html": [
       "<div>\n",
       "<style scoped>\n",
       "    .dataframe tbody tr th:only-of-type {\n",
       "        vertical-align: middle;\n",
       "    }\n",
       "\n",
       "    .dataframe tbody tr th {\n",
       "        vertical-align: top;\n",
       "    }\n",
       "\n",
       "    .dataframe thead th {\n",
       "        text-align: right;\n",
       "    }\n",
       "</style>\n",
       "<table border=\"1\" class=\"dataframe\">\n",
       "  <thead>\n",
       "    <tr style=\"text-align: right;\">\n",
       "      <th></th>\n",
       "      <th>Name</th>\n",
       "      <th>Rating</th>\n",
       "      <th>No of people Rated</th>\n",
       "      <th>Category</th>\n",
       "      <th>Date</th>\n",
       "      <th>Price</th>\n",
       "    </tr>\n",
       "  </thead>\n",
       "  <tbody>\n",
       "    <tr>\n",
       "      <th>5175</th>\n",
       "      <td>Oxford Dictionary of English and Thesaurus</td>\n",
       "      <td>3.0</td>\n",
       "      <td>290</td>\n",
       "      <td>Books</td>\n",
       "      <td>23-01-2015</td>\n",
       "      <td>₹ 1,624.00</td>\n",
       "    </tr>\n",
       "    <tr>\n",
       "      <th>5201</th>\n",
       "      <td>Wikipedia-Search</td>\n",
       "      <td>3.0</td>\n",
       "      <td>117</td>\n",
       "      <td>Books</td>\n",
       "      <td>14-05-2019</td>\n",
       "      <td>₹ 54.00</td>\n",
       "    </tr>\n",
       "    <tr>\n",
       "      <th>5215</th>\n",
       "      <td>EZ Genealogy</td>\n",
       "      <td>3.0</td>\n",
       "      <td>937</td>\n",
       "      <td>Books</td>\n",
       "      <td>20-05-2020</td>\n",
       "      <td>₹ 109.00</td>\n",
       "    </tr>\n",
       "    <tr>\n",
       "      <th>5233</th>\n",
       "      <td>PDF Reader for Adobe PDF</td>\n",
       "      <td>3.0</td>\n",
       "      <td>354</td>\n",
       "      <td>Business</td>\n",
       "      <td>31-12-2019</td>\n",
       "      <td>₹ 574.00</td>\n",
       "    </tr>\n",
       "    <tr>\n",
       "      <th>5238</th>\n",
       "      <td>WebExHelper</td>\n",
       "      <td>3.0</td>\n",
       "      <td>397</td>\n",
       "      <td>Business</td>\n",
       "      <td>03-02-2017</td>\n",
       "      <td>₹ 54.00</td>\n",
       "    </tr>\n",
       "    <tr>\n",
       "      <th>5281</th>\n",
       "      <td>Pengwin Enterprise</td>\n",
       "      <td>3.0</td>\n",
       "      <td>368</td>\n",
       "      <td>Developer Tools</td>\n",
       "      <td>29-11-2018</td>\n",
       "      <td>₹ 5,449.00</td>\n",
       "    </tr>\n",
       "    <tr>\n",
       "      <th>5284</th>\n",
       "      <td>IP Scanner - Search for available IP addresses...</td>\n",
       "      <td>3.0</td>\n",
       "      <td>725</td>\n",
       "      <td>Developer Tools</td>\n",
       "      <td>22-08-2019</td>\n",
       "      <td>₹ 114.00</td>\n",
       "    </tr>\n",
       "    <tr>\n",
       "      <th>5286</th>\n",
       "      <td>Centos8</td>\n",
       "      <td>3.0</td>\n",
       "      <td>254</td>\n",
       "      <td>Developer Tools</td>\n",
       "      <td>25-05-2020</td>\n",
       "      <td>₹ 219.00</td>\n",
       "    </tr>\n",
       "    <tr>\n",
       "      <th>5290</th>\n",
       "      <td>Python Playground</td>\n",
       "      <td>3.0</td>\n",
       "      <td>457</td>\n",
       "      <td>Developer Tools</td>\n",
       "      <td>23-08-2018</td>\n",
       "      <td>₹ 54.00</td>\n",
       "    </tr>\n",
       "    <tr>\n",
       "      <th>5316</th>\n",
       "      <td>Get Color</td>\n",
       "      <td>3.0</td>\n",
       "      <td>785</td>\n",
       "      <td>Developer Tools</td>\n",
       "      <td>08-08-2019</td>\n",
       "      <td>₹ 54.50</td>\n",
       "    </tr>\n",
       "  </tbody>\n",
       "</table>\n",
       "</div>"
      ],
      "text/plain": [
       "                                                   Name  Rating  \\\n",
       "5175         Oxford Dictionary of English and Thesaurus     3.0   \n",
       "5201                                   Wikipedia-Search     3.0   \n",
       "5215                                       EZ Genealogy     3.0   \n",
       "5233                           PDF Reader for Adobe PDF     3.0   \n",
       "5238                                        WebExHelper     3.0   \n",
       "5281                                 Pengwin Enterprise     3.0   \n",
       "5284  IP Scanner - Search for available IP addresses...     3.0   \n",
       "5286                                            Centos8     3.0   \n",
       "5290                                  Python Playground     3.0   \n",
       "5316                                          Get Color     3.0   \n",
       "\n",
       "      No of people Rated         Category        Date       Price  \n",
       "5175                 290            Books  23-01-2015  ₹ 1,624.00  \n",
       "5201                 117            Books  14-05-2019     ₹ 54.00  \n",
       "5215                 937            Books  20-05-2020    ₹ 109.00  \n",
       "5233                 354         Business  31-12-2019    ₹ 574.00  \n",
       "5238                 397         Business  03-02-2017     ₹ 54.00  \n",
       "5281                 368  Developer Tools  29-11-2018  ₹ 5,449.00  \n",
       "5284                 725  Developer Tools  22-08-2019    ₹ 114.00  \n",
       "5286                 254  Developer Tools  25-05-2020    ₹ 219.00  \n",
       "5290                 457  Developer Tools  23-08-2018     ₹ 54.00  \n",
       "5316                 785  Developer Tools  08-08-2019     ₹ 54.50  "
      ]
     },
     "execution_count": 96,
     "metadata": {},
     "output_type": "execute_result"
    }
   ],
   "source": [
    "df_notfree[df_notfree['Rating'] == 3]"
   ]
  },
  {
   "cell_type": "markdown",
   "metadata": {},
   "source": [
    "The Name is Pengwin Enterprise. "
   ]
  },
  {
   "cell_type": "code",
   "execution_count": null,
   "metadata": {},
   "outputs": [],
   "source": []
  }
 ],
 "metadata": {
  "kernelspec": {
   "display_name": "Python 3",
   "language": "python",
   "name": "python3"
  },
  "language_info": {
   "codemirror_mode": {
    "name": "ipython",
    "version": 3
   },
   "file_extension": ".py",
   "mimetype": "text/x-python",
   "name": "python",
   "nbconvert_exporter": "python",
   "pygments_lexer": "ipython3",
   "version": "3.7.3"
  },
  "latex_envs": {
   "LaTeX_envs_menu_present": true,
   "autoclose": false,
   "autocomplete": true,
   "bibliofile": "biblio.bib",
   "cite_by": "apalike",
   "current_citInitial": 1,
   "eqLabelWithNumbers": true,
   "eqNumInitial": 1,
   "hotkeys": {
    "equation": "Ctrl-E",
    "itemize": "Ctrl-I"
   },
   "labels_anchors": false,
   "latex_user_defs": false,
   "report_style_numbering": false,
   "user_envs_cfg": false
  },
  "toc": {
   "base_numbering": 1,
   "nav_menu": {},
   "number_sections": false,
   "sideBar": true,
   "skip_h1_title": false,
   "title_cell": "Table of Contents",
   "title_sidebar": "Contents",
   "toc_cell": false,
   "toc_position": {},
   "toc_section_display": true,
   "toc_window_display": true
  }
 },
 "nbformat": 4,
 "nbformat_minor": 2
}
